{
 "cells": [
  {
   "cell_type": "code",
   "id": "initial_id",
   "metadata": {
    "collapsed": true,
    "ExecuteTime": {
     "end_time": "2025-03-09T21:40:43.670888Z",
     "start_time": "2025-03-09T21:40:43.522710Z"
    }
   },
   "source": [
    "import yfinance as yf\n",
    "start_date = '2019-01-01'\n",
    "end_date = '2024-12-31'\n",
    "ticker = yf.Ticker('GOOGL')\n",
    "df = yf.download(tickers='UNH,GS,MSFT,HD,SHW,V,CAT,AMGN,MCD,CRM', start=start_date, end=end_date)\n",
    "df.head()\n",
    "df.info()\n",
    "\n",
    "#Export to CSV\n",
    "df.to_csv(f'yahoo_finance_historical_data.csv')"
   ],
   "outputs": [
    {
     "name": "stderr",
     "output_type": "stream",
     "text": [
      "[*********************100%***********************]  10 of 10 completed"
     ]
    },
    {
     "name": "stdout",
     "output_type": "stream",
     "text": [
      "<class 'pandas.core.frame.DataFrame'>\n",
      "DatetimeIndex: 1509 entries, 2019-01-02 to 2024-12-30\n",
      "Data columns (total 50 columns):\n",
      " #   Column          Non-Null Count  Dtype  \n",
      "---  ------          --------------  -----  \n",
      " 0   (Close, AMGN)   1509 non-null   float64\n",
      " 1   (Close, CAT)    1509 non-null   float64\n",
      " 2   (Close, CRM)    1509 non-null   float64\n",
      " 3   (Close, GS)     1509 non-null   float64\n",
      " 4   (Close, HD)     1509 non-null   float64\n",
      " 5   (Close, MCD)    1509 non-null   float64\n",
      " 6   (Close, MSFT)   1509 non-null   float64\n",
      " 7   (Close, SHW)    1509 non-null   float64\n",
      " 8   (Close, UNH)    1509 non-null   float64\n",
      " 9   (Close, V)      1509 non-null   float64\n",
      " 10  (High, AMGN)    1509 non-null   float64\n",
      " 11  (High, CAT)     1509 non-null   float64\n",
      " 12  (High, CRM)     1509 non-null   float64\n",
      " 13  (High, GS)      1509 non-null   float64\n",
      " 14  (High, HD)      1509 non-null   float64\n",
      " 15  (High, MCD)     1509 non-null   float64\n",
      " 16  (High, MSFT)    1509 non-null   float64\n",
      " 17  (High, SHW)     1509 non-null   float64\n",
      " 18  (High, UNH)     1509 non-null   float64\n",
      " 19  (High, V)       1509 non-null   float64\n",
      " 20  (Low, AMGN)     1509 non-null   float64\n",
      " 21  (Low, CAT)      1509 non-null   float64\n",
      " 22  (Low, CRM)      1509 non-null   float64\n",
      " 23  (Low, GS)       1509 non-null   float64\n",
      " 24  (Low, HD)       1509 non-null   float64\n",
      " 25  (Low, MCD)      1509 non-null   float64\n",
      " 26  (Low, MSFT)     1509 non-null   float64\n",
      " 27  (Low, SHW)      1509 non-null   float64\n",
      " 28  (Low, UNH)      1509 non-null   float64\n",
      " 29  (Low, V)        1509 non-null   float64\n",
      " 30  (Open, AMGN)    1509 non-null   float64\n",
      " 31  (Open, CAT)     1509 non-null   float64\n",
      " 32  (Open, CRM)     1509 non-null   float64\n",
      " 33  (Open, GS)      1509 non-null   float64\n",
      " 34  (Open, HD)      1509 non-null   float64\n",
      " 35  (Open, MCD)     1509 non-null   float64\n",
      " 36  (Open, MSFT)    1509 non-null   float64\n",
      " 37  (Open, SHW)     1509 non-null   float64\n",
      " 38  (Open, UNH)     1509 non-null   float64\n",
      " 39  (Open, V)       1509 non-null   float64\n",
      " 40  (Volume, AMGN)  1509 non-null   int64  \n",
      " 41  (Volume, CAT)   1509 non-null   int64  \n",
      " 42  (Volume, CRM)   1509 non-null   int64  \n",
      " 43  (Volume, GS)    1509 non-null   int64  \n",
      " 44  (Volume, HD)    1509 non-null   int64  \n",
      " 45  (Volume, MCD)   1509 non-null   int64  \n",
      " 46  (Volume, MSFT)  1509 non-null   int64  \n",
      " 47  (Volume, SHW)   1509 non-null   int64  \n",
      " 48  (Volume, UNH)   1509 non-null   int64  \n",
      " 49  (Volume, V)     1509 non-null   int64  \n",
      "dtypes: float64(40), int64(10)\n",
      "memory usage: 601.2 KB\n"
     ]
    },
    {
     "name": "stderr",
     "output_type": "stream",
     "text": [
      "\n"
     ]
    }
   ],
   "execution_count": 10
  },
  {
   "metadata": {},
   "cell_type": "code",
   "outputs": [],
   "execution_count": null,
   "source": "",
   "id": "25570673af22fbde"
  }
 ],
 "metadata": {
  "kernelspec": {
   "display_name": "Python 3",
   "language": "python",
   "name": "python3"
  },
  "language_info": {
   "codemirror_mode": {
    "name": "ipython",
    "version": 2
   },
   "file_extension": ".py",
   "mimetype": "text/x-python",
   "name": "python",
   "nbconvert_exporter": "python",
   "pygments_lexer": "ipython2",
   "version": "2.7.6"
  }
 },
 "nbformat": 4,
 "nbformat_minor": 5
}
