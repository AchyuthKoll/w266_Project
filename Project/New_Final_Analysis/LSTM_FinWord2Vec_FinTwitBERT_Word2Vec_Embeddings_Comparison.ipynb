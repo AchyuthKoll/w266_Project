{
  "nbformat": 4,
  "nbformat_minor": 0,
  "metadata": {
    "colab": {
      "provenance": [],
      "gpuType": "T4"
    },
    "kernelspec": {
      "name": "python3",
      "display_name": "Python 3"
    },
    "language_info": {
      "name": "python"
    },
    "accelerator": "GPU"
  },
  "cells": [
    {
      "cell_type": "markdown",
      "source": [
        "## PART 1: Generate Daily Sentiment Embeddings (CLS / Mean / Max)"
      ],
      "metadata": {
        "id": "8ZnJgszlMqf7"
      }
    },
    {
      "cell_type": "code",
      "execution_count": 4,
      "metadata": {
        "colab": {
          "base_uri": "https://localhost:8080/"
        },
        "id": "4UW9A17qMcM2",
        "outputId": "4a6a6e79-95e6-4b30-9f85-201e8b5cb931"
      },
      "outputs": [
        {
          "output_type": "stream",
          "name": "stdout",
          "text": [
            "Drive already mounted at /content/drive; to attempt to forcibly remount, call drive.mount(\"/content/drive\", force_remount=True).\n"
          ]
        },
        {
          "output_type": "stream",
          "name": "stderr",
          "text": [
            "[nltk_data] Downloading package punkt to /root/nltk_data...\n",
            "[nltk_data]   Package punkt is already up-to-date!\n"
          ]
        }
      ],
      "source": [
        "# Install dependencies\n",
        "#!pip install transformers datasets tensorflow pandas numpy\n",
        "#!pip install datasets\n",
        "#!pip install --upgrade numpy\n",
        "#!pip install --upgrade gensim\n",
        "\n",
        "# Mount Google Drive\n",
        "from google.colab import drive\n",
        "drive.mount('/content/drive')\n",
        "\n",
        "# Imports\n",
        "import os\n",
        "import pickle\n",
        "import numpy as np\n",
        "import pandas as pd\n",
        "import matplotlib.pyplot as plt\n",
        "import seaborn as sns\n",
        "import tensorflow as tf\n",
        "from collections import defaultdict\n",
        "import nltk\n",
        "nltk.download(\"punkt\")\n",
        "from nltk.tokenize import word_tokenize\n",
        "import re\n",
        "from tqdm import tqdm\n",
        "from gensim.models import KeyedVectors\n",
        "from gensim.utils import simple_preprocess\n",
        "from sklearn.metrics import mean_absolute_error, accuracy_score\n",
        "from sklearn.preprocessing import StandardScaler\n",
        "from collections import defaultdict\n",
        "\n",
        "output_dir = \"/content/drive/MyDrive/DataSci266_Final_Project/FinWord_Word2Vec_embeddings\"\n",
        "os.makedirs(output_dir, exist_ok=True)"
      ]
    },
    {
      "cell_type": "code",
      "source": [
        "!pip install ta\n",
        "from ta import add_all_ta_features\n",
        "\n",
        "market_path = \"/content/drive/MyDrive/DataSci266_Final_Project/yahoo_finance_historical_data_10year.csv\"\n",
        "sentiment_path = \"/content/drive/MyDrive/DataSci266_Final_Project/finbert_embeddings/daily_sentiment_embeddings.pkl\"\n",
        "results_dir = \"/content/drive/MyDrive/DataSci266_Final_Project/combined_multiple_embeddings_lstm_results\"\n",
        "os.makedirs(results_dir, exist_ok=True)\n",
        "\n",
        "# Load sentiment\n",
        "with open(sentiment_path, \"rb\") as f:\n",
        "    sentiment_df = pickle.load(f)\n",
        "\n",
        "print(\"📂 Type of loaded object:\", type(sentiment_df))\n",
        "print(\"📋 Columns:\", sentiment_df.columns)\n",
        "print(\"🔍 Sample rows:\")\n",
        "print(sentiment_df.head())\n",
        "\n",
        "# Force re-parse the date column\n",
        "sentiment_df = pd.read_pickle(sentiment_path)\n",
        "\n",
        "# Convert to string first (in case of objects), then to datetime\n",
        "sentiment_df[\"date\"] = pd.to_datetime(sentiment_df[\"date\"].astype(str), errors='coerce')\n",
        "\n",
        "# Drop any invalid dates\n",
        "sentiment_df = sentiment_df.dropna(subset=[\"date\"])\n",
        "\n",
        "# Add lagged sentiment features\n",
        "sentiment_df[\"cls_shift_1\"] = sentiment_df[\"cls\"].shift(1)\n",
        "sentiment_df[\"cls_momentum\"] = sentiment_df[\"cls\"] - sentiment_df[\"cls_shift_1\"]\n",
        "\n",
        "# Confirm it worked\n",
        "print(\"✅ Fixed Sentiment dates:\", sentiment_df[\"date\"].min(), \"→\", sentiment_df[\"date\"].max())"
      ],
      "metadata": {
        "colab": {
          "base_uri": "https://localhost:8080/"
        },
        "id": "zohDxGb0CJGZ",
        "outputId": "171a3707-38e9-4e22-ac53-76fe8064ae1e"
      },
      "execution_count": 5,
      "outputs": [
        {
          "output_type": "stream",
          "name": "stdout",
          "text": [
            "Requirement already satisfied: ta in /usr/local/lib/python3.11/dist-packages (0.11.0)\n",
            "Requirement already satisfied: numpy in /usr/local/lib/python3.11/dist-packages (from ta) (1.26.4)\n",
            "Requirement already satisfied: pandas in /usr/local/lib/python3.11/dist-packages (from ta) (2.2.2)\n",
            "Requirement already satisfied: python-dateutil>=2.8.2 in /usr/local/lib/python3.11/dist-packages (from pandas->ta) (2.8.2)\n",
            "Requirement already satisfied: pytz>=2020.1 in /usr/local/lib/python3.11/dist-packages (from pandas->ta) (2025.2)\n",
            "Requirement already satisfied: tzdata>=2022.7 in /usr/local/lib/python3.11/dist-packages (from pandas->ta) (2025.2)\n",
            "Requirement already satisfied: six>=1.5 in /usr/local/lib/python3.11/dist-packages (from python-dateutil>=2.8.2->pandas->ta) (1.17.0)\n",
            "📂 Type of loaded object: <class 'pandas.core.frame.DataFrame'>\n",
            "📋 Columns: Index(['date', 'cls', 'mean', 'max', 'avg_sentiment'], dtype='object')\n",
            "🔍 Sample rows:\n",
            "          date                                                cls  \\\n",
            "441 2021-12-27  [-0.23162088, -0.537831, -0.11581464, 0.582418...   \n",
            "440 2022-01-02  [-0.22748329, -0.61845094, -0.04058229, 0.4155...   \n",
            "439 2022-01-03  [-0.15400232, -0.5237716, -0.059607867, 0.4547...   \n",
            "438 2022-01-04  [-0.17182718, -0.5494433, -0.0702886, 0.569090...   \n",
            "437 2022-01-05  [-0.11933209, -0.53722817, -0.1544225, 0.46808...   \n",
            "\n",
            "                                                  mean  \\\n",
            "441  [-0.39374432, -0.44676203, -0.3779505, 0.55620...   \n",
            "440  [-0.45924956, -0.51103616, -0.19575621, 0.3937...   \n",
            "439  [-0.34352374, -0.42859635, -0.23460747, 0.4499...   \n",
            "438  [-0.35483292, -0.42010704, -0.23844147, 0.4636...   \n",
            "437  [-0.3026388, -0.44002488, -0.29311842, 0.45087...   \n",
            "\n",
            "                                                   max  avg_sentiment  \n",
            "441  [0.98006344, 1.0974677, 1.10989, 1.7251962, 1....       0.365854  \n",
            "440  [0.8274415, 0.989637, 1.1023318, 1.5514319, 1....       0.000000  \n",
            "439  [0.9862221, 1.0849984, 1.1635466, 1.724017, 1....       0.000000  \n",
            "438  [0.9758261, 1.0423867, 1.1397113, 1.715952, 1....       0.000000  \n",
            "437  [1.0772831, 1.0340208, 1.1382293, 1.7334776, 1...       0.000000  \n",
            "✅ Fixed Sentiment dates: 2021-12-27 00:00:00 → 2024-04-03 00:00:00\n"
          ]
        }
      ]
    },
    {
      "cell_type": "code",
      "source": [
        "market_df = pd.read_csv(market_path, skiprows=[1, 2])\n",
        "market_df = market_df.rename(columns={\"Price\": \"Date\"})\n",
        "market_df[\"Date\"] = pd.to_datetime(market_df[\"Date\"])\n",
        "\n",
        "tickers = market_df.iloc[0, 1::5].values\n",
        "market_df = market_df[2:]\n",
        "\n",
        "data = []\n",
        "for i, ticker in enumerate(tickers):\n",
        "    try:\n",
        "        df = pd.DataFrame({\n",
        "            \"Date\": market_df[\"Date\"],\n",
        "            \"Ticker\": ticker,\n",
        "            \"Close\": market_df[f\"Close.{i}\"].astype(float),\n",
        "            \"Open\": market_df[f\"Open.{i}\"].astype(float),\n",
        "            \"High\": market_df[f\"High.{i}\"].astype(float),\n",
        "            \"Low\": market_df[f\"Low.{i}\"].astype(float),\n",
        "            \"Volume\": market_df[f\"Volume.{i}\"].astype(float),\n",
        "        })\n",
        "        df[\"Next_Close\"] = df[\"Close\"].shift(-1)\n",
        "        df[\"Return\"] = (df[\"Next_Close\"] - df[\"Close\"]) / df[\"Close\"]\n",
        "        # Add engineered features\n",
        "        df[\"ret_1\"] = df[\"Return\"].shift(1)\n",
        "        df[\"ret_3\"] = df[\"Return\"].rolling(3).mean()\n",
        "        df[\"ret_5\"] = df[\"Return\"].rolling(5).mean()\n",
        "        df[\"ret_vol_5\"] = df[\"Return\"].rolling(5).std()\n",
        "        df[\"ret_ratio_5\"] = df[\"ret_5\"] / (df[\"ret_vol_5\"] + 1e-6)\n",
        "        df = df.dropna()\n",
        "        data.append(df)\n",
        "    except:\n",
        "        continue\n",
        "\n",
        "market_long = pd.concat(data)\n",
        "market_long = market_long.groupby(\"Ticker\").apply(lambda x: add_all_ta_features(\n",
        "    x, open=\"Open\", high=\"High\", low=\"Low\", close=\"Close\", volume=\"Volume\", fillna=True\n",
        ")).reset_index(drop=True)\n",
        "\n",
        "# Filter dates to sentiment range\n",
        "start_date = sentiment_df[\"date\"].min()\n",
        "end_date = sentiment_df[\"date\"].max()\n",
        "market_long = market_long[(market_long[\"Date\"] >= start_date) & (market_long[\"Date\"] <= end_date)]\n",
        "# Merge with sentiment\n",
        "combined = market_long.merge(sentiment_df, left_on=\"Date\", right_on=\"date\").drop(columns=[\"date\"])\n",
        "print(\"Combined data shape:\", combined.shape)\n",
        "print(\"Date range:\", combined[\"Date\"].min(), \"to\", combined[\"Date\"].max())\n",
        "\n",
        "with open(\"/content/drive/MyDrive/DataSci266_Final_Project/finbert_embeddings/combined_dataset_with_avg_sentiment.pkl\", \"wb\") as f:\n",
        "    pickle.dump(combined, f)"
      ],
      "metadata": {
        "colab": {
          "base_uri": "https://localhost:8080/"
        },
        "id": "9U0wBOqPBsDH",
        "outputId": "b8fcb7d3-86c9-4337-8919-1873ec8f0f56"
      },
      "execution_count": 3,
      "outputs": [
        {
          "output_type": "stream",
          "name": "stderr",
          "text": [
            "<ipython-input-3-eec08ecc7e74>:34: DeprecationWarning: DataFrameGroupBy.apply operated on the grouping columns. This behavior is deprecated, and in a future version of pandas the grouping columns will be excluded from the operation. Either pass `include_groups=False` to exclude the groupings or explicitly select the grouping columns after groupby to silence this warning.\n",
            "  market_long = market_long.groupby(\"Ticker\").apply(lambda x: add_all_ta_features(\n"
          ]
        },
        {
          "output_type": "stream",
          "name": "stdout",
          "text": [
            "Combined data shape: (1212, 106)\n",
            "Date range: 2021-12-27 00:00:00 to 2023-12-22 00:00:00\n"
          ]
        }
      ]
    },
    {
      "cell_type": "code",
      "source": [
        "!pip install nltk\n",
        "import nltk\n",
        "nltk.download('punkt_tab')\n",
        "df = pd.read_csv(\"/content/sample_data/filtered_5_companies.csv\")\n",
        "\n",
        "tweets_tokenized_by_day = defaultdict(list)\n",
        "\n",
        "for _, row in df.iterrows():\n",
        "    text = row.get(\"description\")\n",
        "    timestamp = row.get(\"timestamp\")\n",
        "    if pd.isna(text) or pd.isna(timestamp):\n",
        "        continue\n",
        "\n",
        "    # Parse date only\n",
        "    date = timestamp.split(\"T\")[0]\n",
        "\n",
        "    # Clean and tokenize\n",
        "    cleaned = re.sub(r\"http\\\\S+|[^\\\\w\\\\s$]\", \"\", text.lower())\n",
        "    tokens = word_tokenize(cleaned)\n",
        "    if tokens:\n",
        "        tweets_tokenized_by_day[date].append(tokens)\n",
        "\n",
        "# Save to .pkl\n",
        "with open(\"tweets_tokenized_by_day.pkl\", \"wb\") as f:\n",
        "    pickle.dump(tweets_tokenized_by_day, f)\n",
        "\n",
        "print(f\"✅ Tokenized {len(tweets_tokenized_by_day)} days of tweets\")"
      ],
      "metadata": {
        "colab": {
          "base_uri": "https://localhost:8080/"
        },
        "id": "7qSaAH24NA20",
        "outputId": "32acf9e1-8372-4967-e57f-2eb9ac51de98"
      },
      "execution_count": 8,
      "outputs": [
        {
          "output_type": "stream",
          "name": "stdout",
          "text": [
            "Requirement already satisfied: nltk in /usr/local/lib/python3.11/dist-packages (3.9.1)\n",
            "Requirement already satisfied: click in /usr/local/lib/python3.11/dist-packages (from nltk) (8.1.8)\n",
            "Requirement already satisfied: joblib in /usr/local/lib/python3.11/dist-packages (from nltk) (1.4.2)\n",
            "Requirement already satisfied: regex>=2021.8.3 in /usr/local/lib/python3.11/dist-packages (from nltk) (2024.11.6)\n",
            "Requirement already satisfied: tqdm in /usr/local/lib/python3.11/dist-packages (from nltk) (4.67.1)\n"
          ]
        },
        {
          "output_type": "stream",
          "name": "stderr",
          "text": [
            "[nltk_data] Downloading package punkt_tab to /root/nltk_data...\n",
            "[nltk_data]   Unzipping tokenizers/punkt_tab.zip.\n"
          ]
        },
        {
          "output_type": "stream",
          "name": "stdout",
          "text": [
            "✅ Tokenized 441 days of tweets\n"
          ]
        }
      ]
    },
    {
      "cell_type": "code",
      "source": [
        "# Parameters\n",
        "window = 10\n",
        "binary = False\n",
        "embedding_types = [\"cls\", \"mean\", \"max\", \"w2v\", \"googlenews\"]\n",
        "feature_modes = [\"price-only\", \"sentiment-only\", \"combined\"]\n",
        "models = [\"dense\", \"lstm\"]"
      ],
      "metadata": {
        "id": "_BWbpoR43a8h"
      },
      "execution_count": 6,
      "outputs": []
    },
    {
      "cell_type": "code",
      "source": [
        "# Load combined dataset\n",
        "with open(\"/content/drive/MyDrive/DataSci266_Final_Project/finbert_embeddings/combined_dataset_with_avg_sentiment.pkl\", \"rb\") as f:\n",
        "    combined = pickle.load(f)\n",
        "\n",
        "# Load FinTwitBERT daily embeddings from pkl\n",
        "with open(\"/content/drive/MyDrive/DataSci266_Final_Project/finbert_embeddings/daily_sentiment_embeddings.pkl\", \"rb\") as f:\n",
        "    bert_df = pickle.load(f)\n",
        "\n",
        "bert_df[\"date\"] = pd.to_datetime(bert_df[\"date\"])\n",
        "combined[\"Date\"] = pd.to_datetime(combined[\"Date\"])\n",
        "combined = combined.merge(bert_df, left_on=\"Date\", right_on=\"date\", how=\"left\").drop(columns=\"date\")\n",
        "combined = combined.rename(columns={\n",
        "    \"cls_y\": \"cls\", \"mean_y\": \"mean\", \"max_y\": \"max\", \"avg_sentiment_y\": \"avg_sentiment\"\n",
        "}).drop(columns=[\"cls_x\", \"mean_x\", \"max_x\", \"avg_sentiment_x\"], errors=\"ignore\")"
      ],
      "metadata": {
        "id": "dIDJ5faW3uMI"
      },
      "execution_count": 7,
      "outputs": []
    },
    {
      "cell_type": "code",
      "source": [
        "# Load tokenized tweets and train custom Word2Vec\n",
        "with open(\"/content/tweets_tokenized_by_day.pkl\", \"rb\") as f:\n",
        "    tweets_by_day = pickle.load(f)\n",
        "\n",
        "from gensim.models import Word2Vec\n",
        "all_tokens = [tw for day in tweets_by_day.values() for tw in day]\n",
        "w2v_model = Word2Vec(sentences=all_tokens, vector_size=100, window=5, min_count=3, workers=4)"
      ],
      "metadata": {
        "id": "SqAzSUoWUpbq"
      },
      "execution_count": 9,
      "outputs": []
    },
    {
      "cell_type": "code",
      "source": [
        "import gzip\n",
        "import shutil\n",
        "\n",
        "# Replace 'your_uploaded_file.bin.gz' with the actual filename\n",
        "with gzip.open('/content/GoogleNews-vectors-negative300.bin.gz', 'rb') as f_in:\n",
        "    with open('/content/GoogleNews-vectors-negative300.bin', 'wb') as f_out:\n",
        "        shutil.copyfileobj(f_in, f_out)\n",
        "\n",
        "print(\"✅ Model unzipped successfully!\")"
      ],
      "metadata": {
        "colab": {
          "base_uri": "https://localhost:8080/"
        },
        "id": "r_zgjL7Bcrgo",
        "outputId": "7a0a5946-ccc6-4ce2-cc54-47c7bfda243d"
      },
      "execution_count": 33,
      "outputs": [
        {
          "output_type": "stream",
          "name": "stdout",
          "text": [
            "✅ Model unzipped successfully!\n"
          ]
        }
      ]
    },
    {
      "cell_type": "code",
      "source": [
        "from gensim.models import KeyedVectors\n",
        "\n",
        "file_path = \"/content/GoogleNews-vectors-negative300.bin\"  # Path to the unzipped file\n",
        "gnews_model = KeyedVectors.load_word2vec_format(file_path, binary=True)\n",
        "\n",
        "print(\"✅ Model loaded successfully!\")"
      ],
      "metadata": {
        "colab": {
          "base_uri": "https://localhost:8080/"
        },
        "id": "NM3KaZzBc38u",
        "outputId": "29435a1f-a254-40af-a814-23484da3b769"
      },
      "execution_count": 10,
      "outputs": [
        {
          "output_type": "stream",
          "name": "stdout",
          "text": [
            "✅ Model loaded successfully!\n"
          ]
        }
      ]
    },
    {
      "cell_type": "code",
      "source": [
        "# Generate daily embeddings from GoogleNews Word2Vec\n",
        "googlenews_daily = daily_embedding_from_model(gnews_model, tweets_by_day)\n",
        "\n",
        "# Convert to DataFrame\n",
        "googlenews_df = pd.DataFrame({\n",
        "    \"date\": list(googlenews_daily.keys()),\n",
        "    \"googlenews\": list(googlenews_daily.values())\n",
        "})\n",
        "googlenews_df[\"date\"] = pd.to_datetime(googlenews_df[\"date\"])\n",
        "\n",
        "# Merge with combined\n",
        "combined = combined.merge(googlenews_df, left_on=\"Date\", right_on=\"date\", how=\"left\").drop(columns=[\"date\"])"
      ],
      "metadata": {
        "id": "oJo7coWVsOXf"
      },
      "execution_count": 13,
      "outputs": []
    },
    {
      "cell_type": "code",
      "source": [
        "w2v_daily = daily_embedding_from_model(w2v_model.wv, tweets_by_day)\n",
        "w2v_df = pd.DataFrame({\n",
        "    \"date\": list(w2v_daily.keys()),\n",
        "    \"w2v\": list(w2v_daily.values())\n",
        "})\n",
        "w2v_df[\"date\"] = pd.to_datetime(w2v_df[\"date\"])\n",
        "combined = combined.merge(w2v_df, left_on=\"Date\", right_on=\"date\", how=\"left\").drop(columns=[\"date\"])\n",
        "# Keep only the most recent embeddings (usually the _y columns)\n",
        "combined = combined.rename(columns={\n",
        "    \"w2v_y\": \"w2v\",\n",
        "    \"googlenews_y\": \"googlenews\"\n",
        "}).drop(columns=[\"w2v_x\", \"googlenews_x\"], errors=\"ignore\")\n",
        "combined = combined.loc[:, ~combined.columns.duplicated()]\n"
      ],
      "metadata": {
        "id": "7bNWWikasRcG"
      },
      "execution_count": 14,
      "outputs": []
    },
    {
      "cell_type": "code",
      "source": [
        "# Function to aggregate tweet embeddings per day\n",
        "def daily_embedding_from_model(model, tweets_by_day):\n",
        "    daily = {}\n",
        "    for date, tweets in tweets_by_day.items():\n",
        "        vecs = []\n",
        "        for tokens in tweets:\n",
        "            v = [model[w] for w in tokens if w in model]\n",
        "            if v:\n",
        "                vecs.append(np.mean(v, axis=0))\n",
        "        if vecs:\n",
        "            daily[date] = np.mean(vecs, axis=0)\n",
        "    return daily"
      ],
      "metadata": {
        "id": "se2hdQbnWp65"
      },
      "execution_count": 12,
      "outputs": []
    },
    {
      "cell_type": "code",
      "source": [
        "# Compute and merge daily embeddings from Word2Vec models\n",
        "for key, model in zip([\"w2v\", \"googlenews\"], [w2v_model.wv, gnews_model]):\n",
        "    emb = daily_embedding_from_model(model, tweets_by_day)\n",
        "    df = pd.DataFrame({\"date\": list(emb.keys()), key: list(emb.values())})\n",
        "    df[\"date\"] = pd.to_datetime(df[\"date\"])\n",
        "    combined = combined.merge(df, left_on=\"Date\", right_on=\"date\", how=\"left\").drop(columns=\"date\")"
      ],
      "metadata": {
        "id": "rPE13jo5Wuhl"
      },
      "execution_count": 51,
      "outputs": []
    },
    {
      "cell_type": "code",
      "source": [
        "def safe_stack(vectors, expected_dim):\n",
        "    clean = []\n",
        "    for v in vectors:\n",
        "        if isinstance(v, (np.ndarray, list)) and len(v) == expected_dim:\n",
        "            clean.append(np.array(v))\n",
        "    return np.stack(clean) if clean else np.empty((0, expected_dim))"
      ],
      "metadata": {
        "id": "-FKT469wpnih"
      },
      "execution_count": 15,
      "outputs": []
    },
    {
      "cell_type": "markdown",
      "source": [
        "## STEP 3: Create Sequences for LSTM"
      ],
      "metadata": {
        "id": "oo1l-Z2nUOEQ"
      }
    },
    {
      "cell_type": "code",
      "source": [
        "# Feature prep\n",
        "def create_sequences(df, sentiment_key, mode=\"combined\", window=10, binary=False):\n",
        "    def safe_stack(vectors, expected_dim):\n",
        "        clean = [np.array(v) for v in vectors if isinstance(v, (list, np.ndarray)) and len(v) == expected_dim]\n",
        "        return np.stack(clean) if clean else np.empty((0, expected_dim))\n",
        "\n",
        "    # Determine embedding dimensions\n",
        "    expected_dim = 300 if sentiment_key == \"googlenews\" else 100 if sentiment_key == \"w2v\" else df[sentiment_key].iloc[0].shape[0]\n",
        "\n",
        "    # Safely stack sentiment embeddings\n",
        "    sentiment = safe_stack(df[sentiment_key].dropna().values, expected_dim)\n",
        "    if sentiment.shape[0] < window:\n",
        "        raise ValueError(f\"⚠️ Not enough valid vectors for {sentiment_key} ({sentiment.shape[0]} rows)\")\n",
        "\n",
        "    # Use fixed market feature list (consistent across tickers)\n",
        "    excluded = [\"Return\", \"Next_Close\", \"avg_sentiment\", \"Ticker\", \"Date\",\n",
        "                \"cls\", \"mean\", \"max\", \"w2v\", \"googlenews\"]\n",
        "    market_features = [col for col in df.columns if col not in excluded and df[col].dtype != 'O']\n",
        "\n",
        "    price = df[market_features].values\n",
        "    scaler = StandardScaler()\n",
        "    price_scaled = scaler.fit_transform(price)\n",
        "\n",
        "    # Align lengths\n",
        "    min_len = min(len(sentiment), len(price_scaled))\n",
        "    sentiment = sentiment[:min_len]\n",
        "    price_scaled = price_scaled[:min_len]\n",
        "\n",
        "    # Assemble final input features\n",
        "    if mode == \"price-only\":\n",
        "        X_full = price_scaled\n",
        "    elif mode == \"sentiment-only\":\n",
        "        X_full = sentiment\n",
        "    else:\n",
        "        sentiment_feat = sentiment\n",
        "        if \"avg_sentiment\" in df:\n",
        "            avg_sent = df[\"avg_sentiment\"].values[:len(sentiment)].reshape(-1, 1)\n",
        "            sentiment_feat = np.concatenate([sentiment_feat, avg_sent[:min_len]], axis=1)\n",
        "        X_full = np.concatenate([sentiment_feat[:min_len], price_scaled[:min_len]], axis=1)\n",
        "\n",
        "    # Create windowed sequences\n",
        "    X_seq, y = [], []\n",
        "    for i in range(len(X_full) - window - 1):\n",
        "        X_seq.append(X_full[i:i+window])\n",
        "        ret = df[\"Return\"].iloc[i + window]\n",
        "        y.append(int(ret > 0) if binary else ret)\n",
        "\n",
        "    return np.array(X_seq), np.array(y)"
      ],
      "metadata": {
        "id": "57DRuB-3UPFA"
      },
      "execution_count": 20,
      "outputs": []
    },
    {
      "cell_type": "code",
      "source": [
        "# Model builders\n",
        "def build_dense(input_shape):\n",
        "    return tf.keras.Sequential([\n",
        "        tf.keras.layers.Dense(128, activation='relu', input_shape=(input_shape,)),\n",
        "        tf.keras.layers.Dense(1 if not binary else 1, activation='sigmoid' if binary else None)\n",
        "    ])\n",
        "\n",
        "def build_lstm(input_shape):\n",
        "    return tf.keras.Sequential([\n",
        "        tf.keras.layers.Bidirectional(tf.keras.layers.LSTM(64, return_sequences=True)),\n",
        "        tf.keras.layers.LSTM(32, dropout=0.2),\n",
        "        tf.keras.layers.Dense(32, activation='relu'),\n",
        "        tf.keras.layers.Dense(1 if not binary else 1, activation='sigmoid' if binary else None)\n",
        "    ])"
      ],
      "metadata": {
        "id": "HvY5WnP9gGBu"
      },
      "execution_count": 17,
      "outputs": []
    },
    {
      "cell_type": "markdown",
      "source": [
        "##STEP 4: Train Dense + LSTM Per Embedding & Ticker"
      ],
      "metadata": {
        "id": "uj08zcWYURmZ"
      }
    },
    {
      "cell_type": "code",
      "source": [
        "# Run model comparisons\n",
        "results = []\n",
        "for feature_mode in feature_modes:\n",
        "    for embedding_key in embedding_types:\n",
        "        for model_type in models:\n",
        "            for ticker in tqdm(combined['Ticker'].unique(), desc=f\"{feature_mode}-{embedding_key}-{model_type}\"):\n",
        "                df_t = combined[combined['Ticker'] == ticker].copy()\n",
        "                try:\n",
        "                    X_seq, y = create_sequences(df_t, embedding_key, mode=feature_mode)\n",
        "                    if len(X_seq) < 50:\n",
        "                        continue\n",
        "\n",
        "                    split = int(0.8 * len(X_seq))\n",
        "                    X_train, X_test = X_seq[:split], X_seq[split:]\n",
        "                    y_train, y_test = y[:split], y[split:]\n",
        "\n",
        "                    if model_type == \"dense\":\n",
        "                        X_train_flat = X_train.reshape(X_train.shape[0], -1)\n",
        "                        X_test_flat = X_test.reshape(X_test.shape[0], -1)\n",
        "                        model = build_dense(X_train_flat.shape[1])\n",
        "                        X_tr, X_te = X_train_flat, X_test_flat\n",
        "                    else:\n",
        "                        model = build_lstm(X_train.shape[1:])\n",
        "                        X_tr, X_te = X_train, X_test\n",
        "\n",
        "                    model.compile(optimizer='adam', loss='mae')\n",
        "                    model.fit(X_tr, y_train, epochs=10, batch_size=32, verbose=0)\n",
        "                    y_pred = model.predict(X_te).flatten()\n",
        "\n",
        "                    mae = mean_absolute_error(y_test, y_pred)\n",
        "                    acc = accuracy_score(y_test > 0, y_pred > 0)\n",
        "                    results.append({\"Model\": model_type.upper(), \"Embedding\": embedding_key, \"FeatureSet\": feature_mode, \"MAE\": mae, \"Accuracy\": acc})\n",
        "\n",
        "                except Exception as e:\n",
        "                    print(f\"⚠️ {ticker} failed for {embedding_key}: {e}\")\n",
        "\n",
        "# Save results\n",
        "result_df = pd.DataFrame(results)\n",
        "result_df.to_csv(\"/content/drive/MyDrive/DataSci266_Final_Project/combined_lstm_results/final_model_comparison_all_embeddings.csv\", index=False)"
      ],
      "metadata": {
        "colab": {
          "base_uri": "https://localhost:8080/"
        },
        "id": "gEXWLfBuUUPN",
        "outputId": "3ecee2f5-68ef-4ed2-e288-50e071656028"
      },
      "execution_count": 21,
      "outputs": [
        {
          "output_type": "stream",
          "name": "stderr",
          "text": [
            "\rprice-only-cls-dense:   0%|          | 0/4 [00:00<?, ?it/s]/usr/local/lib/python3.11/dist-packages/keras/src/layers/core/dense.py:87: UserWarning: Do not pass an `input_shape`/`input_dim` argument to a layer. When using Sequential models, prefer using an `Input(shape)` object as the first layer in the model instead.\n",
            "  super().__init__(activity_regularizer=activity_regularizer, **kwargs)\n"
          ]
        },
        {
          "output_type": "stream",
          "name": "stdout",
          "text": [
            "\u001b[1m2/2\u001b[0m \u001b[32m━━━━━━━━━━━━━━━━━━━━\u001b[0m\u001b[37m\u001b[0m \u001b[1m0s\u001b[0m 137ms/step\n"
          ]
        },
        {
          "output_type": "stream",
          "name": "stderr",
          "text": [
            "\rprice-only-cls-dense:  25%|██▌       | 1/4 [00:03<00:09,  3.25s/it]/usr/local/lib/python3.11/dist-packages/keras/src/layers/core/dense.py:87: UserWarning: Do not pass an `input_shape`/`input_dim` argument to a layer. When using Sequential models, prefer using an `Input(shape)` object as the first layer in the model instead.\n",
            "  super().__init__(activity_regularizer=activity_regularizer, **kwargs)\n"
          ]
        },
        {
          "output_type": "stream",
          "name": "stdout",
          "text": [
            "\u001b[1m2/2\u001b[0m \u001b[32m━━━━━━━━━━━━━━━━━━━━\u001b[0m\u001b[37m\u001b[0m \u001b[1m0s\u001b[0m 105ms/step\n"
          ]
        },
        {
          "output_type": "stream",
          "name": "stderr",
          "text": [
            "\rprice-only-cls-dense:  50%|█████     | 2/4 [00:05<00:05,  2.55s/it]/usr/local/lib/python3.11/dist-packages/keras/src/layers/core/dense.py:87: UserWarning: Do not pass an `input_shape`/`input_dim` argument to a layer. When using Sequential models, prefer using an `Input(shape)` object as the first layer in the model instead.\n",
            "  super().__init__(activity_regularizer=activity_regularizer, **kwargs)\n"
          ]
        },
        {
          "output_type": "stream",
          "name": "stdout",
          "text": [
            "\u001b[1m2/2\u001b[0m \u001b[32m━━━━━━━━━━━━━━━━━━━━\u001b[0m\u001b[37m\u001b[0m \u001b[1m0s\u001b[0m 112ms/step\n"
          ]
        },
        {
          "output_type": "stream",
          "name": "stderr",
          "text": [
            "\rprice-only-cls-dense:  75%|███████▌  | 3/4 [00:07<00:02,  2.31s/it]/usr/local/lib/python3.11/dist-packages/keras/src/layers/core/dense.py:87: UserWarning: Do not pass an `input_shape`/`input_dim` argument to a layer. When using Sequential models, prefer using an `Input(shape)` object as the first layer in the model instead.\n",
            "  super().__init__(activity_regularizer=activity_regularizer, **kwargs)\n"
          ]
        },
        {
          "output_type": "stream",
          "name": "stdout",
          "text": [
            "\u001b[1m2/2\u001b[0m \u001b[32m━━━━━━━━━━━━━━━━━━━━\u001b[0m\u001b[37m\u001b[0m \u001b[1m0s\u001b[0m 97ms/step\n"
          ]
        },
        {
          "output_type": "stream",
          "name": "stderr",
          "text": [
            "price-only-cls-dense: 100%|██████████| 4/4 [00:09<00:00,  2.34s/it]\n",
            "price-only-cls-lstm:   0%|          | 0/4 [00:00<?, ?it/s]"
          ]
        },
        {
          "output_type": "stream",
          "name": "stdout",
          "text": [
            "\u001b[1m2/2\u001b[0m \u001b[32m━━━━━━━━━━━━━━━━━━━━\u001b[0m\u001b[37m\u001b[0m \u001b[1m1s\u001b[0m 404ms/step\n"
          ]
        },
        {
          "output_type": "stream",
          "name": "stderr",
          "text": [
            "\rprice-only-cls-lstm:  25%|██▌       | 1/4 [00:05<00:17,  5.77s/it]"
          ]
        },
        {
          "output_type": "stream",
          "name": "stdout",
          "text": [
            "\u001b[1m2/2\u001b[0m \u001b[32m━━━━━━━━━━━━━━━━━━━━\u001b[0m\u001b[37m\u001b[0m \u001b[1m1s\u001b[0m 277ms/step\n"
          ]
        },
        {
          "output_type": "stream",
          "name": "stderr",
          "text": [
            "\rprice-only-cls-lstm:  50%|█████     | 2/4 [00:10<00:10,  5.33s/it]"
          ]
        },
        {
          "output_type": "stream",
          "name": "stdout",
          "text": [
            "\u001b[1m2/2\u001b[0m \u001b[32m━━━━━━━━━━━━━━━━━━━━\u001b[0m\u001b[37m\u001b[0m \u001b[1m1s\u001b[0m 284ms/step\n"
          ]
        },
        {
          "output_type": "stream",
          "name": "stderr",
          "text": [
            "\rprice-only-cls-lstm:  75%|███████▌  | 3/4 [00:15<00:05,  5.14s/it]"
          ]
        },
        {
          "output_type": "stream",
          "name": "stdout",
          "text": [
            "\u001b[1m2/2\u001b[0m \u001b[32m━━━━━━━━━━━━━━━━━━━━\u001b[0m\u001b[37m\u001b[0m \u001b[1m1s\u001b[0m 296ms/step\n"
          ]
        },
        {
          "output_type": "stream",
          "name": "stderr",
          "text": [
            "price-only-cls-lstm: 100%|██████████| 4/4 [00:21<00:00,  5.37s/it]\n",
            "price-only-mean-dense:   0%|          | 0/4 [00:00<?, ?it/s]/usr/local/lib/python3.11/dist-packages/keras/src/layers/core/dense.py:87: UserWarning: Do not pass an `input_shape`/`input_dim` argument to a layer. When using Sequential models, prefer using an `Input(shape)` object as the first layer in the model instead.\n",
            "  super().__init__(activity_regularizer=activity_regularizer, **kwargs)\n"
          ]
        },
        {
          "output_type": "stream",
          "name": "stdout",
          "text": [
            "\u001b[1m2/2\u001b[0m \u001b[32m━━━━━━━━━━━━━━━━━━━━\u001b[0m\u001b[37m\u001b[0m \u001b[1m0s\u001b[0m 97ms/step\n"
          ]
        },
        {
          "output_type": "stream",
          "name": "stderr",
          "text": [
            "\rprice-only-mean-dense:  25%|██▌       | 1/4 [00:01<00:05,  1.93s/it]/usr/local/lib/python3.11/dist-packages/keras/src/layers/core/dense.py:87: UserWarning: Do not pass an `input_shape`/`input_dim` argument to a layer. When using Sequential models, prefer using an `Input(shape)` object as the first layer in the model instead.\n",
            "  super().__init__(activity_regularizer=activity_regularizer, **kwargs)\n"
          ]
        },
        {
          "output_type": "stream",
          "name": "stdout",
          "text": [
            "\u001b[1m2/2\u001b[0m \u001b[32m━━━━━━━━━━━━━━━━━━━━\u001b[0m\u001b[37m\u001b[0m \u001b[1m0s\u001b[0m 94ms/step\n"
          ]
        },
        {
          "output_type": "stream",
          "name": "stderr",
          "text": [
            "\rprice-only-mean-dense:  50%|█████     | 2/4 [00:03<00:03,  1.93s/it]/usr/local/lib/python3.11/dist-packages/keras/src/layers/core/dense.py:87: UserWarning: Do not pass an `input_shape`/`input_dim` argument to a layer. When using Sequential models, prefer using an `Input(shape)` object as the first layer in the model instead.\n",
            "  super().__init__(activity_regularizer=activity_regularizer, **kwargs)\n"
          ]
        },
        {
          "output_type": "stream",
          "name": "stdout",
          "text": [
            "\u001b[1m2/2\u001b[0m \u001b[32m━━━━━━━━━━━━━━━━━━━━\u001b[0m\u001b[37m\u001b[0m \u001b[1m0s\u001b[0m 96ms/step\n"
          ]
        },
        {
          "output_type": "stream",
          "name": "stderr",
          "text": [
            "\rprice-only-mean-dense:  75%|███████▌  | 3/4 [00:05<00:01,  1.99s/it]/usr/local/lib/python3.11/dist-packages/keras/src/layers/core/dense.py:87: UserWarning: Do not pass an `input_shape`/`input_dim` argument to a layer. When using Sequential models, prefer using an `Input(shape)` object as the first layer in the model instead.\n",
            "  super().__init__(activity_regularizer=activity_regularizer, **kwargs)\n"
          ]
        },
        {
          "output_type": "stream",
          "name": "stdout",
          "text": [
            "\u001b[1m2/2\u001b[0m \u001b[32m━━━━━━━━━━━━━━━━━━━━\u001b[0m\u001b[37m\u001b[0m \u001b[1m0s\u001b[0m 133ms/step\n"
          ]
        },
        {
          "output_type": "stream",
          "name": "stderr",
          "text": [
            "price-only-mean-dense: 100%|██████████| 4/4 [00:07<00:00,  1.99s/it]\n",
            "price-only-mean-lstm:   0%|          | 0/4 [00:00<?, ?it/s]"
          ]
        },
        {
          "output_type": "stream",
          "name": "stdout",
          "text": [
            "\u001b[1m2/2\u001b[0m \u001b[32m━━━━━━━━━━━━━━━━━━━━\u001b[0m\u001b[37m\u001b[0m \u001b[1m1s\u001b[0m 279ms/step\n"
          ]
        },
        {
          "output_type": "stream",
          "name": "stderr",
          "text": [
            "\rprice-only-mean-lstm:  25%|██▌       | 1/4 [00:05<00:16,  5.60s/it]"
          ]
        },
        {
          "output_type": "stream",
          "name": "stdout",
          "text": [
            "\u001b[1m2/2\u001b[0m \u001b[32m━━━━━━━━━━━━━━━━━━━━\u001b[0m\u001b[37m\u001b[0m \u001b[1m1s\u001b[0m 293ms/step\n"
          ]
        },
        {
          "output_type": "stream",
          "name": "stderr",
          "text": [
            "\rprice-only-mean-lstm:  50%|█████     | 2/4 [00:10<00:10,  5.18s/it]"
          ]
        },
        {
          "output_type": "stream",
          "name": "stdout",
          "text": [
            "\u001b[1m2/2\u001b[0m \u001b[32m━━━━━━━━━━━━━━━━━━━━\u001b[0m\u001b[37m\u001b[0m \u001b[1m1s\u001b[0m 286ms/step\n"
          ]
        },
        {
          "output_type": "stream",
          "name": "stderr",
          "text": [
            "\rprice-only-mean-lstm:  75%|███████▌  | 3/4 [00:16<00:05,  5.55s/it]"
          ]
        },
        {
          "output_type": "stream",
          "name": "stdout",
          "text": [
            "\u001b[1m2/2\u001b[0m \u001b[32m━━━━━━━━━━━━━━━━━━━━\u001b[0m\u001b[37m\u001b[0m \u001b[1m1s\u001b[0m 297ms/step\n"
          ]
        },
        {
          "output_type": "stream",
          "name": "stderr",
          "text": [
            "price-only-mean-lstm: 100%|██████████| 4/4 [00:23<00:00,  5.94s/it]\n",
            "price-only-max-dense:   0%|          | 0/4 [00:00<?, ?it/s]/usr/local/lib/python3.11/dist-packages/keras/src/layers/core/dense.py:87: UserWarning: Do not pass an `input_shape`/`input_dim` argument to a layer. When using Sequential models, prefer using an `Input(shape)` object as the first layer in the model instead.\n",
            "  super().__init__(activity_regularizer=activity_regularizer, **kwargs)\n"
          ]
        },
        {
          "output_type": "stream",
          "name": "stdout",
          "text": [
            "\u001b[1m2/2\u001b[0m \u001b[32m━━━━━━━━━━━━━━━━━━━━\u001b[0m\u001b[37m\u001b[0m \u001b[1m0s\u001b[0m 132ms/step\n"
          ]
        },
        {
          "output_type": "stream",
          "name": "stderr",
          "text": [
            "\rprice-only-max-dense:  25%|██▌       | 1/4 [00:02<00:06,  2.29s/it]/usr/local/lib/python3.11/dist-packages/keras/src/layers/core/dense.py:87: UserWarning: Do not pass an `input_shape`/`input_dim` argument to a layer. When using Sequential models, prefer using an `Input(shape)` object as the first layer in the model instead.\n",
            "  super().__init__(activity_regularizer=activity_regularizer, **kwargs)\n"
          ]
        },
        {
          "output_type": "stream",
          "name": "stdout",
          "text": [
            "\u001b[1m2/2\u001b[0m \u001b[32m━━━━━━━━━━━━━━━━━━━━\u001b[0m\u001b[37m\u001b[0m \u001b[1m0s\u001b[0m 97ms/step\n"
          ]
        },
        {
          "output_type": "stream",
          "name": "stderr",
          "text": [
            "\rprice-only-max-dense:  50%|█████     | 2/4 [00:05<00:05,  2.72s/it]/usr/local/lib/python3.11/dist-packages/keras/src/layers/core/dense.py:87: UserWarning: Do not pass an `input_shape`/`input_dim` argument to a layer. When using Sequential models, prefer using an `Input(shape)` object as the first layer in the model instead.\n",
            "  super().__init__(activity_regularizer=activity_regularizer, **kwargs)\n"
          ]
        },
        {
          "output_type": "stream",
          "name": "stdout",
          "text": [
            "\u001b[1m2/2\u001b[0m \u001b[32m━━━━━━━━━━━━━━━━━━━━\u001b[0m\u001b[37m\u001b[0m \u001b[1m0s\u001b[0m 94ms/step\n"
          ]
        },
        {
          "output_type": "stream",
          "name": "stderr",
          "text": [
            "\rprice-only-max-dense:  75%|███████▌  | 3/4 [00:07<00:02,  2.37s/it]/usr/local/lib/python3.11/dist-packages/keras/src/layers/core/dense.py:87: UserWarning: Do not pass an `input_shape`/`input_dim` argument to a layer. When using Sequential models, prefer using an `Input(shape)` object as the first layer in the model instead.\n",
            "  super().__init__(activity_regularizer=activity_regularizer, **kwargs)\n"
          ]
        },
        {
          "output_type": "stream",
          "name": "stdout",
          "text": [
            "\u001b[1m2/2\u001b[0m \u001b[32m━━━━━━━━━━━━━━━━━━━━\u001b[0m\u001b[37m\u001b[0m \u001b[1m0s\u001b[0m 96ms/step\n"
          ]
        },
        {
          "output_type": "stream",
          "name": "stderr",
          "text": [
            "price-only-max-dense: 100%|██████████| 4/4 [00:09<00:00,  2.32s/it]\n",
            "price-only-max-lstm:   0%|          | 0/4 [00:00<?, ?it/s]"
          ]
        },
        {
          "output_type": "stream",
          "name": "stdout",
          "text": [
            "\u001b[1m2/2\u001b[0m \u001b[32m━━━━━━━━━━━━━━━━━━━━\u001b[0m\u001b[37m\u001b[0m \u001b[1m1s\u001b[0m 290ms/step\n"
          ]
        },
        {
          "output_type": "stream",
          "name": "stderr",
          "text": [
            "\rprice-only-max-lstm:  25%|██▌       | 1/4 [00:04<00:14,  4.92s/it]"
          ]
        },
        {
          "output_type": "stream",
          "name": "stdout",
          "text": [
            "\u001b[1m2/2\u001b[0m \u001b[32m━━━━━━━━━━━━━━━━━━━━\u001b[0m\u001b[37m\u001b[0m \u001b[1m1s\u001b[0m 285ms/step\n"
          ]
        },
        {
          "output_type": "stream",
          "name": "stderr",
          "text": [
            "\rprice-only-max-lstm:  50%|█████     | 2/4 [00:10<00:10,  5.40s/it]"
          ]
        },
        {
          "output_type": "stream",
          "name": "stdout",
          "text": [
            "\u001b[1m2/2\u001b[0m \u001b[32m━━━━━━━━━━━━━━━━━━━━\u001b[0m\u001b[37m\u001b[0m \u001b[1m1s\u001b[0m 281ms/step\n"
          ]
        },
        {
          "output_type": "stream",
          "name": "stderr",
          "text": [
            "\rprice-only-max-lstm:  75%|███████▌  | 3/4 [00:15<00:05,  5.18s/it]"
          ]
        },
        {
          "output_type": "stream",
          "name": "stdout",
          "text": [
            "\u001b[1m2/2\u001b[0m \u001b[32m━━━━━━━━━━━━━━━━━━━━\u001b[0m\u001b[37m\u001b[0m \u001b[1m1s\u001b[0m 284ms/step\n"
          ]
        },
        {
          "output_type": "stream",
          "name": "stderr",
          "text": [
            "price-only-max-lstm: 100%|██████████| 4/4 [00:21<00:00,  5.34s/it]\n",
            "price-only-w2v-dense:   0%|          | 0/4 [00:00<?, ?it/s]/usr/local/lib/python3.11/dist-packages/keras/src/layers/core/dense.py:87: UserWarning: Do not pass an `input_shape`/`input_dim` argument to a layer. When using Sequential models, prefer using an `Input(shape)` object as the first layer in the model instead.\n",
            "  super().__init__(activity_regularizer=activity_regularizer, **kwargs)\n"
          ]
        },
        {
          "output_type": "stream",
          "name": "stdout",
          "text": [
            "\u001b[1m2/2\u001b[0m \u001b[32m━━━━━━━━━━━━━━━━━━━━\u001b[0m\u001b[37m\u001b[0m \u001b[1m0s\u001b[0m 144ms/step\n"
          ]
        },
        {
          "output_type": "stream",
          "name": "stderr",
          "text": [
            "\rprice-only-w2v-dense:  25%|██▌       | 1/4 [00:02<00:06,  2.15s/it]/usr/local/lib/python3.11/dist-packages/keras/src/layers/core/dense.py:87: UserWarning: Do not pass an `input_shape`/`input_dim` argument to a layer. When using Sequential models, prefer using an `Input(shape)` object as the first layer in the model instead.\n",
            "  super().__init__(activity_regularizer=activity_regularizer, **kwargs)\n"
          ]
        },
        {
          "output_type": "stream",
          "name": "stdout",
          "text": [
            "\u001b[1m2/2\u001b[0m \u001b[32m━━━━━━━━━━━━━━━━━━━━\u001b[0m\u001b[37m\u001b[0m \u001b[1m0s\u001b[0m 99ms/step\n"
          ]
        },
        {
          "output_type": "stream",
          "name": "stderr",
          "text": [
            "\rprice-only-w2v-dense:  50%|█████     | 2/4 [00:04<00:04,  2.08s/it]/usr/local/lib/python3.11/dist-packages/keras/src/layers/core/dense.py:87: UserWarning: Do not pass an `input_shape`/`input_dim` argument to a layer. When using Sequential models, prefer using an `Input(shape)` object as the first layer in the model instead.\n",
            "  super().__init__(activity_regularizer=activity_regularizer, **kwargs)\n"
          ]
        },
        {
          "output_type": "stream",
          "name": "stdout",
          "text": [
            "\u001b[1m2/2\u001b[0m \u001b[32m━━━━━━━━━━━━━━━━━━━━\u001b[0m\u001b[37m\u001b[0m \u001b[1m0s\u001b[0m 97ms/step\n"
          ]
        },
        {
          "output_type": "stream",
          "name": "stderr",
          "text": [
            "\rprice-only-w2v-dense:  75%|███████▌  | 3/4 [00:06<00:02,  2.02s/it]/usr/local/lib/python3.11/dist-packages/keras/src/layers/core/dense.py:87: UserWarning: Do not pass an `input_shape`/`input_dim` argument to a layer. When using Sequential models, prefer using an `Input(shape)` object as the first layer in the model instead.\n",
            "  super().__init__(activity_regularizer=activity_regularizer, **kwargs)\n"
          ]
        },
        {
          "output_type": "stream",
          "name": "stdout",
          "text": [
            "\u001b[1m2/2\u001b[0m \u001b[32m━━━━━━━━━━━━━━━━━━━━\u001b[0m\u001b[37m\u001b[0m \u001b[1m0s\u001b[0m 99ms/step\n"
          ]
        },
        {
          "output_type": "stream",
          "name": "stderr",
          "text": [
            "price-only-w2v-dense: 100%|██████████| 4/4 [00:08<00:00,  2.05s/it]\n",
            "price-only-w2v-lstm:   0%|          | 0/4 [00:00<?, ?it/s]"
          ]
        },
        {
          "output_type": "stream",
          "name": "stdout",
          "text": [
            "\u001b[1m2/2\u001b[0m \u001b[32m━━━━━━━━━━━━━━━━━━━━\u001b[0m\u001b[37m\u001b[0m \u001b[1m1s\u001b[0m 276ms/step\n"
          ]
        },
        {
          "output_type": "stream",
          "name": "stderr",
          "text": [
            "\rprice-only-w2v-lstm:  25%|██▌       | 1/4 [00:05<00:16,  5.58s/it]"
          ]
        },
        {
          "output_type": "stream",
          "name": "stdout",
          "text": [
            "\u001b[1m2/2\u001b[0m \u001b[32m━━━━━━━━━━━━━━━━━━━━\u001b[0m\u001b[37m\u001b[0m \u001b[1m1s\u001b[0m 277ms/step\n"
          ]
        },
        {
          "output_type": "stream",
          "name": "stderr",
          "text": [
            "\rprice-only-w2v-lstm:  50%|█████     | 2/4 [00:10<00:10,  5.09s/it]"
          ]
        },
        {
          "output_type": "stream",
          "name": "stdout",
          "text": [
            "\u001b[1m2/2\u001b[0m \u001b[32m━━━━━━━━━━━━━━━━━━━━\u001b[0m\u001b[37m\u001b[0m \u001b[1m1s\u001b[0m 413ms/step\n"
          ]
        },
        {
          "output_type": "stream",
          "name": "stderr",
          "text": [
            "\rprice-only-w2v-lstm:  75%|███████▌  | 3/4 [00:15<00:05,  5.34s/it]"
          ]
        },
        {
          "output_type": "stream",
          "name": "stdout",
          "text": [
            "\u001b[1m2/2\u001b[0m \u001b[32m━━━━━━━━━━━━━━━━━━━━\u001b[0m\u001b[37m\u001b[0m \u001b[1m1s\u001b[0m 289ms/step\n"
          ]
        },
        {
          "output_type": "stream",
          "name": "stderr",
          "text": [
            "price-only-w2v-lstm: 100%|██████████| 4/4 [00:20<00:00,  5.21s/it]\n",
            "price-only-googlenews-dense:   0%|          | 0/4 [00:00<?, ?it/s]/usr/local/lib/python3.11/dist-packages/keras/src/layers/core/dense.py:87: UserWarning: Do not pass an `input_shape`/`input_dim` argument to a layer. When using Sequential models, prefer using an `Input(shape)` object as the first layer in the model instead.\n",
            "  super().__init__(activity_regularizer=activity_regularizer, **kwargs)\n"
          ]
        },
        {
          "output_type": "stream",
          "name": "stdout",
          "text": [
            "\u001b[1m2/2\u001b[0m \u001b[32m━━━━━━━━━━━━━━━━━━━━\u001b[0m\u001b[37m\u001b[0m \u001b[1m0s\u001b[0m 97ms/step\n"
          ]
        },
        {
          "output_type": "stream",
          "name": "stderr",
          "text": [
            "\rprice-only-googlenews-dense:  25%|██▌       | 1/4 [00:01<00:05,  1.99s/it]/usr/local/lib/python3.11/dist-packages/keras/src/layers/core/dense.py:87: UserWarning: Do not pass an `input_shape`/`input_dim` argument to a layer. When using Sequential models, prefer using an `Input(shape)` object as the first layer in the model instead.\n",
            "  super().__init__(activity_regularizer=activity_regularizer, **kwargs)\n"
          ]
        },
        {
          "output_type": "stream",
          "name": "stdout",
          "text": [
            "\u001b[1m2/2\u001b[0m \u001b[32m━━━━━━━━━━━━━━━━━━━━\u001b[0m\u001b[37m\u001b[0m \u001b[1m0s\u001b[0m 95ms/step\n"
          ]
        },
        {
          "output_type": "stream",
          "name": "stderr",
          "text": [
            "\rprice-only-googlenews-dense:  50%|█████     | 2/4 [00:03<00:03,  1.89s/it]/usr/local/lib/python3.11/dist-packages/keras/src/layers/core/dense.py:87: UserWarning: Do not pass an `input_shape`/`input_dim` argument to a layer. When using Sequential models, prefer using an `Input(shape)` object as the first layer in the model instead.\n",
            "  super().__init__(activity_regularizer=activity_regularizer, **kwargs)\n"
          ]
        },
        {
          "output_type": "stream",
          "name": "stdout",
          "text": [
            "\u001b[1m2/2\u001b[0m \u001b[32m━━━━━━━━━━━━━━━━━━━━\u001b[0m\u001b[37m\u001b[0m \u001b[1m0s\u001b[0m 106ms/step\n"
          ]
        },
        {
          "output_type": "stream",
          "name": "stderr",
          "text": [
            "\rprice-only-googlenews-dense:  75%|███████▌  | 3/4 [00:05<00:01,  1.92s/it]/usr/local/lib/python3.11/dist-packages/keras/src/layers/core/dense.py:87: UserWarning: Do not pass an `input_shape`/`input_dim` argument to a layer. When using Sequential models, prefer using an `Input(shape)` object as the first layer in the model instead.\n",
            "  super().__init__(activity_regularizer=activity_regularizer, **kwargs)\n"
          ]
        },
        {
          "output_type": "stream",
          "name": "stdout",
          "text": [
            "\u001b[1m2/2\u001b[0m \u001b[32m━━━━━━━━━━━━━━━━━━━━\u001b[0m\u001b[37m\u001b[0m \u001b[1m0s\u001b[0m 107ms/step\n"
          ]
        },
        {
          "output_type": "stream",
          "name": "stderr",
          "text": [
            "price-only-googlenews-dense: 100%|██████████| 4/4 [00:08<00:00,  2.14s/it]\n",
            "price-only-googlenews-lstm:   0%|          | 0/4 [00:00<?, ?it/s]"
          ]
        },
        {
          "output_type": "stream",
          "name": "stdout",
          "text": [
            "\u001b[1m2/2\u001b[0m \u001b[32m━━━━━━━━━━━━━━━━━━━━\u001b[0m\u001b[37m\u001b[0m \u001b[1m1s\u001b[0m 315ms/step\n"
          ]
        },
        {
          "output_type": "stream",
          "name": "stderr",
          "text": [
            "\rprice-only-googlenews-lstm:  25%|██▌       | 1/4 [00:04<00:14,  4.88s/it]"
          ]
        },
        {
          "output_type": "stream",
          "name": "stdout",
          "text": [
            "\u001b[1m2/2\u001b[0m \u001b[32m━━━━━━━━━━━━━━━━━━━━\u001b[0m\u001b[37m\u001b[0m \u001b[1m1s\u001b[0m 289ms/step\n"
          ]
        },
        {
          "output_type": "stream",
          "name": "stderr",
          "text": [
            "\rprice-only-googlenews-lstm:  50%|█████     | 2/4 [00:09<00:09,  4.80s/it]"
          ]
        },
        {
          "output_type": "stream",
          "name": "stdout",
          "text": [
            "\u001b[1m2/2\u001b[0m \u001b[32m━━━━━━━━━━━━━━━━━━━━\u001b[0m\u001b[37m\u001b[0m \u001b[1m1s\u001b[0m 311ms/step\n"
          ]
        },
        {
          "output_type": "stream",
          "name": "stderr",
          "text": [
            "\rprice-only-googlenews-lstm:  75%|███████▌  | 3/4 [00:15<00:05,  5.20s/it]"
          ]
        },
        {
          "output_type": "stream",
          "name": "stdout",
          "text": [
            "\u001b[1m2/2\u001b[0m \u001b[32m━━━━━━━━━━━━━━━━━━━━\u001b[0m\u001b[37m\u001b[0m \u001b[1m1s\u001b[0m 277ms/step\n"
          ]
        },
        {
          "output_type": "stream",
          "name": "stderr",
          "text": [
            "price-only-googlenews-lstm: 100%|██████████| 4/4 [00:20<00:00,  5.07s/it]\n",
            "sentiment-only-cls-dense:   0%|          | 0/4 [00:00<?, ?it/s]/usr/local/lib/python3.11/dist-packages/keras/src/layers/core/dense.py:87: UserWarning: Do not pass an `input_shape`/`input_dim` argument to a layer. When using Sequential models, prefer using an `Input(shape)` object as the first layer in the model instead.\n",
            "  super().__init__(activity_regularizer=activity_regularizer, **kwargs)\n"
          ]
        },
        {
          "output_type": "stream",
          "name": "stdout",
          "text": [
            "\u001b[1m2/2\u001b[0m \u001b[32m━━━━━━━━━━━━━━━━━━━━\u001b[0m\u001b[37m\u001b[0m \u001b[1m0s\u001b[0m 108ms/step\n"
          ]
        },
        {
          "output_type": "stream",
          "name": "stderr",
          "text": [
            "\rsentiment-only-cls-dense:  25%|██▌       | 1/4 [00:05<00:17,  5.73s/it]/usr/local/lib/python3.11/dist-packages/keras/src/layers/core/dense.py:87: UserWarning: Do not pass an `input_shape`/`input_dim` argument to a layer. When using Sequential models, prefer using an `Input(shape)` object as the first layer in the model instead.\n",
            "  super().__init__(activity_regularizer=activity_regularizer, **kwargs)\n"
          ]
        },
        {
          "output_type": "stream",
          "name": "stdout",
          "text": [
            "\u001b[1m2/2\u001b[0m \u001b[32m━━━━━━━━━━━━━━━━━━━━\u001b[0m\u001b[37m\u001b[0m \u001b[1m0s\u001b[0m 100ms/step\n"
          ]
        },
        {
          "output_type": "stream",
          "name": "stderr",
          "text": [
            "\rsentiment-only-cls-dense:  50%|█████     | 2/4 [00:07<00:07,  3.65s/it]/usr/local/lib/python3.11/dist-packages/keras/src/layers/core/dense.py:87: UserWarning: Do not pass an `input_shape`/`input_dim` argument to a layer. When using Sequential models, prefer using an `Input(shape)` object as the first layer in the model instead.\n",
            "  super().__init__(activity_regularizer=activity_regularizer, **kwargs)\n"
          ]
        },
        {
          "output_type": "stream",
          "name": "stdout",
          "text": [
            "\u001b[1m2/2\u001b[0m \u001b[32m━━━━━━━━━━━━━━━━━━━━\u001b[0m\u001b[37m\u001b[0m \u001b[1m0s\u001b[0m 123ms/step\n"
          ]
        },
        {
          "output_type": "stream",
          "name": "stderr",
          "text": [
            "\rsentiment-only-cls-dense:  75%|███████▌  | 3/4 [00:10<00:02,  2.99s/it]/usr/local/lib/python3.11/dist-packages/keras/src/layers/core/dense.py:87: UserWarning: Do not pass an `input_shape`/`input_dim` argument to a layer. When using Sequential models, prefer using an `Input(shape)` object as the first layer in the model instead.\n",
            "  super().__init__(activity_regularizer=activity_regularizer, **kwargs)\n"
          ]
        },
        {
          "output_type": "stream",
          "name": "stdout",
          "text": [
            "\u001b[1m2/2\u001b[0m \u001b[32m━━━━━━━━━━━━━━━━━━━━\u001b[0m\u001b[37m\u001b[0m \u001b[1m0s\u001b[0m 97ms/step\n"
          ]
        },
        {
          "output_type": "stream",
          "name": "stderr",
          "text": [
            "sentiment-only-cls-dense: 100%|██████████| 4/4 [00:12<00:00,  3.05s/it]\n",
            "sentiment-only-cls-lstm:   0%|          | 0/4 [00:00<?, ?it/s]"
          ]
        },
        {
          "output_type": "stream",
          "name": "stdout",
          "text": [
            "\u001b[1m2/2\u001b[0m \u001b[32m━━━━━━━━━━━━━━━━━━━━\u001b[0m\u001b[37m\u001b[0m \u001b[1m1s\u001b[0m 308ms/step\n"
          ]
        },
        {
          "output_type": "stream",
          "name": "stderr",
          "text": [
            "\rsentiment-only-cls-lstm:  25%|██▌       | 1/4 [00:06<00:18,  6.17s/it]"
          ]
        },
        {
          "output_type": "stream",
          "name": "stdout",
          "text": [
            "\u001b[1m2/2\u001b[0m \u001b[32m━━━━━━━━━━━━━━━━━━━━\u001b[0m\u001b[37m\u001b[0m \u001b[1m1s\u001b[0m 282ms/step\n"
          ]
        },
        {
          "output_type": "stream",
          "name": "stderr",
          "text": [
            "\rsentiment-only-cls-lstm:  50%|█████     | 2/4 [00:11<00:11,  5.71s/it]"
          ]
        },
        {
          "output_type": "stream",
          "name": "stdout",
          "text": [
            "\u001b[1m2/2\u001b[0m \u001b[32m━━━━━━━━━━━━━━━━━━━━\u001b[0m\u001b[37m\u001b[0m \u001b[1m1s\u001b[0m 437ms/step\n"
          ]
        },
        {
          "output_type": "stream",
          "name": "stderr",
          "text": [
            "\rsentiment-only-cls-lstm:  75%|███████▌  | 3/4 [00:17<00:05,  5.75s/it]"
          ]
        },
        {
          "output_type": "stream",
          "name": "stdout",
          "text": [
            "\u001b[1m2/2\u001b[0m \u001b[32m━━━━━━━━━━━━━━━━━━━━\u001b[0m\u001b[37m\u001b[0m \u001b[1m1s\u001b[0m 294ms/step\n"
          ]
        },
        {
          "output_type": "stream",
          "name": "stderr",
          "text": [
            "sentiment-only-cls-lstm: 100%|██████████| 4/4 [00:22<00:00,  5.65s/it]\n",
            "sentiment-only-mean-dense:   0%|          | 0/4 [00:00<?, ?it/s]/usr/local/lib/python3.11/dist-packages/keras/src/layers/core/dense.py:87: UserWarning: Do not pass an `input_shape`/`input_dim` argument to a layer. When using Sequential models, prefer using an `Input(shape)` object as the first layer in the model instead.\n",
            "  super().__init__(activity_regularizer=activity_regularizer, **kwargs)\n"
          ]
        },
        {
          "output_type": "stream",
          "name": "stdout",
          "text": [
            "\u001b[1m2/2\u001b[0m \u001b[32m━━━━━━━━━━━━━━━━━━━━\u001b[0m\u001b[37m\u001b[0m \u001b[1m0s\u001b[0m 95ms/step\n"
          ]
        },
        {
          "output_type": "stream",
          "name": "stderr",
          "text": [
            "\rsentiment-only-mean-dense:  25%|██▌       | 1/4 [00:02<00:06,  2.14s/it]/usr/local/lib/python3.11/dist-packages/keras/src/layers/core/dense.py:87: UserWarning: Do not pass an `input_shape`/`input_dim` argument to a layer. When using Sequential models, prefer using an `Input(shape)` object as the first layer in the model instead.\n",
            "  super().__init__(activity_regularizer=activity_regularizer, **kwargs)\n"
          ]
        },
        {
          "output_type": "stream",
          "name": "stdout",
          "text": [
            "\u001b[1m2/2\u001b[0m \u001b[32m━━━━━━━━━━━━━━━━━━━━\u001b[0m\u001b[37m\u001b[0m \u001b[1m0s\u001b[0m 98ms/step\n"
          ]
        },
        {
          "output_type": "stream",
          "name": "stderr",
          "text": [
            "\rsentiment-only-mean-dense:  50%|█████     | 2/4 [00:04<00:04,  2.10s/it]/usr/local/lib/python3.11/dist-packages/keras/src/layers/core/dense.py:87: UserWarning: Do not pass an `input_shape`/`input_dim` argument to a layer. When using Sequential models, prefer using an `Input(shape)` object as the first layer in the model instead.\n",
            "  super().__init__(activity_regularizer=activity_regularizer, **kwargs)\n"
          ]
        },
        {
          "output_type": "stream",
          "name": "stdout",
          "text": [
            "\u001b[1m2/2\u001b[0m \u001b[32m━━━━━━━━━━━━━━━━━━━━\u001b[0m\u001b[37m\u001b[0m \u001b[1m0s\u001b[0m 145ms/step\n"
          ]
        },
        {
          "output_type": "stream",
          "name": "stderr",
          "text": [
            "\rsentiment-only-mean-dense:  75%|███████▌  | 3/4 [00:06<00:02,  2.24s/it]/usr/local/lib/python3.11/dist-packages/keras/src/layers/core/dense.py:87: UserWarning: Do not pass an `input_shape`/`input_dim` argument to a layer. When using Sequential models, prefer using an `Input(shape)` object as the first layer in the model instead.\n",
            "  super().__init__(activity_regularizer=activity_regularizer, **kwargs)\n"
          ]
        },
        {
          "output_type": "stream",
          "name": "stdout",
          "text": [
            "\u001b[1m2/2\u001b[0m \u001b[32m━━━━━━━━━━━━━━━━━━━━\u001b[0m\u001b[37m\u001b[0m \u001b[1m0s\u001b[0m 96ms/step\n"
          ]
        },
        {
          "output_type": "stream",
          "name": "stderr",
          "text": [
            "sentiment-only-mean-dense: 100%|██████████| 4/4 [00:09<00:00,  2.33s/it]\n",
            "sentiment-only-mean-lstm:   0%|          | 0/4 [00:00<?, ?it/s]"
          ]
        },
        {
          "output_type": "stream",
          "name": "stdout",
          "text": [
            "\u001b[1m2/2\u001b[0m \u001b[32m━━━━━━━━━━━━━━━━━━━━\u001b[0m\u001b[37m\u001b[0m \u001b[1m1s\u001b[0m 287ms/step\n"
          ]
        },
        {
          "output_type": "stream",
          "name": "stderr",
          "text": [
            "\rsentiment-only-mean-lstm:  25%|██▌       | 1/4 [00:05<00:15,  5.20s/it]"
          ]
        },
        {
          "output_type": "stream",
          "name": "stdout",
          "text": [
            "\u001b[1m2/2\u001b[0m \u001b[32m━━━━━━━━━━━━━━━━━━━━\u001b[0m\u001b[37m\u001b[0m \u001b[1m1s\u001b[0m 427ms/step\n"
          ]
        },
        {
          "output_type": "stream",
          "name": "stderr",
          "text": [
            "\rsentiment-only-mean-lstm:  50%|█████     | 2/4 [00:11<00:11,  5.61s/it]"
          ]
        },
        {
          "output_type": "stream",
          "name": "stdout",
          "text": [
            "\u001b[1m2/2\u001b[0m \u001b[32m━━━━━━━━━━━━━━━━━━━━\u001b[0m\u001b[37m\u001b[0m \u001b[1m1s\u001b[0m 287ms/step\n"
          ]
        },
        {
          "output_type": "stream",
          "name": "stderr",
          "text": [
            "\rsentiment-only-mean-lstm:  75%|███████▌  | 3/4 [00:16<00:05,  5.49s/it]"
          ]
        },
        {
          "output_type": "stream",
          "name": "stdout",
          "text": [
            "\u001b[1m2/2\u001b[0m \u001b[32m━━━━━━━━━━━━━━━━━━━━\u001b[0m\u001b[37m\u001b[0m \u001b[1m1s\u001b[0m 297ms/step\n"
          ]
        },
        {
          "output_type": "stream",
          "name": "stderr",
          "text": [
            "sentiment-only-mean-lstm: 100%|██████████| 4/4 [00:21<00:00,  5.39s/it]\n",
            "sentiment-only-max-dense:   0%|          | 0/4 [00:00<?, ?it/s]/usr/local/lib/python3.11/dist-packages/keras/src/layers/core/dense.py:87: UserWarning: Do not pass an `input_shape`/`input_dim` argument to a layer. When using Sequential models, prefer using an `Input(shape)` object as the first layer in the model instead.\n",
            "  super().__init__(activity_regularizer=activity_regularizer, **kwargs)\n"
          ]
        },
        {
          "output_type": "stream",
          "name": "stdout",
          "text": [
            "\u001b[1m2/2\u001b[0m \u001b[32m━━━━━━━━━━━━━━━━━━━━\u001b[0m\u001b[37m\u001b[0m \u001b[1m0s\u001b[0m 99ms/step\n"
          ]
        },
        {
          "output_type": "stream",
          "name": "stderr",
          "text": [
            "\rsentiment-only-max-dense:  25%|██▌       | 1/4 [00:03<00:09,  3.11s/it]/usr/local/lib/python3.11/dist-packages/keras/src/layers/core/dense.py:87: UserWarning: Do not pass an `input_shape`/`input_dim` argument to a layer. When using Sequential models, prefer using an `Input(shape)` object as the first layer in the model instead.\n",
            "  super().__init__(activity_regularizer=activity_regularizer, **kwargs)\n"
          ]
        },
        {
          "output_type": "stream",
          "name": "stdout",
          "text": [
            "\u001b[1m2/2\u001b[0m \u001b[32m━━━━━━━━━━━━━━━━━━━━\u001b[0m\u001b[37m\u001b[0m \u001b[1m0s\u001b[0m 105ms/step\n"
          ]
        },
        {
          "output_type": "stream",
          "name": "stderr",
          "text": [
            "\rsentiment-only-max-dense:  50%|█████     | 2/4 [00:05<00:04,  2.46s/it]/usr/local/lib/python3.11/dist-packages/keras/src/layers/core/dense.py:87: UserWarning: Do not pass an `input_shape`/`input_dim` argument to a layer. When using Sequential models, prefer using an `Input(shape)` object as the first layer in the model instead.\n",
            "  super().__init__(activity_regularizer=activity_regularizer, **kwargs)\n"
          ]
        },
        {
          "output_type": "stream",
          "name": "stdout",
          "text": [
            "\u001b[1m2/2\u001b[0m \u001b[32m━━━━━━━━━━━━━━━━━━━━\u001b[0m\u001b[37m\u001b[0m \u001b[1m0s\u001b[0m 98ms/step\n"
          ]
        },
        {
          "output_type": "stream",
          "name": "stderr",
          "text": [
            "\rsentiment-only-max-dense:  75%|███████▌  | 3/4 [00:07<00:02,  2.23s/it]/usr/local/lib/python3.11/dist-packages/keras/src/layers/core/dense.py:87: UserWarning: Do not pass an `input_shape`/`input_dim` argument to a layer. When using Sequential models, prefer using an `Input(shape)` object as the first layer in the model instead.\n",
            "  super().__init__(activity_regularizer=activity_regularizer, **kwargs)\n"
          ]
        },
        {
          "output_type": "stream",
          "name": "stdout",
          "text": [
            "\u001b[1m2/2\u001b[0m \u001b[32m━━━━━━━━━━━━━━━━━━━━\u001b[0m\u001b[37m\u001b[0m \u001b[1m0s\u001b[0m 104ms/step\n"
          ]
        },
        {
          "output_type": "stream",
          "name": "stderr",
          "text": [
            "sentiment-only-max-dense: 100%|██████████| 4/4 [00:09<00:00,  2.26s/it]\n",
            "sentiment-only-max-lstm:   0%|          | 0/4 [00:00<?, ?it/s]"
          ]
        },
        {
          "output_type": "stream",
          "name": "stdout",
          "text": [
            "\u001b[1m2/2\u001b[0m \u001b[32m━━━━━━━━━━━━━━━━━━━━\u001b[0m\u001b[37m\u001b[0m \u001b[1m1s\u001b[0m 416ms/step\n"
          ]
        },
        {
          "output_type": "stream",
          "name": "stderr",
          "text": [
            "\rsentiment-only-max-lstm:  25%|██▌       | 1/4 [00:05<00:16,  5.62s/it]"
          ]
        },
        {
          "output_type": "stream",
          "name": "stdout",
          "text": [
            "\u001b[1m2/2\u001b[0m \u001b[32m━━━━━━━━━━━━━━━━━━━━\u001b[0m\u001b[37m\u001b[0m \u001b[1m1s\u001b[0m 292ms/step\n"
          ]
        },
        {
          "output_type": "stream",
          "name": "stderr",
          "text": [
            "\rsentiment-only-max-lstm:  50%|█████     | 2/4 [00:11<00:11,  5.55s/it]"
          ]
        },
        {
          "output_type": "stream",
          "name": "stdout",
          "text": [
            "\u001b[1m2/2\u001b[0m \u001b[32m━━━━━━━━━━━━━━━━━━━━\u001b[0m\u001b[37m\u001b[0m \u001b[1m1s\u001b[0m 283ms/step\n"
          ]
        },
        {
          "output_type": "stream",
          "name": "stderr",
          "text": [
            "\rsentiment-only-max-lstm:  75%|███████▌  | 3/4 [00:16<00:05,  5.34s/it]"
          ]
        },
        {
          "output_type": "stream",
          "name": "stdout",
          "text": [
            "\u001b[1m2/2\u001b[0m \u001b[32m━━━━━━━━━━━━━━━━━━━━\u001b[0m\u001b[37m\u001b[0m \u001b[1m1s\u001b[0m 287ms/step\n"
          ]
        },
        {
          "output_type": "stream",
          "name": "stderr",
          "text": [
            "sentiment-only-max-lstm: 100%|██████████| 4/4 [00:22<00:00,  5.51s/it]\n",
            "sentiment-only-w2v-dense:   0%|          | 0/4 [00:00<?, ?it/s]/usr/local/lib/python3.11/dist-packages/keras/src/layers/core/dense.py:87: UserWarning: Do not pass an `input_shape`/`input_dim` argument to a layer. When using Sequential models, prefer using an `Input(shape)` object as the first layer in the model instead.\n",
            "  super().__init__(activity_regularizer=activity_regularizer, **kwargs)\n"
          ]
        },
        {
          "output_type": "stream",
          "name": "stdout",
          "text": [
            "\u001b[1m2/2\u001b[0m \u001b[32m━━━━━━━━━━━━━━━━━━━━\u001b[0m\u001b[37m\u001b[0m \u001b[1m0s\u001b[0m 102ms/step\n"
          ]
        },
        {
          "output_type": "stream",
          "name": "stderr",
          "text": [
            "\rsentiment-only-w2v-dense:  25%|██▌       | 1/4 [00:02<00:06,  2.02s/it]/usr/local/lib/python3.11/dist-packages/keras/src/layers/core/dense.py:87: UserWarning: Do not pass an `input_shape`/`input_dim` argument to a layer. When using Sequential models, prefer using an `Input(shape)` object as the first layer in the model instead.\n",
            "  super().__init__(activity_regularizer=activity_regularizer, **kwargs)\n"
          ]
        },
        {
          "output_type": "stream",
          "name": "stdout",
          "text": [
            "\u001b[1m2/2\u001b[0m \u001b[32m━━━━━━━━━━━━━━━━━━━━\u001b[0m\u001b[37m\u001b[0m \u001b[1m0s\u001b[0m 98ms/step\n"
          ]
        },
        {
          "output_type": "stream",
          "name": "stderr",
          "text": [
            "\rsentiment-only-w2v-dense:  50%|█████     | 2/4 [00:03<00:03,  1.98s/it]/usr/local/lib/python3.11/dist-packages/keras/src/layers/core/dense.py:87: UserWarning: Do not pass an `input_shape`/`input_dim` argument to a layer. When using Sequential models, prefer using an `Input(shape)` object as the first layer in the model instead.\n",
            "  super().__init__(activity_regularizer=activity_regularizer, **kwargs)\n"
          ]
        },
        {
          "output_type": "stream",
          "name": "stdout",
          "text": [
            "\u001b[1m2/2\u001b[0m \u001b[32m━━━━━━━━━━━━━━━━━━━━\u001b[0m\u001b[37m\u001b[0m \u001b[1m0s\u001b[0m 99ms/step\n"
          ]
        },
        {
          "output_type": "stream",
          "name": "stderr",
          "text": [
            "\rsentiment-only-w2v-dense:  75%|███████▌  | 3/4 [00:05<00:01,  1.95s/it]/usr/local/lib/python3.11/dist-packages/keras/src/layers/core/dense.py:87: UserWarning: Do not pass an `input_shape`/`input_dim` argument to a layer. When using Sequential models, prefer using an `Input(shape)` object as the first layer in the model instead.\n",
            "  super().__init__(activity_regularizer=activity_regularizer, **kwargs)\n"
          ]
        },
        {
          "output_type": "stream",
          "name": "stdout",
          "text": [
            "\u001b[1m2/2\u001b[0m \u001b[32m━━━━━━━━━━━━━━━━━━━━\u001b[0m\u001b[37m\u001b[0m \u001b[1m0s\u001b[0m 157ms/step\n"
          ]
        },
        {
          "output_type": "stream",
          "name": "stderr",
          "text": [
            "sentiment-only-w2v-dense: 100%|██████████| 4/4 [00:07<00:00,  1.96s/it]\n",
            "sentiment-only-w2v-lstm:   0%|          | 0/4 [00:00<?, ?it/s]"
          ]
        },
        {
          "output_type": "stream",
          "name": "stdout",
          "text": [
            "\u001b[1m2/2\u001b[0m \u001b[32m━━━━━━━━━━━━━━━━━━━━\u001b[0m\u001b[37m\u001b[0m \u001b[1m1s\u001b[0m 287ms/step\n"
          ]
        },
        {
          "output_type": "stream",
          "name": "stderr",
          "text": [
            "\rsentiment-only-w2v-lstm:  25%|██▌       | 1/4 [00:05<00:17,  5.70s/it]"
          ]
        },
        {
          "output_type": "stream",
          "name": "stdout",
          "text": [
            "\u001b[1m2/2\u001b[0m \u001b[32m━━━━━━━━━━━━━━━━━━━━\u001b[0m\u001b[37m\u001b[0m \u001b[1m1s\u001b[0m 296ms/step\n"
          ]
        },
        {
          "output_type": "stream",
          "name": "stderr",
          "text": [
            "\rsentiment-only-w2v-lstm:  50%|█████     | 2/4 [00:10<00:10,  5.21s/it]"
          ]
        },
        {
          "output_type": "stream",
          "name": "stdout",
          "text": [
            "\u001b[1m2/2\u001b[0m \u001b[32m━━━━━━━━━━━━━━━━━━━━\u001b[0m\u001b[37m\u001b[0m \u001b[1m1s\u001b[0m 290ms/step\n"
          ]
        },
        {
          "output_type": "stream",
          "name": "stderr",
          "text": [
            "\rsentiment-only-w2v-lstm:  75%|███████▌  | 3/4 [00:19<00:06,  6.83s/it]"
          ]
        },
        {
          "output_type": "stream",
          "name": "stdout",
          "text": [
            "\u001b[1m2/2\u001b[0m \u001b[32m━━━━━━━━━━━━━━━━━━━━\u001b[0m\u001b[37m\u001b[0m \u001b[1m1s\u001b[0m 304ms/step\n"
          ]
        },
        {
          "output_type": "stream",
          "name": "stderr",
          "text": [
            "sentiment-only-w2v-lstm: 100%|██████████| 4/4 [00:24<00:00,  6.07s/it]\n",
            "sentiment-only-googlenews-dense:   0%|          | 0/4 [00:00<?, ?it/s]/usr/local/lib/python3.11/dist-packages/keras/src/layers/core/dense.py:87: UserWarning: Do not pass an `input_shape`/`input_dim` argument to a layer. When using Sequential models, prefer using an `Input(shape)` object as the first layer in the model instead.\n",
            "  super().__init__(activity_regularizer=activity_regularizer, **kwargs)\n"
          ]
        },
        {
          "output_type": "stream",
          "name": "stdout",
          "text": [
            "\u001b[1m2/2\u001b[0m \u001b[32m━━━━━━━━━━━━━━━━━━━━\u001b[0m\u001b[37m\u001b[0m \u001b[1m0s\u001b[0m 146ms/step\n"
          ]
        },
        {
          "output_type": "stream",
          "name": "stderr",
          "text": [
            "\rsentiment-only-googlenews-dense:  25%|██▌       | 1/4 [00:02<00:08,  2.69s/it]/usr/local/lib/python3.11/dist-packages/keras/src/layers/core/dense.py:87: UserWarning: Do not pass an `input_shape`/`input_dim` argument to a layer. When using Sequential models, prefer using an `Input(shape)` object as the first layer in the model instead.\n",
            "  super().__init__(activity_regularizer=activity_regularizer, **kwargs)\n"
          ]
        },
        {
          "output_type": "stream",
          "name": "stdout",
          "text": [
            "\u001b[1m2/2\u001b[0m \u001b[32m━━━━━━━━━━━━━━━━━━━━\u001b[0m\u001b[37m\u001b[0m \u001b[1m0s\u001b[0m 107ms/step\n"
          ]
        },
        {
          "output_type": "stream",
          "name": "stderr",
          "text": [
            "\rsentiment-only-googlenews-dense:  50%|█████     | 2/4 [00:05<00:05,  2.86s/it]/usr/local/lib/python3.11/dist-packages/keras/src/layers/core/dense.py:87: UserWarning: Do not pass an `input_shape`/`input_dim` argument to a layer. When using Sequential models, prefer using an `Input(shape)` object as the first layer in the model instead.\n",
            "  super().__init__(activity_regularizer=activity_regularizer, **kwargs)\n"
          ]
        },
        {
          "output_type": "stream",
          "name": "stdout",
          "text": [
            "\u001b[1m2/2\u001b[0m \u001b[32m━━━━━━━━━━━━━━━━━━━━\u001b[0m\u001b[37m\u001b[0m \u001b[1m0s\u001b[0m 99ms/step\n"
          ]
        },
        {
          "output_type": "stream",
          "name": "stderr",
          "text": [
            "\rsentiment-only-googlenews-dense:  75%|███████▌  | 3/4 [00:07<00:02,  2.48s/it]/usr/local/lib/python3.11/dist-packages/keras/src/layers/core/dense.py:87: UserWarning: Do not pass an `input_shape`/`input_dim` argument to a layer. When using Sequential models, prefer using an `Input(shape)` object as the first layer in the model instead.\n",
            "  super().__init__(activity_regularizer=activity_regularizer, **kwargs)\n"
          ]
        },
        {
          "output_type": "stream",
          "name": "stdout",
          "text": [
            "\u001b[1m2/2\u001b[0m \u001b[32m━━━━━━━━━━━━━━━━━━━━\u001b[0m\u001b[37m\u001b[0m \u001b[1m0s\u001b[0m 100ms/step\n"
          ]
        },
        {
          "output_type": "stream",
          "name": "stderr",
          "text": [
            "sentiment-only-googlenews-dense: 100%|██████████| 4/4 [00:09<00:00,  2.43s/it]\n",
            "sentiment-only-googlenews-lstm:   0%|          | 0/4 [00:00<?, ?it/s]"
          ]
        },
        {
          "output_type": "stream",
          "name": "stdout",
          "text": [
            "\u001b[1m2/2\u001b[0m \u001b[32m━━━━━━━━━━━━━━━━━━━━\u001b[0m\u001b[37m\u001b[0m \u001b[1m1s\u001b[0m 403ms/step\n"
          ]
        },
        {
          "output_type": "stream",
          "name": "stderr",
          "text": [
            "\rsentiment-only-googlenews-lstm:  25%|██▌       | 1/4 [00:05<00:17,  5.83s/it]"
          ]
        },
        {
          "output_type": "stream",
          "name": "stdout",
          "text": [
            "\u001b[1m2/2\u001b[0m \u001b[32m━━━━━━━━━━━━━━━━━━━━\u001b[0m\u001b[37m\u001b[0m \u001b[1m1s\u001b[0m 284ms/step\n"
          ]
        },
        {
          "output_type": "stream",
          "name": "stderr",
          "text": [
            "\rsentiment-only-googlenews-lstm:  50%|█████     | 2/4 [00:11<00:11,  5.55s/it]"
          ]
        },
        {
          "output_type": "stream",
          "name": "stdout",
          "text": [
            "\u001b[1m2/2\u001b[0m \u001b[32m━━━━━━━━━━━━━━━━━━━━\u001b[0m\u001b[37m\u001b[0m \u001b[1m1s\u001b[0m 311ms/step\n"
          ]
        },
        {
          "output_type": "stream",
          "name": "stderr",
          "text": [
            "\rsentiment-only-googlenews-lstm:  75%|███████▌  | 3/4 [00:16<00:05,  5.44s/it]"
          ]
        },
        {
          "output_type": "stream",
          "name": "stdout",
          "text": [
            "\u001b[1m2/2\u001b[0m \u001b[32m━━━━━━━━━━━━━━━━━━━━\u001b[0m\u001b[37m\u001b[0m \u001b[1m1s\u001b[0m 283ms/step\n"
          ]
        },
        {
          "output_type": "stream",
          "name": "stderr",
          "text": [
            "sentiment-only-googlenews-lstm: 100%|██████████| 4/4 [00:22<00:00,  5.57s/it]\n",
            "combined-cls-dense:   0%|          | 0/4 [00:00<?, ?it/s]/usr/local/lib/python3.11/dist-packages/keras/src/layers/core/dense.py:87: UserWarning: Do not pass an `input_shape`/`input_dim` argument to a layer. When using Sequential models, prefer using an `Input(shape)` object as the first layer in the model instead.\n",
            "  super().__init__(activity_regularizer=activity_regularizer, **kwargs)\n"
          ]
        },
        {
          "output_type": "stream",
          "name": "stdout",
          "text": [
            "\u001b[1m2/2\u001b[0m \u001b[32m━━━━━━━━━━━━━━━━━━━━\u001b[0m\u001b[37m\u001b[0m \u001b[1m0s\u001b[0m 166ms/step\n"
          ]
        },
        {
          "output_type": "stream",
          "name": "stderr",
          "text": [
            "\rcombined-cls-dense:  25%|██▌       | 1/4 [00:02<00:08,  2.83s/it]/usr/local/lib/python3.11/dist-packages/keras/src/layers/core/dense.py:87: UserWarning: Do not pass an `input_shape`/`input_dim` argument to a layer. When using Sequential models, prefer using an `Input(shape)` object as the first layer in the model instead.\n",
            "  super().__init__(activity_regularizer=activity_regularizer, **kwargs)\n"
          ]
        },
        {
          "output_type": "stream",
          "name": "stdout",
          "text": [
            "\u001b[1m2/2\u001b[0m \u001b[32m━━━━━━━━━━━━━━━━━━━━\u001b[0m\u001b[37m\u001b[0m \u001b[1m0s\u001b[0m 101ms/step\n"
          ]
        },
        {
          "output_type": "stream",
          "name": "stderr",
          "text": [
            "\rcombined-cls-dense:  50%|█████     | 2/4 [00:04<00:04,  2.40s/it]/usr/local/lib/python3.11/dist-packages/keras/src/layers/core/dense.py:87: UserWarning: Do not pass an `input_shape`/`input_dim` argument to a layer. When using Sequential models, prefer using an `Input(shape)` object as the first layer in the model instead.\n",
            "  super().__init__(activity_regularizer=activity_regularizer, **kwargs)\n"
          ]
        },
        {
          "output_type": "stream",
          "name": "stdout",
          "text": [
            "\u001b[1m2/2\u001b[0m \u001b[32m━━━━━━━━━━━━━━━━━━━━\u001b[0m\u001b[37m\u001b[0m \u001b[1m0s\u001b[0m 97ms/step\n"
          ]
        },
        {
          "output_type": "stream",
          "name": "stderr",
          "text": [
            "\rcombined-cls-dense:  75%|███████▌  | 3/4 [00:06<00:02,  2.24s/it]/usr/local/lib/python3.11/dist-packages/keras/src/layers/core/dense.py:87: UserWarning: Do not pass an `input_shape`/`input_dim` argument to a layer. When using Sequential models, prefer using an `Input(shape)` object as the first layer in the model instead.\n",
            "  super().__init__(activity_regularizer=activity_regularizer, **kwargs)\n"
          ]
        },
        {
          "output_type": "stream",
          "name": "stdout",
          "text": [
            "\u001b[1m2/2\u001b[0m \u001b[32m━━━━━━━━━━━━━━━━━━━━\u001b[0m\u001b[37m\u001b[0m \u001b[1m0s\u001b[0m 98ms/step\n"
          ]
        },
        {
          "output_type": "stream",
          "name": "stderr",
          "text": [
            "combined-cls-dense: 100%|██████████| 4/4 [00:10<00:00,  2.60s/it]\n",
            "combined-cls-lstm:   0%|          | 0/4 [00:00<?, ?it/s]"
          ]
        },
        {
          "output_type": "stream",
          "name": "stdout",
          "text": [
            "\u001b[1m2/2\u001b[0m \u001b[32m━━━━━━━━━━━━━━━━━━━━\u001b[0m\u001b[37m\u001b[0m \u001b[1m1s\u001b[0m 294ms/step\n"
          ]
        },
        {
          "output_type": "stream",
          "name": "stderr",
          "text": [
            "\rcombined-cls-lstm:  25%|██▌       | 1/4 [00:05<00:15,  5.11s/it]"
          ]
        },
        {
          "output_type": "stream",
          "name": "stdout",
          "text": [
            "\u001b[1m2/2\u001b[0m \u001b[32m━━━━━━━━━━━━━━━━━━━━\u001b[0m\u001b[37m\u001b[0m \u001b[1m1s\u001b[0m 408ms/step\n"
          ]
        },
        {
          "output_type": "stream",
          "name": "stderr",
          "text": [
            "\rcombined-cls-lstm:  50%|█████     | 2/4 [00:10<00:10,  5.42s/it]"
          ]
        },
        {
          "output_type": "stream",
          "name": "stdout",
          "text": [
            "\u001b[1m2/2\u001b[0m \u001b[32m━━━━━━━━━━━━━━━━━━━━\u001b[0m\u001b[37m\u001b[0m \u001b[1m1s\u001b[0m 284ms/step\n"
          ]
        },
        {
          "output_type": "stream",
          "name": "stderr",
          "text": [
            "\rcombined-cls-lstm:  75%|███████▌  | 3/4 [00:16<00:05,  5.43s/it]"
          ]
        },
        {
          "output_type": "stream",
          "name": "stdout",
          "text": [
            "\u001b[1m2/2\u001b[0m \u001b[32m━━━━━━━━━━━━━━━━━━━━\u001b[0m\u001b[37m\u001b[0m \u001b[1m1s\u001b[0m 306ms/step\n"
          ]
        },
        {
          "output_type": "stream",
          "name": "stderr",
          "text": [
            "combined-cls-lstm: 100%|██████████| 4/4 [00:21<00:00,  5.27s/it]\n",
            "combined-mean-dense:   0%|          | 0/4 [00:00<?, ?it/s]/usr/local/lib/python3.11/dist-packages/keras/src/layers/core/dense.py:87: UserWarning: Do not pass an `input_shape`/`input_dim` argument to a layer. When using Sequential models, prefer using an `Input(shape)` object as the first layer in the model instead.\n",
            "  super().__init__(activity_regularizer=activity_regularizer, **kwargs)\n"
          ]
        },
        {
          "output_type": "stream",
          "name": "stdout",
          "text": [
            "\u001b[1m2/2\u001b[0m \u001b[32m━━━━━━━━━━━━━━━━━━━━\u001b[0m\u001b[37m\u001b[0m \u001b[1m0s\u001b[0m 148ms/step\n"
          ]
        },
        {
          "output_type": "stream",
          "name": "stderr",
          "text": [
            "\rcombined-mean-dense:  25%|██▌       | 1/4 [00:02<00:08,  2.88s/it]/usr/local/lib/python3.11/dist-packages/keras/src/layers/core/dense.py:87: UserWarning: Do not pass an `input_shape`/`input_dim` argument to a layer. When using Sequential models, prefer using an `Input(shape)` object as the first layer in the model instead.\n",
            "  super().__init__(activity_regularizer=activity_regularizer, **kwargs)\n"
          ]
        },
        {
          "output_type": "stream",
          "name": "stdout",
          "text": [
            "\u001b[1m2/2\u001b[0m \u001b[32m━━━━━━━━━━━━━━━━━━━━\u001b[0m\u001b[37m\u001b[0m \u001b[1m0s\u001b[0m 97ms/step\n"
          ]
        },
        {
          "output_type": "stream",
          "name": "stderr",
          "text": [
            "\rcombined-mean-dense:  50%|█████     | 2/4 [00:05<00:05,  2.61s/it]/usr/local/lib/python3.11/dist-packages/keras/src/layers/core/dense.py:87: UserWarning: Do not pass an `input_shape`/`input_dim` argument to a layer. When using Sequential models, prefer using an `Input(shape)` object as the first layer in the model instead.\n",
            "  super().__init__(activity_regularizer=activity_regularizer, **kwargs)\n"
          ]
        },
        {
          "output_type": "stream",
          "name": "stdout",
          "text": [
            "\u001b[1m2/2\u001b[0m \u001b[32m━━━━━━━━━━━━━━━━━━━━\u001b[0m\u001b[37m\u001b[0m \u001b[1m0s\u001b[0m 98ms/step\n"
          ]
        },
        {
          "output_type": "stream",
          "name": "stderr",
          "text": [
            "\rcombined-mean-dense:  75%|███████▌  | 3/4 [00:07<00:02,  2.35s/it]/usr/local/lib/python3.11/dist-packages/keras/src/layers/core/dense.py:87: UserWarning: Do not pass an `input_shape`/`input_dim` argument to a layer. When using Sequential models, prefer using an `Input(shape)` object as the first layer in the model instead.\n",
            "  super().__init__(activity_regularizer=activity_regularizer, **kwargs)\n"
          ]
        },
        {
          "output_type": "stream",
          "name": "stdout",
          "text": [
            "\u001b[1m2/2\u001b[0m \u001b[32m━━━━━━━━━━━━━━━━━━━━\u001b[0m\u001b[37m\u001b[0m \u001b[1m0s\u001b[0m 106ms/step\n"
          ]
        },
        {
          "output_type": "stream",
          "name": "stderr",
          "text": [
            "combined-mean-dense: 100%|██████████| 4/4 [00:09<00:00,  2.35s/it]\n",
            "combined-mean-lstm:   0%|          | 0/4 [00:00<?, ?it/s]"
          ]
        },
        {
          "output_type": "stream",
          "name": "stdout",
          "text": [
            "\u001b[1m2/2\u001b[0m \u001b[32m━━━━━━━━━━━━━━━━━━━━\u001b[0m\u001b[37m\u001b[0m \u001b[1m1s\u001b[0m 414ms/step\n"
          ]
        },
        {
          "output_type": "stream",
          "name": "stderr",
          "text": [
            "\rcombined-mean-lstm:  25%|██▌       | 1/4 [00:05<00:16,  5.35s/it]"
          ]
        },
        {
          "output_type": "stream",
          "name": "stdout",
          "text": [
            "\u001b[1m2/2\u001b[0m \u001b[32m━━━━━━━━━━━━━━━━━━━━\u001b[0m\u001b[37m\u001b[0m \u001b[1m1s\u001b[0m 289ms/step\n"
          ]
        },
        {
          "output_type": "stream",
          "name": "stderr",
          "text": [
            "\rcombined-mean-lstm:  50%|█████     | 2/4 [00:10<00:10,  5.46s/it]"
          ]
        },
        {
          "output_type": "stream",
          "name": "stdout",
          "text": [
            "\u001b[1m2/2\u001b[0m \u001b[32m━━━━━━━━━━━━━━━━━━━━\u001b[0m\u001b[37m\u001b[0m \u001b[1m1s\u001b[0m 278ms/step\n"
          ]
        },
        {
          "output_type": "stream",
          "name": "stderr",
          "text": [
            "\rcombined-mean-lstm:  75%|███████▌  | 3/4 [00:15<00:05,  5.29s/it]"
          ]
        },
        {
          "output_type": "stream",
          "name": "stdout",
          "text": [
            "\u001b[1m2/2\u001b[0m \u001b[32m━━━━━━━━━━━━━━━━━━━━\u001b[0m\u001b[37m\u001b[0m \u001b[1m1s\u001b[0m 284ms/step\n"
          ]
        },
        {
          "output_type": "stream",
          "name": "stderr",
          "text": [
            "combined-mean-lstm: 100%|██████████| 4/4 [00:22<00:00,  5.53s/it]\n",
            "combined-max-dense:   0%|          | 0/4 [00:00<?, ?it/s]/usr/local/lib/python3.11/dist-packages/keras/src/layers/core/dense.py:87: UserWarning: Do not pass an `input_shape`/`input_dim` argument to a layer. When using Sequential models, prefer using an `Input(shape)` object as the first layer in the model instead.\n",
            "  super().__init__(activity_regularizer=activity_regularizer, **kwargs)\n"
          ]
        },
        {
          "output_type": "stream",
          "name": "stdout",
          "text": [
            "\u001b[1m2/2\u001b[0m \u001b[32m━━━━━━━━━━━━━━━━━━━━\u001b[0m\u001b[37m\u001b[0m \u001b[1m0s\u001b[0m 103ms/step\n"
          ]
        },
        {
          "output_type": "stream",
          "name": "stderr",
          "text": [
            "\rcombined-max-dense:  25%|██▌       | 1/4 [00:02<00:06,  2.12s/it]/usr/local/lib/python3.11/dist-packages/keras/src/layers/core/dense.py:87: UserWarning: Do not pass an `input_shape`/`input_dim` argument to a layer. When using Sequential models, prefer using an `Input(shape)` object as the first layer in the model instead.\n",
            "  super().__init__(activity_regularizer=activity_regularizer, **kwargs)\n"
          ]
        },
        {
          "output_type": "stream",
          "name": "stdout",
          "text": [
            "\u001b[1m2/2\u001b[0m \u001b[32m━━━━━━━━━━━━━━━━━━━━\u001b[0m\u001b[37m\u001b[0m \u001b[1m0s\u001b[0m 96ms/step\n"
          ]
        },
        {
          "output_type": "stream",
          "name": "stderr",
          "text": [
            "\rcombined-max-dense:  50%|█████     | 2/4 [00:04<00:04,  2.14s/it]/usr/local/lib/python3.11/dist-packages/keras/src/layers/core/dense.py:87: UserWarning: Do not pass an `input_shape`/`input_dim` argument to a layer. When using Sequential models, prefer using an `Input(shape)` object as the first layer in the model instead.\n",
            "  super().__init__(activity_regularizer=activity_regularizer, **kwargs)\n"
          ]
        },
        {
          "output_type": "stream",
          "name": "stdout",
          "text": [
            "\u001b[1m2/2\u001b[0m \u001b[32m━━━━━━━━━━━━━━━━━━━━\u001b[0m\u001b[37m\u001b[0m \u001b[1m0s\u001b[0m 97ms/step\n"
          ]
        },
        {
          "output_type": "stream",
          "name": "stderr",
          "text": [
            "\rcombined-max-dense:  75%|███████▌  | 3/4 [00:06<00:02,  2.08s/it]/usr/local/lib/python3.11/dist-packages/keras/src/layers/core/dense.py:87: UserWarning: Do not pass an `input_shape`/`input_dim` argument to a layer. When using Sequential models, prefer using an `Input(shape)` object as the first layer in the model instead.\n",
            "  super().__init__(activity_regularizer=activity_regularizer, **kwargs)\n"
          ]
        },
        {
          "output_type": "stream",
          "name": "stdout",
          "text": [
            "\u001b[1m2/2\u001b[0m \u001b[32m━━━━━━━━━━━━━━━━━━━━\u001b[0m\u001b[37m\u001b[0m \u001b[1m0s\u001b[0m 146ms/step\n"
          ]
        },
        {
          "output_type": "stream",
          "name": "stderr",
          "text": [
            "combined-max-dense: 100%|██████████| 4/4 [00:08<00:00,  2.11s/it]\n",
            "combined-max-lstm:   0%|          | 0/4 [00:00<?, ?it/s]"
          ]
        },
        {
          "output_type": "stream",
          "name": "stdout",
          "text": [
            "\u001b[1m2/2\u001b[0m \u001b[32m━━━━━━━━━━━━━━━━━━━━\u001b[0m\u001b[37m\u001b[0m \u001b[1m1s\u001b[0m 291ms/step\n"
          ]
        },
        {
          "output_type": "stream",
          "name": "stderr",
          "text": [
            "\rcombined-max-lstm:  25%|██▌       | 1/4 [00:05<00:16,  5.60s/it]"
          ]
        },
        {
          "output_type": "stream",
          "name": "stdout",
          "text": [
            "\u001b[1m2/2\u001b[0m \u001b[32m━━━━━━━━━━━━━━━━━━━━\u001b[0m\u001b[37m\u001b[0m \u001b[1m1s\u001b[0m 314ms/step\n"
          ]
        },
        {
          "output_type": "stream",
          "name": "stderr",
          "text": [
            "\rcombined-max-lstm:  50%|█████     | 2/4 [00:10<00:10,  5.29s/it]"
          ]
        },
        {
          "output_type": "stream",
          "name": "stdout",
          "text": [
            "\u001b[1m2/2\u001b[0m \u001b[32m━━━━━━━━━━━━━━━━━━━━\u001b[0m\u001b[37m\u001b[0m \u001b[1m1s\u001b[0m 290ms/step\n"
          ]
        },
        {
          "output_type": "stream",
          "name": "stderr",
          "text": [
            "\rcombined-max-lstm:  75%|███████▌  | 3/4 [00:16<00:05,  5.64s/it]"
          ]
        },
        {
          "output_type": "stream",
          "name": "stdout",
          "text": [
            "\u001b[1m2/2\u001b[0m \u001b[32m━━━━━━━━━━━━━━━━━━━━\u001b[0m\u001b[37m\u001b[0m \u001b[1m1s\u001b[0m 296ms/step\n"
          ]
        },
        {
          "output_type": "stream",
          "name": "stderr",
          "text": [
            "combined-max-lstm: 100%|██████████| 4/4 [00:21<00:00,  5.43s/it]\n",
            "combined-w2v-dense:   0%|          | 0/4 [00:00<?, ?it/s]/usr/local/lib/python3.11/dist-packages/keras/src/layers/core/dense.py:87: UserWarning: Do not pass an `input_shape`/`input_dim` argument to a layer. When using Sequential models, prefer using an `Input(shape)` object as the first layer in the model instead.\n",
            "  super().__init__(activity_regularizer=activity_regularizer, **kwargs)\n"
          ]
        },
        {
          "output_type": "stream",
          "name": "stdout",
          "text": [
            "\u001b[1m2/2\u001b[0m \u001b[32m━━━━━━━━━━━━━━━━━━━━\u001b[0m\u001b[37m\u001b[0m \u001b[1m0s\u001b[0m 148ms/step\n"
          ]
        },
        {
          "output_type": "stream",
          "name": "stderr",
          "text": [
            "\rcombined-w2v-dense:  25%|██▌       | 1/4 [00:06<00:20,  6.88s/it]/usr/local/lib/python3.11/dist-packages/keras/src/layers/core/dense.py:87: UserWarning: Do not pass an `input_shape`/`input_dim` argument to a layer. When using Sequential models, prefer using an `Input(shape)` object as the first layer in the model instead.\n",
            "  super().__init__(activity_regularizer=activity_regularizer, **kwargs)\n"
          ]
        },
        {
          "output_type": "stream",
          "name": "stdout",
          "text": [
            "\u001b[1m2/2\u001b[0m \u001b[32m━━━━━━━━━━━━━━━━━━━━\u001b[0m\u001b[37m\u001b[0m \u001b[1m0s\u001b[0m 105ms/step\n"
          ]
        },
        {
          "output_type": "stream",
          "name": "stderr",
          "text": [
            "\rcombined-w2v-dense:  50%|█████     | 2/4 [00:09<00:08,  4.09s/it]/usr/local/lib/python3.11/dist-packages/keras/src/layers/core/dense.py:87: UserWarning: Do not pass an `input_shape`/`input_dim` argument to a layer. When using Sequential models, prefer using an `Input(shape)` object as the first layer in the model instead.\n",
            "  super().__init__(activity_regularizer=activity_regularizer, **kwargs)\n"
          ]
        },
        {
          "output_type": "stream",
          "name": "stdout",
          "text": [
            "\u001b[1m2/2\u001b[0m \u001b[32m━━━━━━━━━━━━━━━━━━━━\u001b[0m\u001b[37m\u001b[0m \u001b[1m0s\u001b[0m 99ms/step\n"
          ]
        },
        {
          "output_type": "stream",
          "name": "stderr",
          "text": [
            "\rcombined-w2v-dense:  75%|███████▌  | 3/4 [00:11<00:03,  3.19s/it]/usr/local/lib/python3.11/dist-packages/keras/src/layers/core/dense.py:87: UserWarning: Do not pass an `input_shape`/`input_dim` argument to a layer. When using Sequential models, prefer using an `Input(shape)` object as the first layer in the model instead.\n",
            "  super().__init__(activity_regularizer=activity_regularizer, **kwargs)\n"
          ]
        },
        {
          "output_type": "stream",
          "name": "stdout",
          "text": [
            "\u001b[1m2/2\u001b[0m \u001b[32m━━━━━━━━━━━━━━━━━━━━\u001b[0m\u001b[37m\u001b[0m \u001b[1m0s\u001b[0m 99ms/step\n"
          ]
        },
        {
          "output_type": "stream",
          "name": "stderr",
          "text": [
            "combined-w2v-dense: 100%|██████████| 4/4 [00:13<00:00,  3.29s/it]\n",
            "combined-w2v-lstm:   0%|          | 0/4 [00:00<?, ?it/s]"
          ]
        },
        {
          "output_type": "stream",
          "name": "stdout",
          "text": [
            "\u001b[1m2/2\u001b[0m \u001b[32m━━━━━━━━━━━━━━━━━━━━\u001b[0m\u001b[37m\u001b[0m \u001b[1m1s\u001b[0m 464ms/step\n"
          ]
        },
        {
          "output_type": "stream",
          "name": "stderr",
          "text": [
            "\rcombined-w2v-lstm:  25%|██▌       | 1/4 [00:06<00:18,  6.23s/it]"
          ]
        },
        {
          "output_type": "stream",
          "name": "stdout",
          "text": [
            "\u001b[1m2/2\u001b[0m \u001b[32m━━━━━━━━━━━━━━━━━━━━\u001b[0m\u001b[37m\u001b[0m \u001b[1m1s\u001b[0m 295ms/step\n"
          ]
        },
        {
          "output_type": "stream",
          "name": "stderr",
          "text": [
            "\rcombined-w2v-lstm:  50%|█████     | 2/4 [00:11<00:10,  5.41s/it]"
          ]
        },
        {
          "output_type": "stream",
          "name": "stdout",
          "text": [
            "\u001b[1m2/2\u001b[0m \u001b[32m━━━━━━━━━━━━━━━━━━━━\u001b[0m\u001b[37m\u001b[0m \u001b[1m1s\u001b[0m 408ms/step\n"
          ]
        },
        {
          "output_type": "stream",
          "name": "stderr",
          "text": [
            "\rcombined-w2v-lstm:  75%|███████▌  | 3/4 [00:16<00:05,  5.59s/it]"
          ]
        },
        {
          "output_type": "stream",
          "name": "stdout",
          "text": [
            "\u001b[1m2/2\u001b[0m \u001b[32m━━━━━━━━━━━━━━━━━━━━\u001b[0m\u001b[37m\u001b[0m \u001b[1m1s\u001b[0m 298ms/step\n"
          ]
        },
        {
          "output_type": "stream",
          "name": "stderr",
          "text": [
            "combined-w2v-lstm: 100%|██████████| 4/4 [00:22<00:00,  5.55s/it]\n",
            "combined-googlenews-dense:   0%|          | 0/4 [00:00<?, ?it/s]/usr/local/lib/python3.11/dist-packages/keras/src/layers/core/dense.py:87: UserWarning: Do not pass an `input_shape`/`input_dim` argument to a layer. When using Sequential models, prefer using an `Input(shape)` object as the first layer in the model instead.\n",
            "  super().__init__(activity_regularizer=activity_regularizer, **kwargs)\n"
          ]
        },
        {
          "output_type": "stream",
          "name": "stdout",
          "text": [
            "\u001b[1m2/2\u001b[0m \u001b[32m━━━━━━━━━━━━━━━━━━━━\u001b[0m\u001b[37m\u001b[0m \u001b[1m0s\u001b[0m 155ms/step\n"
          ]
        },
        {
          "output_type": "stream",
          "name": "stderr",
          "text": [
            "\rcombined-googlenews-dense:  25%|██▌       | 1/4 [00:02<00:06,  2.32s/it]/usr/local/lib/python3.11/dist-packages/keras/src/layers/core/dense.py:87: UserWarning: Do not pass an `input_shape`/`input_dim` argument to a layer. When using Sequential models, prefer using an `Input(shape)` object as the first layer in the model instead.\n",
            "  super().__init__(activity_regularizer=activity_regularizer, **kwargs)\n"
          ]
        },
        {
          "output_type": "stream",
          "name": "stdout",
          "text": [
            "\u001b[1m2/2\u001b[0m \u001b[32m━━━━━━━━━━━━━━━━━━━━\u001b[0m\u001b[37m\u001b[0m \u001b[1m0s\u001b[0m 95ms/step\n"
          ]
        },
        {
          "output_type": "stream",
          "name": "stderr",
          "text": [
            "\rcombined-googlenews-dense:  50%|█████     | 2/4 [00:04<00:04,  2.13s/it]/usr/local/lib/python3.11/dist-packages/keras/src/layers/core/dense.py:87: UserWarning: Do not pass an `input_shape`/`input_dim` argument to a layer. When using Sequential models, prefer using an `Input(shape)` object as the first layer in the model instead.\n",
            "  super().__init__(activity_regularizer=activity_regularizer, **kwargs)\n"
          ]
        },
        {
          "output_type": "stream",
          "name": "stdout",
          "text": [
            "\u001b[1m2/2\u001b[0m \u001b[32m━━━━━━━━━━━━━━━━━━━━\u001b[0m\u001b[37m\u001b[0m \u001b[1m0s\u001b[0m 97ms/step\n"
          ]
        },
        {
          "output_type": "stream",
          "name": "stderr",
          "text": [
            "\rcombined-googlenews-dense:  75%|███████▌  | 3/4 [00:06<00:02,  2.12s/it]/usr/local/lib/python3.11/dist-packages/keras/src/layers/core/dense.py:87: UserWarning: Do not pass an `input_shape`/`input_dim` argument to a layer. When using Sequential models, prefer using an `Input(shape)` object as the first layer in the model instead.\n",
            "  super().__init__(activity_regularizer=activity_regularizer, **kwargs)\n"
          ]
        },
        {
          "output_type": "stream",
          "name": "stdout",
          "text": [
            "\u001b[1m2/2\u001b[0m \u001b[32m━━━━━━━━━━━━━━━━━━━━\u001b[0m\u001b[37m\u001b[0m \u001b[1m0s\u001b[0m 104ms/step\n"
          ]
        },
        {
          "output_type": "stream",
          "name": "stderr",
          "text": [
            "combined-googlenews-dense: 100%|██████████| 4/4 [00:09<00:00,  2.32s/it]\n",
            "combined-googlenews-lstm:   0%|          | 0/4 [00:00<?, ?it/s]"
          ]
        },
        {
          "output_type": "stream",
          "name": "stdout",
          "text": [
            "\u001b[1m2/2\u001b[0m \u001b[32m━━━━━━━━━━━━━━━━━━━━\u001b[0m\u001b[37m\u001b[0m \u001b[1m1s\u001b[0m 305ms/step\n"
          ]
        },
        {
          "output_type": "stream",
          "name": "stderr",
          "text": [
            "\rcombined-googlenews-lstm:  25%|██▌       | 1/4 [00:04<00:14,  4.92s/it]"
          ]
        },
        {
          "output_type": "stream",
          "name": "stdout",
          "text": [
            "\u001b[1m2/2\u001b[0m \u001b[32m━━━━━━━━━━━━━━━━━━━━\u001b[0m\u001b[37m\u001b[0m \u001b[1m1s\u001b[0m 286ms/step\n"
          ]
        },
        {
          "output_type": "stream",
          "name": "stderr",
          "text": [
            "\rcombined-googlenews-lstm:  50%|█████     | 2/4 [00:09<00:09,  4.97s/it]"
          ]
        },
        {
          "output_type": "stream",
          "name": "stdout",
          "text": [
            "\u001b[1m2/2\u001b[0m \u001b[32m━━━━━━━━━━━━━━━━━━━━\u001b[0m\u001b[37m\u001b[0m \u001b[1m1s\u001b[0m 292ms/step\n"
          ]
        },
        {
          "output_type": "stream",
          "name": "stderr",
          "text": [
            "\rcombined-googlenews-lstm:  75%|███████▌  | 3/4 [00:15<00:05,  5.18s/it]"
          ]
        },
        {
          "output_type": "stream",
          "name": "stdout",
          "text": [
            "\u001b[1m2/2\u001b[0m \u001b[32m━━━━━━━━━━━━━━━━━━━━\u001b[0m\u001b[37m\u001b[0m \u001b[1m1s\u001b[0m 303ms/step\n"
          ]
        },
        {
          "output_type": "stream",
          "name": "stderr",
          "text": [
            "combined-googlenews-lstm: 100%|██████████| 4/4 [00:20<00:00,  5.05s/it]\n"
          ]
        }
      ]
    },
    {
      "cell_type": "code",
      "source": [
        "import matplotlib.pyplot as plt\n",
        "import seaborn as sns\n",
        "\n",
        "# Sort by average MAE\n",
        "mae_order = result_df.groupby(\"Embedding\")[\"MAE\"].mean().sort_values().index.tolist()\n",
        "\n",
        "# Plot MAE bar chart\n",
        "naive_mae = 0.02621\n",
        "\n",
        "plt.figure(figsize=(10, 6))\n",
        "ax = sns.barplot(\n",
        "    data=result_df,\n",
        "    x=\"Embedding\",\n",
        "    y=\"MAE\",\n",
        "    hue=\"FeatureSet\",\n",
        "    order=mae_order,\n",
        "    palette=\"Set2\"\n",
        ")\n",
        "\n",
        "# Add red dashed baseline\n",
        "plt.axhline(y=naive_mae, color=\"red\", linestyle=\"--\", linewidth=2, label=\"Naïve MAE\")\n",
        "plt.legend(loc=\"upper right\")\n",
        "\n",
        "plt.title(\"MAE Comparison: FinTwitBERT vs Custom Word2Vec vs GoogleNews Word2Vec\")\n",
        "plt.tight_layout()\n",
        "\n",
        "# Find the best MAE row\n",
        "min_row = result_df.loc[result_df[\"MAE\"].idxmin()]\n",
        "label = f\"🏆 {min_row['Model']} + {min_row['Embedding']} ({min_row['FeatureSet']})\"\n",
        "\n",
        "# Get hue labels in correct order\n",
        "hue_order = result_df[\"FeatureSet\"].unique().tolist()\n",
        "\n",
        "# Loop through bar patches and find match\n",
        "for bar, (i, row) in zip(ax.patches, result_df.iterrows()):\n",
        "    if (\n",
        "        row[\"Embedding\"] == min_row[\"Embedding\"] and\n",
        "        row[\"FeatureSet\"] == min_row[\"FeatureSet\"] and\n",
        "        abs(row[\"MAE\"] - min_row[\"MAE\"]) < 1e-6\n",
        "    ):\n",
        "        ax.text(\n",
        "            bar.get_x() + bar.get_width() / 2,\n",
        "            bar.get_height() + 0.01,\n",
        "            label,\n",
        "            ha=\"center\",\n",
        "            va=\"bottom\",\n",
        "            fontsize=10,\n",
        "            weight=\"bold\",\n",
        "            color=\"black\"\n",
        "        )\n",
        "        break\n",
        "\n",
        "plt.savefig(\"/content/drive/MyDrive/DataSci266_Final_Project/combined_lstm_results/mae_comparison_annotated.png\")\n",
        "plt.show()\n",
        "\n"
      ],
      "metadata": {
        "colab": {
          "base_uri": "https://localhost:8080/",
          "height": 482
        },
        "id": "B7WhawFcFHUu",
        "outputId": "17d85929-2502-4f32-ed38-50dadc513631"
      },
      "execution_count": 34,
      "outputs": [
        {
          "output_type": "display_data",
          "data": {
            "text/plain": [
              "<Figure size 1000x600 with 1 Axes>"
            ],
            "image/png": "[encoded data removed]"
          },
          "metadata": {}
        }
      ]
    },
    {
      "cell_type": "code",
      "source": [
        "# Accuracy Plot\n",
        "import matplotlib.pyplot as plt\n",
        "import seaborn as sns\n",
        "\n",
        "# Sort embeddings by average Accuracy (highest to lowest for left-to-right)\n",
        "accuracy_order = result_df.groupby(\"Embedding\")[\"Accuracy\"].mean().sort_values(ascending=False).index.tolist()\n",
        "\n",
        "# Plot Accuracy bar chart\n",
        "naive_accuracy = 0.4905\n",
        "\n",
        "plt.figure(figsize=(10, 6))\n",
        "ax = sns.barplot(\n",
        "    data=result_df,\n",
        "    x=\"Embedding\",\n",
        "    y=\"Accuracy\",\n",
        "    hue=\"FeatureSet\",\n",
        "    order=accuracy_order,\n",
        "    palette=\"Set2\"\n",
        ")\n",
        "\n",
        "# Add red dashed baseline\n",
        "plt.axhline(y=naive_accuracy, color=\"red\", linestyle=\"--\", linewidth=2, label=\"Naïve Accuracy\")\n",
        "plt.legend(loc=\"lower right\")\n",
        "\n",
        "plt.title(\"Accuracy Comparison: FinTwitBERT vs Custom Word2Vec vs GoogleNews Word2Vec\")\n",
        "plt.tight_layout()\n",
        "\n",
        "# 🏆 Find the best Accuracy row\n",
        "best_row = result_df.loc[result_df[\"Accuracy\"].idxmax()]\n",
        "label = f\"🏆 {best_row['Model']} + {best_row['Embedding']} ({best_row['FeatureSet']})\"\n",
        "\n",
        "# Loop through bar patches and match row exactly\n",
        "for bar, (i, row) in zip(ax.patches, result_df.iterrows()):\n",
        "    if (\n",
        "        row[\"Embedding\"] == best_row[\"Embedding\"] and\n",
        "        row[\"FeatureSet\"] == best_row[\"FeatureSet\"] and\n",
        "        abs(row[\"Accuracy\"] - best_row[\"Accuracy\"]) < 1e-6\n",
        "    ):\n",
        "        ax.text(\n",
        "            bar.get_x() + bar.get_width() / 2,\n",
        "            bar.get_height() + 0.01,\n",
        "            label,\n",
        "            ha=\"center\",\n",
        "            va=\"bottom\",\n",
        "            fontsize=10,\n",
        "            weight=\"bold\",\n",
        "            color=\"black\"\n",
        "        )\n",
        "        break\n",
        "\n",
        "# Save with correct filename\n",
        "plt.savefig(\"/content/drive/MyDrive/DataSci266_Final_Project/combined_lstm_results/accuracy_comparison_annotated.png\")\n",
        "plt.show()"
      ],
      "metadata": {
        "colab": {
          "base_uri": "https://localhost:8080/",
          "height": 482
        },
        "id": "3Ww6LRxl46_g",
        "outputId": "f99a0285-8ecf-43e7-8eb6-1dd82436a005"
      },
      "execution_count": 35,
      "outputs": [
        {
          "output_type": "display_data",
          "data": {
            "text/plain": [
              "<Figure size 1000x600 with 1 Axes>"
            ],
            "image/png": "[encoded data removed]"
          },
          "metadata": {}
        }
      ]
    },
    {
      "cell_type": "code",
      "source": [
        "import matplotlib.pyplot as plt\n",
        "import seaborn as sns\n",
        "\n",
        "plt.figure(figsize=(10, 6))\n",
        "sns.barplot(\n",
        "    data=result_df,\n",
        "    x=\"FeatureSet\",\n",
        "    y=\"Accuracy\",\n",
        "    hue=\"Embedding\",\n",
        "    palette=\"Set2\"\n",
        ")\n",
        "\n",
        "plt.title(\"Accuracy by Feature Set and Embedding\")\n",
        "plt.ylabel(\"Accuracy\")\n",
        "plt.xlabel(\"Feature Set\")\n",
        "plt.tight_layout()\n",
        "plt.savefig(\"/content/drive/MyDrive/DataSci266_Final_Project/combined_lstm_results/grouped_accuracy_by_feature.png\")\n",
        "plt.show()"
      ],
      "metadata": {
        "colab": {
          "base_uri": "https://localhost:8080/",
          "height": 482
        },
        "id": "Ea0Tfxyx8jbV",
        "outputId": "436478f7-e0a7-454a-fa7b-3e1f87c452dc"
      },
      "execution_count": 36,
      "outputs": [
        {
          "output_type": "display_data",
          "data": {
            "text/plain": [
              "<Figure size 1000x600 with 1 Axes>"
            ],
            "image/png": "[encoded data removed]"
          },
          "metadata": {}
        }
      ]
    },
    {
      "cell_type": "code",
      "source": [
        "import matplotlib.pyplot as plt\n",
        "import seaborn as sns\n",
        "\n",
        "plt.figure(figsize=(10, 6))\n",
        "sns.barplot(\n",
        "    data=result_df,\n",
        "    x=\"FeatureSet\",\n",
        "    y=\"MAE\",\n",
        "    hue=\"Embedding\",\n",
        "    palette=\"Set2\"\n",
        ")\n",
        "\n",
        "plt.title(\"MAE by Feature Set and Embedding\")\n",
        "plt.ylabel(\"MAE\")\n",
        "plt.xlabel(\"Feature Set\")\n",
        "plt.tight_layout()\n",
        "plt.savefig(\"/content/drive/MyDrive/DataSci266_Final_Project/combined_lstm_results/grouped_mae_by_feature.png\")\n",
        "plt.show()\n"
      ],
      "metadata": {
        "colab": {
          "base_uri": "https://localhost:8080/",
          "height": 482
        },
        "id": "C7ISqpKi8mww",
        "outputId": "bb1c4af2-3e3c-4720-dea5-98809ac49115"
      },
      "execution_count": 37,
      "outputs": [
        {
          "output_type": "display_data",
          "data": {
            "text/plain": [
              "<Figure size 1000x600 with 1 Axes>"
            ],
            "image/png": "[encoded data removed]"
          },
          "metadata": {}
        }
      ]
    },
    {
      "cell_type": "code",
      "source": [
        "import matplotlib.pyplot as plt\n",
        "import seaborn as sns\n",
        "\n",
        "# Filter result_df for just the LSTM model\n",
        "lstm_df = result_df[result_df[\"Model\"] == \"LSTM\"]\n",
        "\n",
        "# Plot Accuracy bar chart\n",
        "naive_accuracy = 0.4905\n",
        "\n",
        "plt.figure(figsize=(10, 6))\n",
        "ax = sns.barplot(\n",
        "    data=result_df,\n",
        "    x=\"Embedding\",\n",
        "    y=\"Accuracy\",\n",
        "    hue=\"FeatureSet\",\n",
        "    order=accuracy_order,\n",
        "    palette=\"Set2\"\n",
        ")\n",
        "\n",
        "# Add red dashed baseline\n",
        "plt.axhline(y=naive_accuracy, color=\"red\", linestyle=\"--\", linewidth=2, label=\"Naïve Accuracy\")\n",
        "plt.legend(loc=\"lower right\")\n",
        "\n",
        "plt.title(\"LSTM Accuracy by Feature Set and Embedding\")\n",
        "plt.ylabel(\"Accuracy\")\n",
        "plt.xlabel(\"Feature Set\")\n",
        "plt.tight_layout()\n",
        "plt.savefig(\"/content/drive/MyDrive/DataSci266_Final_Project/combined_lstm_results/lstm_grouped_accuracy_by_feature.png\")\n",
        "plt.show()"
      ],
      "metadata": {
        "colab": {
          "base_uri": "https://localhost:8080/",
          "height": 482
        },
        "id": "tUCOpiB78_wB",
        "outputId": "8ff3b93b-2eaf-40c8-95d4-29b2f740b33a"
      },
      "execution_count": 38,
      "outputs": [
        {
          "output_type": "display_data",
          "data": {
            "text/plain": [
              "<Figure size 1000x600 with 1 Axes>"
            ],
            "image/png": "[encoded data removed]"
          },
          "metadata": {}
        }
      ]
    },
    {
      "cell_type": "code",
      "source": [
        "# Filter result_df for just the LSTM model\n",
        "lstm_df = result_df[result_df[\"Model\"] == \"LSTM\"]\n",
        "\n",
        "# Plot MAE bar chart\n",
        "naive_mae = 0.02621\n",
        "\n",
        "plt.figure(figsize=(10, 6))\n",
        "ax = sns.barplot(\n",
        "    data=result_df,\n",
        "    x=\"Embedding\",\n",
        "    y=\"MAE\",\n",
        "    hue=\"FeatureSet\",\n",
        "    order=mae_order,\n",
        "    palette=\"Set2\"\n",
        ")\n",
        "\n",
        "# Add red dashed baseline\n",
        "plt.axhline(y=naive_mae, color=\"red\", linestyle=\"--\", linewidth=2, label=\"Naïve MAE\")\n",
        "plt.legend(loc=\"upper right\")\n",
        "\n",
        "plt.title(\"LSTM MAE by Feature Set and Embedding\")\n",
        "plt.ylabel(\"MAE\")\n",
        "plt.xlabel(\"Feature Set\")\n",
        "plt.tight_layout()\n",
        "plt.savefig(\"/content/drive/MyDrive/DataSci266_Final_Project/combined_lstm_results/lstm_grouped_mae_by_feature.png\")\n",
        "plt.show()"
      ],
      "metadata": {
        "colab": {
          "base_uri": "https://localhost:8080/",
          "height": 482
        },
        "id": "li12WIz-9VN9",
        "outputId": "436377b1-6835-4f9e-a70f-23107d4ee10d"
      },
      "execution_count": 39,
      "outputs": [
        {
          "output_type": "display_data",
          "data": {
            "text/plain": [
              "<Figure size 1000x600 with 1 Axes>"
            ],
            "image/png": "[encoded data removed]"
          },
          "metadata": {}
        }
      ]
    },
    {
      "cell_type": "markdown",
      "source": [
        "##Step 2: Summary Table"
      ],
      "metadata": {
        "id": "1FE1_Nt_FRY5"
      }
    },
    {
      "cell_type": "code",
      "source": [
        "# Create summary by model and embedding\n",
        "summary = result_df.groupby([\"Model\", \"Embedding\", \"FeatureSet\"])[[\"MAE\", \"Accuracy\"]].mean().reset_index()\n",
        "\n",
        "# Save to CSV\n",
        "summary_path = \"/content/drive/MyDrive/DataSci266_Final_Project/combined_lstm_results/summary_metrics.csv\"\n",
        "summary.to_csv(summary_path, index=False)\n",
        "\n",
        "# Display summary\n",
        "print(\"✅ Summary table saved at:\", summary_path)\n",
        "print(summary)\n"
      ],
      "metadata": {
        "colab": {
          "base_uri": "https://localhost:8080/"
        },
        "id": "lz63MnO6FTvw",
        "outputId": "ce68f8ba-ebc2-40d5-fc3e-1046b61e8880"
      },
      "execution_count": 22,
      "outputs": [
        {
          "output_type": "stream",
          "name": "stdout",
          "text": [
            "✅ Summary table saved at: /content/drive/MyDrive/DataSci266_Final_Project/combined_lstm_results/summary_metrics.csv\n",
            "    Model   Embedding      FeatureSet       MAE  Accuracy\n",
            "0   DENSE         cls        combined  0.067006  0.546610\n",
            "1   DENSE         cls      price-only  1.199891  0.440678\n",
            "2   DENSE         cls  sentiment-only  0.121286  0.572034\n",
            "3   DENSE  googlenews        combined  0.403552  0.495098\n",
            "4   DENSE  googlenews      price-only  2.515956  0.509804\n",
            "5   DENSE  googlenews  sentiment-only  0.027697  0.465686\n",
            "6   DENSE         max        combined  0.090168  0.487288\n",
            "7   DENSE         max      price-only  1.433512  0.500000\n",
            "8   DENSE         max  sentiment-only  0.126106  0.415254\n",
            "9   DENSE        mean        combined  0.053344  0.478814\n",
            "10  DENSE        mean      price-only  1.832954  0.525424\n",
            "11  DENSE        mean  sentiment-only  0.022791  0.559322\n",
            "12  DENSE         w2v        combined  0.701449  0.495098\n",
            "13  DENSE         w2v      price-only  1.348958  0.534314\n",
            "14  DENSE         w2v  sentiment-only  0.036794  0.480392\n",
            "15   LSTM         cls        combined  0.022761  0.432203\n",
            "16   LSTM         cls      price-only  0.091637  0.483051\n",
            "17   LSTM         cls  sentiment-only  0.021229  0.542373\n",
            "18   LSTM  googlenews        combined  0.062244  0.558824\n",
            "19   LSTM  googlenews      price-only  0.099386  0.495098\n",
            "20   LSTM  googlenews  sentiment-only  0.022729  0.558824\n",
            "21   LSTM         max        combined  0.019704  0.546610\n",
            "22   LSTM         max      price-only  0.084531  0.504237\n",
            "23   LSTM         max  sentiment-only  0.019985  0.516949\n",
            "24   LSTM        mean        combined  0.023149  0.516949\n",
            "25   LSTM        mean      price-only  0.126997  0.567797\n",
            "26   LSTM        mean  sentiment-only  0.019372  0.478814\n",
            "27   LSTM         w2v        combined  0.088112  0.514706\n",
            "28   LSTM         w2v      price-only  0.103460  0.539216\n",
            "29   LSTM         w2v  sentiment-only  0.021552  0.475490\n"
          ]
        }
      ]
    },
    {
      "cell_type": "code",
      "source": [
        "def rerun_missing_embeddings(combined, result_df, feature_modes, models, window, binary=False):\n",
        "    from sklearn.metrics import mean_absolute_error, accuracy_score\n",
        "\n",
        "    def safe_stack(vectors, expected_dim):\n",
        "        clean = [np.array(v) for v in vectors if isinstance(v, (list, np.ndarray)) and len(v) == expected_dim]\n",
        "        return np.stack(clean) if clean else np.empty((0, expected_dim))\n",
        "\n",
        "    def create_sequences(df, sentiment_key, mode=\"combined\"):\n",
        "        expected_dim = 300 if sentiment_key == \"googlenews\" else 100\n",
        "        sentiment = safe_stack(df[sentiment_key].dropna().values, expected_dim)\n",
        "        if sentiment.shape[0] < window:\n",
        "            raise ValueError(f\"⚠️ Not enough valid vectors for {sentiment_key}\")\n",
        "\n",
        "        price = df.select_dtypes(include=[np.number]).drop(columns=[\"Return\", \"Next_Close\", \"avg_sentiment\"], errors=\"ignore\").values\n",
        "        scaler = StandardScaler()\n",
        "        price_scaled = scaler.fit_transform(price)\n",
        "\n",
        "        if mode == \"price-only\":\n",
        "            X_full = price_scaled\n",
        "        elif mode == \"sentiment-only\":\n",
        "            X_full = sentiment\n",
        "        else:\n",
        "            sentiment_feat = sentiment\n",
        "            if \"avg_sentiment\" in df:\n",
        "                sentiment_feat = np.concatenate([sentiment, df[[\"avg_sentiment\"]].values[:len(sentiment)]], axis=1)\n",
        "            X_full = np.concatenate([sentiment_feat, price_scaled[:len(sentiment)]], axis=1)\n",
        "\n",
        "        X_seq, y = [], []\n",
        "        for i in range(len(X_full) - window - 1):\n",
        "            X_seq.append(X_full[i:i+window])\n",
        "            y_val = df[\"Return\"].iloc[i + window]\n",
        "            y.append(int(y_val > 0) if binary else y_val)\n",
        "\n",
        "        return np.array(X_seq), np.array(y)\n",
        "\n",
        "    def build_dense(input_shape):\n",
        "        return tf.keras.Sequential([\n",
        "            tf.keras.layers.Dense(128, activation='relu', input_shape=(input_shape,)),\n",
        "            tf.keras.layers.Dense(1 if not binary else 1, activation='sigmoid' if binary else None)\n",
        "        ])\n",
        "\n",
        "    def build_lstm(input_shape):\n",
        "        return tf.keras.Sequential([\n",
        "            tf.keras.layers.Bidirectional(tf.keras.layers.LSTM(64, return_sequences=True)),\n",
        "            tf.keras.layers.LSTM(32, dropout=0.2),\n",
        "            tf.keras.layers.Dense(32, activation='relu'),\n",
        "            tf.keras.layers.Dense(1 if not binary else 1, activation='sigmoid' if binary else None)\n",
        "        ])\n",
        "\n",
        "    new_results = []\n",
        "\n",
        "    for feature_mode in feature_modes:\n",
        "        for embedding_key in [\"w2v\", \"googlenews\"]:\n",
        "            for model_type in models:\n",
        "                for ticker in tqdm(combined[\"Ticker\"].unique(), desc=f\"{embedding_key} | {feature_mode} | {model_type}\"):\n",
        "                    df_t = combined[combined[\"Ticker\"] == ticker]\n",
        "                    try:\n",
        "                        X_seq, y = create_sequences(df_t, embedding_key, mode=feature_mode)\n",
        "                        if len(X_seq) < 50:\n",
        "                            continue\n",
        "                        split = int(0.8 * len(X_seq))\n",
        "                        X_train, X_test = X_seq[:split], X_seq[split:]\n",
        "                        y_train, y_test = y[:split], y[split:]\n",
        "\n",
        "                        if model_type == \"dense\":\n",
        "                            X_train_flat = X_train.reshape(X_train.shape[0], -1)\n",
        "                            X_test_flat = X_test.reshape(X_test.shape[0], -1)\n",
        "                            model = build_dense(X_train_flat.shape[1])\n",
        "                            X_tr, X_te = X_train_flat, X_test_flat\n",
        "                        else:\n",
        "                            model = build_lstm(X_train.shape[1:])\n",
        "                            X_tr, X_te = X_train, X_test\n",
        "\n",
        "                        model.compile(optimizer='adam', loss='mae')\n",
        "                        model.fit(X_tr, y_train, epochs=10, batch_size=32, verbose=0)\n",
        "                        y_pred = model.predict(X_te).flatten()\n",
        "\n",
        "                        mae = mean_absolute_error(y_test, y_pred)\n",
        "                        acc = accuracy_score(y_test > 0, y_pred > 0)\n",
        "\n",
        "                        new_results.append({\n",
        "                            \"Model\": model_type.upper(),\n",
        "                            \"Embedding\": embedding_key,\n",
        "                            \"FeatureSet\": feature_mode,\n",
        "                            \"MAE\": mae,\n",
        "                            \"Accuracy\": acc\n",
        "                        })\n",
        "\n",
        "                    except Exception as e:\n",
        "                        print(f\"❌ {ticker} failed for {embedding_key}: {e}\")\n",
        "\n",
        "    return pd.concat([result_df, pd.DataFrame(new_results)], ignore_index=True)"
      ],
      "metadata": {
        "id": "nt_vDF1Pv7XJ"
      },
      "execution_count": 2,
      "outputs": []
    },
    {
      "cell_type": "code",
      "source": [
        "result_df = rerun_missing_embeddings(\n",
        "    combined=combined,\n",
        "    result_df=result_df,\n",
        "    feature_modes=[\"price-only\", \"sentiment-only\", \"combined\"],\n",
        "    models=[\"dense\", \"lstm\"],\n",
        "    window=10,\n",
        "    binary=False\n",
        ")\n",
        "result_df.to_csv(\"/content/drive/MyDrive/DataSci266_Final_Project/combined_lstm_results/final_model_comparison_all_embeddings.csv\", index=False)"
      ],
      "metadata": {
        "colab": {
          "base_uri": "https://localhost:8080/",
          "height": 216
        },
        "id": "EUExpHHHwYSh",
        "outputId": "38e06590-9420-4006-cc80-9c136bc8efde"
      },
      "execution_count": 3,
      "outputs": [
        {
          "output_type": "error",
          "ename": "NameError",
          "evalue": "name 'combined' is not defined",
          "traceback": [
            "\u001b[0;31m---------------------------------------------------------------------------\u001b[0m",
            "\u001b[0;31mNameError\u001b[0m                                 Traceback (most recent call last)",
            "\u001b[0;32m<ipython-input-3-55a52086031a>\u001b[0m in \u001b[0;36m<cell line: 0>\u001b[0;34m()\u001b[0m\n\u001b[1;32m      1\u001b[0m result_df = rerun_missing_embeddings(\n\u001b[0;32m----> 2\u001b[0;31m     \u001b[0mcombined\u001b[0m\u001b[0;34m=\u001b[0m\u001b[0mcombined\u001b[0m\u001b[0;34m,\u001b[0m\u001b[0;34m\u001b[0m\u001b[0;34m\u001b[0m\u001b[0m\n\u001b[0m\u001b[1;32m      3\u001b[0m     \u001b[0mresult_df\u001b[0m\u001b[0;34m=\u001b[0m\u001b[0mresult_df\u001b[0m\u001b[0;34m,\u001b[0m\u001b[0;34m\u001b[0m\u001b[0;34m\u001b[0m\u001b[0m\n\u001b[1;32m      4\u001b[0m     \u001b[0mfeature_modes\u001b[0m\u001b[0;34m=\u001b[0m\u001b[0;34m[\u001b[0m\u001b[0;34m\"price-only\"\u001b[0m\u001b[0;34m,\u001b[0m \u001b[0;34m\"sentiment-only\"\u001b[0m\u001b[0;34m,\u001b[0m \u001b[0;34m\"combined\"\u001b[0m\u001b[0;34m]\u001b[0m\u001b[0;34m,\u001b[0m\u001b[0;34m\u001b[0m\u001b[0;34m\u001b[0m\u001b[0m\n\u001b[1;32m      5\u001b[0m     \u001b[0mmodels\u001b[0m\u001b[0;34m=\u001b[0m\u001b[0;34m[\u001b[0m\u001b[0;34m\"dense\"\u001b[0m\u001b[0;34m,\u001b[0m \u001b[0;34m\"lstm\"\u001b[0m\u001b[0;34m]\u001b[0m\u001b[0;34m,\u001b[0m\u001b[0;34m\u001b[0m\u001b[0;34m\u001b[0m\u001b[0m\n",
            "\u001b[0;31mNameError\u001b[0m: name 'combined' is not defined"
          ]
        }
      ]
    },
    {
      "cell_type": "markdown",
      "source": [
        "## Step 3: Bar Charts"
      ],
      "metadata": {
        "id": "WesCwVnYFeLa"
      }
    },
    {
      "cell_type": "code",
      "source": [
        "# Bar plot - MAE\n",
        "plt.figure(figsize=(8, 5))\n",
        "sns.barplot(data=summary, x=\"Embedding\", y=\"MAE\", hue=\"Model\")\n",
        "plt.title(\"Mean Absolute Error by Embedding and Model\")\n",
        "plt.tight_layout()\n",
        "plt.savefig(f\"{results_dir}/bar_mae.png\")\n",
        "plt.show()\n",
        "\n",
        "# Bar plot - Accuracy\n",
        "plt.figure(figsize=(8, 5))\n",
        "sns.barplot(data=summary, x=\"Embedding\", y=\"Accuracy\", hue=\"Model\")\n",
        "plt.title(\"Accuracy by Embedding and Model\")\n",
        "plt.tight_layout()\n",
        "plt.savefig(f\"{results_dir}/bar_accuracy.png\")\n",
        "plt.show()\n"
      ],
      "metadata": {
        "colab": {
          "base_uri": "https://localhost:8080/",
          "height": 985
        },
        "id": "_gHeHOoXFfMo",
        "outputId": "2a886221-1a1e-4262-e46b-c49faf331d7d"
      },
      "execution_count": 24,
      "outputs": [
        {
          "output_type": "display_data",
          "data": {
            "text/plain": [
              "<Figure size 800x500 with 1 Axes>"
            ],
            "image/png": "[encoded data removed]"
          },
          "metadata": {}
        },
        {
          "output_type": "display_data",
          "data": {
            "text/plain": [
              "<Figure size 800x500 with 1 Axes>"
            ],
            "image/png": "[encoded data removed]"
          },
          "metadata": {}
        }
      ]
    }
  ]
}