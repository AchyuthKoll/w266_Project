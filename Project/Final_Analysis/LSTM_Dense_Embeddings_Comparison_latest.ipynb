{
  "nbformat": 4,
  "nbformat_minor": 0,
  "metadata": {
    "colab": {
      "provenance": [],
      "gpuType": "T4"
    },
    "kernelspec": {
      "name": "python3",
      "display_name": "Python 3"
    },
    "language_info": {
      "name": "python"
    },
    "accelerator": "GPU"
  },
  "cells": [
    {
      "cell_type": "markdown",
      "source": [
        "## PART 1: Generate Daily Sentiment Embeddings (CLS / Mean / Max)"
      ],
      "metadata": {
        "id": "8ZnJgszlMqf7"
      }
    },
    {
      "cell_type": "code",
      "execution_count": 4,
      "metadata": {
        "colab": {
          "base_uri": "https://localhost:8080/"
        },
        "id": "4UW9A17qMcM2",
        "outputId": "aa1b48f6-5caa-4d21-c80a-8ee8b8c685df"
      },
      "outputs": [
        {
          "output_type": "stream",
          "name": "stdout",
          "text": [
            "Drive already mounted at /content/drive; to attempt to forcibly remount, call drive.mount(\"/content/drive\", force_remount=True).\n"
          ]
        },
        {
          "output_type": "stream",
          "name": "stderr",
          "text": [
            "Some weights of the PyTorch model were not used when initializing the TF 2.0 model TFBertModel: ['cls.predictions.transform.dense.bias', 'cls.predictions.transform.dense.weight', 'cls.predictions.bias', 'cls.predictions.transform.LayerNorm.weight', 'cls.predictions.transform.LayerNorm.bias']\n",
            "- This IS expected if you are initializing TFBertModel from a PyTorch model trained on another task or with another architecture (e.g. initializing a TFBertForSequenceClassification model from a BertForPreTraining model).\n",
            "- This IS NOT expected if you are initializing TFBertModel from a PyTorch model that you expect to be exactly identical (e.g. initializing a TFBertForSequenceClassification model from a BertForSequenceClassification model).\n",
            "Some weights or buffers of the TF 2.0 model TFBertModel were not initialized from the PyTorch model and are newly initialized: ['bert.pooler.dense.weight', 'bert.pooler.dense.bias']\n",
            "You should probably TRAIN this model on a down-stream task to be able to use it for predictions and inference.\n"
          ]
        }
      ],
      "source": [
        "# Install dependencies\n",
        "#!pip install transformers datasets tensorflow pandas numpy\n",
        "\n",
        "# Mount Google Drive\n",
        "from google.colab import drive\n",
        "drive.mount('/content/drive')\n",
        "\n",
        "# Setup\n",
        "import os\n",
        "import torch\n",
        "import numpy as np\n",
        "import pandas as pd\n",
        "from tqdm import tqdm\n",
        "import tensorflow as tf\n",
        "from transformers import AutoTokenizer, TFAutoModel\n",
        "from datasets import load_dataset\n",
        "from collections import defaultdict\n",
        "import pickle\n",
        "\n",
        "output_dir = \"/content/drive/MyDrive/DataSci266_Final_Project/finbert_embeddings\"\n",
        "os.makedirs(output_dir, exist_ok=True)\n",
        "\n",
        "# Load model and tokenizer\n",
        "model_name = \"StephanAkkerman/FinTwitBERT\"\n",
        "tokenizer = AutoTokenizer.from_pretrained(model_name)\n",
        "model = TFAutoModel.from_pretrained(model_name)\n",
        "\n",
        "# Load dataset\n",
        "dataset = load_dataset(\"StephanAkkerman/financial-tweets\", split=\"train\")"
      ]
    },
    {
      "cell_type": "code",
      "source": [
        "def get_embeddings_batch(text_list):\n",
        "    # Tokenize entire batch\n",
        "    inputs = tokenizer(\n",
        "        text_list, return_tensors=\"tf\", truncation=True, padding=True\n",
        "    )\n",
        "    outputs = model(**inputs)\n",
        "    last_hidden = outputs.last_hidden_state  # shape: (batch, seq_len, 768)\n",
        "\n",
        "    # [CLS] token\n",
        "    cls = last_hidden[:, 0, :].numpy()\n",
        "\n",
        "    # Mean and Max pooling\n",
        "    mean = tf.reduce_mean(last_hidden, axis=1).numpy()\n",
        "    max_ = tf.reduce_max(last_hidden, axis=1).numpy()\n",
        "\n",
        "    return cls, mean, max_"
      ],
      "metadata": {
        "id": "_BWbpoR43a8h"
      },
      "execution_count": 5,
      "outputs": []
    },
    {
      "cell_type": "code",
      "source": [
        "# Average embeddings per day\n",
        "from datetime import datetime\n",
        "embedding_sums = defaultdict(lambda: {\"cls\": [], \"mean\": [], \"max\": []})\n",
        "daily_sentiment_scores = defaultdict(list)\n",
        "\n",
        "skipped = 0\n",
        "batch_size = 64\n",
        "texts, dates, sentiments = [], [], []\n",
        "\n",
        "# Collect data\n",
        "for ex in tqdm(dataset, desc=\"Embedding tweets\"):\n",
        "    try:\n",
        "        if not ex.get(\"timestamp\") or not ex.get(\"description\") or ex.get(\"sentiment\") is None:\n",
        "            skipped += 1\n",
        "            continue\n",
        "        texts.append(ex[\"description\"])\n",
        "        dates.append(ex[\"timestamp\"].split(\"T\")[0])\n",
        "        sentiments.append(ex[\"sentiment\"])\n",
        "    except Exception as e:\n",
        "        print(\"Skipping tweet due to:\", e)\n",
        "        skipped += 1\n",
        "\n",
        "print(f\"✅ Collected {len(texts)} tweets\")\n",
        "print(f\"⛔ Skipped {skipped} tweets with missing fields\")\n",
        "\n",
        "# Process in batches\n",
        "for i in tqdm(range(0, len(texts), batch_size), desc=\"Embedding batches\"):\n",
        "    batch_texts = texts[i:i + batch_size]\n",
        "    batch_dates = dates[i:i + batch_size]\n",
        "    batch_sentiments = sentiments[i:i + batch_size]  # ✅ Fix is here\n",
        "\n",
        "    try:\n",
        "        cls_arr, mean_arr, max_arr = get_embeddings_batch(batch_texts)\n",
        "\n",
        "        for j in range(len(batch_texts)):\n",
        "            date = batch_dates[j]\n",
        "            daily_sentiment_scores[date].append(batch_sentiments[j])  # ✅ Now valid\n",
        "            embedding_sums[date][\"cls\"].append(cls_arr[j])\n",
        "            embedding_sums[date][\"mean\"].append(mean_arr[j])\n",
        "            embedding_sums[date][\"max\"].append(max_arr[j])\n",
        "\n",
        "    except Exception as e:\n",
        "        print(f\"⚠️ Error in batch {i}: {e}\")"
      ],
      "metadata": {
        "colab": {
          "base_uri": "https://localhost:8080/"
        },
        "id": "dIDJ5faW3uMI",
        "outputId": "28303028-a5bf-481f-ab6f-9fc9f6b57ffc"
      },
      "execution_count": 6,
      "outputs": [
        {
          "output_type": "stream",
          "name": "stderr",
          "text": [
            "Embedding tweets: 100%|██████████| 314732/314732 [00:34<00:00, 9139.67it/s]\n"
          ]
        },
        {
          "output_type": "stream",
          "name": "stdout",
          "text": [
            "✅ Collected 68105 tweets\n",
            "⛔ Skipped 246627 tweets with missing fields\n"
          ]
        },
        {
          "output_type": "stream",
          "name": "stderr",
          "text": [
            "Embedding batches:   0%|          | 0/1065 [00:00<?, ?it/s]Asking to truncate to max_length but no maximum length is provided and the model has no predefined maximum length. Default to no truncation.\n",
            "Embedding batches: 100%|██████████| 1065/1065 [10:44<00:00,  1.65it/s]\n"
          ]
        }
      ]
    },
    {
      "cell_type": "code",
      "source": [
        "print(\"✅ Number of unique dates with embeddings:\", len(embedding_sums))\n",
        "sample_date = next(iter(embedding_sums)) if embedding_sums else None\n",
        "print(\"🗓️ Example date:\", sample_date)\n",
        "print(\"📐 CLS shape for that day:\", np.array(embedding_sums[sample_date][\"cls\"]).shape if sample_date else \"N/A\")"
      ],
      "metadata": {
        "colab": {
          "base_uri": "https://localhost:8080/"
        },
        "id": "ouaW02iO4VQe",
        "outputId": "93c01391-a6bc-4d5d-fc48-e9ea2bea4ca8"
      },
      "execution_count": 7,
      "outputs": [
        {
          "output_type": "stream",
          "name": "stdout",
          "text": [
            "✅ Number of unique dates with embeddings: 444\n",
            "🗓️ Example date: 2023-11-14\n",
            "📐 CLS shape for that day: (163, 768)\n"
          ]
        }
      ]
    },
    {
      "cell_type": "code",
      "source": [
        "# Average per day\n",
        "daily_embeddings = {\n",
        "    'date': [],\n",
        "    'cls': [],\n",
        "    'mean': [],\n",
        "    'max': [],\n",
        "    'avg_sentiment': []\n",
        "}\n",
        "\n",
        "# Create a mapping from sentiment labels to numerical values\n",
        "sentiment_mapping = {'Bullish': 1, 'Bearish': -1, 'Neutral': 0}\n",
        "\n",
        "for date in embedding_sums:\n",
        "    daily_embeddings[\"date\"].append(date)\n",
        "\n",
        "    for key in [\"cls\", \"mean\", \"max\"]:\n",
        "        arr = np.stack(embedding_sums[date][key])\n",
        "        daily_embeddings[key].append(arr.mean(axis=0))  # ✅ Fixed: closing parenthesis\n",
        "\n",
        "    # ✅ Correct: avg_score calculation inside the loop\n",
        "    # Convert sentiment scores to numeric before calculating the mean\n",
        "    sentiment_scores = [sentiment_mapping.get(score, 0) for score in daily_sentiment_scores[date]]\n",
        "    avg_score = np.mean(sentiment_scores) if sentiment_scores else 0\n",
        "    daily_embeddings[\"avg_sentiment\"].append(avg_score)\n",
        "# Final DataFrame\n",
        "emb_df = pd.DataFrame(daily_embeddings)\n",
        "emb_df[\"date\"] = pd.to_datetime(emb_df[\"date\"])\n",
        "emb_df = emb_df.sort_values(\"date\")\n",
        "\n",
        "print(\"✅ Daily embeddings generated:\", len(emb_df))\n",
        "print(\"📅 Date range:\", emb_df['date'].min(), \"→\", emb_df['date'].max())\n",
        "print(emb_df.head())\n",
        "print(\"✅ Unique dates:\", emb_df[\"date\"].nunique())\n",
        "\n",
        "# Save\n",
        "with open(f\"{output_dir}/daily_sentiment_embeddings.pkl\", \"wb\") as f:\n",
        "    pickle.dump(emb_df, f)\n",
        "\n",
        "print(\"Saved daily sentiment embeddings to Google Drive.\")"
      ],
      "metadata": {
        "colab": {
          "base_uri": "https://localhost:8080/"
        },
        "id": "vaamIYym33UR",
        "outputId": "09f33aa4-7917-4624-ebf5-193735ffe33c"
      },
      "execution_count": 10,
      "outputs": [
        {
          "output_type": "stream",
          "name": "stdout",
          "text": [
            "✅ Daily embeddings generated: 444\n",
            "📅 Date range: 2021-12-27 00:00:00 → 2024-04-03 00:00:00\n",
            "          date                                                cls  \\\n",
            "441 2021-12-27  [-0.23162088, -0.537831, -0.11581464, 0.582418...   \n",
            "440 2022-01-02  [-0.22748329, -0.61845094, -0.04058229, 0.4155...   \n",
            "439 2022-01-03  [-0.15400232, -0.5237716, -0.059607867, 0.4547...   \n",
            "438 2022-01-04  [-0.17182718, -0.5494433, -0.0702886, 0.569090...   \n",
            "437 2022-01-05  [-0.11933209, -0.53722817, -0.1544225, 0.46808...   \n",
            "\n",
            "                                                  mean  \\\n",
            "441  [-0.39374432, -0.44676203, -0.3779505, 0.55620...   \n",
            "440  [-0.45924956, -0.51103616, -0.19575621, 0.3937...   \n",
            "439  [-0.34352374, -0.42859635, -0.23460747, 0.4499...   \n",
            "438  [-0.35483292, -0.42010704, -0.23844147, 0.4636...   \n",
            "437  [-0.3026388, -0.44002488, -0.29311842, 0.45087...   \n",
            "\n",
            "                                                   max  avg_sentiment  \n",
            "441  [0.98006344, 1.0974677, 1.10989, 1.7251962, 1....       0.365854  \n",
            "440  [0.8274415, 0.989637, 1.1023318, 1.5514319, 1....       0.000000  \n",
            "439  [0.9862221, 1.0849984, 1.1635466, 1.724017, 1....       0.000000  \n",
            "438  [0.9758261, 1.0423867, 1.1397113, 1.715952, 1....       0.000000  \n",
            "437  [1.0772831, 1.0340208, 1.1382293, 1.7334776, 1...       0.000000  \n",
            "✅ Unique dates: 444\n",
            "Saved daily sentiment embeddings to Google Drive.\n"
          ]
        }
      ]
    },
    {
      "cell_type": "markdown",
      "source": [
        "## STEP 1: Setup"
      ],
      "metadata": {
        "id": "Jx380sRWQlpy"
      }
    },
    {
      "cell_type": "code",
      "source": [
        "!pip install ta\n",
        "\n",
        "from sklearn.metrics import mean_absolute_error, accuracy_score\n",
        "from sklearn.preprocessing import StandardScaler\n",
        "import matplotlib.pyplot as plt\n",
        "import seaborn as sns\n",
        "import tensorflow as tf\n",
        "from ta import add_all_ta_features\n",
        "\n",
        "market_path = \"/content/drive/MyDrive/DataSci266_Final_Project/yahoo_finance_historical_data_10year.csv\"\n",
        "sentiment_path = \"/content/drive/MyDrive/DataSci266_Final_Project/finbert_embeddings/daily_sentiment_embeddings.pkl\"\n",
        "results_dir = \"/content/drive/MyDrive/DataSci266_Final_Project/combined_lstm_results\"\n",
        "os.makedirs(results_dir, exist_ok=True)\n",
        "\n",
        "# Load sentiment\n",
        "with open(sentiment_path, \"rb\") as f:\n",
        "    sentiment_df = pickle.load(f)\n",
        "\n",
        "print(\"📂 Type of loaded object:\", type(sentiment_df))\n",
        "print(\"📋 Columns:\", sentiment_df.columns)\n",
        "print(\"🔍 Sample rows:\")\n",
        "print(sentiment_df.head())\n",
        "\n",
        "# Force re-parse the date column\n",
        "sentiment_df = pd.read_pickle(sentiment_path)\n",
        "\n",
        "# Convert to string first (in case of objects), then to datetime\n",
        "sentiment_df[\"date\"] = pd.to_datetime(sentiment_df[\"date\"].astype(str), errors='coerce')\n",
        "\n",
        "# Drop any invalid dates\n",
        "sentiment_df = sentiment_df.dropna(subset=[\"date\"])\n",
        "\n",
        "# Add lagged sentiment features\n",
        "sentiment_df[\"cls_shift_1\"] = sentiment_df[\"cls\"].shift(1)\n",
        "sentiment_df[\"cls_momentum\"] = sentiment_df[\"cls\"] - sentiment_df[\"cls_shift_1\"]\n",
        "\n",
        "# Confirm it worked\n",
        "print(\"✅ Fixed Sentiment dates:\", sentiment_df[\"date\"].min(), \"→\", sentiment_df[\"date\"].max())"
      ],
      "metadata": {
        "colab": {
          "base_uri": "https://localhost:8080/"
        },
        "id": "GvlbkkfIQ5f2",
        "outputId": "bcf4050f-8c90-44aa-9560-938a47e8e6b4"
      },
      "execution_count": 12,
      "outputs": [
        {
          "output_type": "stream",
          "name": "stdout",
          "text": [
            "Collecting ta\n",
            "  Downloading ta-0.11.0.tar.gz (25 kB)\n",
            "  Preparing metadata (setup.py) ... \u001b[?25l\u001b[?25hdone\n",
            "Requirement already satisfied: numpy in /usr/local/lib/python3.11/dist-packages (from ta) (2.0.2)\n",
            "Requirement already satisfied: pandas in /usr/local/lib/python3.11/dist-packages (from ta) (2.2.2)\n",
            "Requirement already satisfied: python-dateutil>=2.8.2 in /usr/local/lib/python3.11/dist-packages (from pandas->ta) (2.8.2)\n",
            "Requirement already satisfied: pytz>=2020.1 in /usr/local/lib/python3.11/dist-packages (from pandas->ta) (2025.2)\n",
            "Requirement already satisfied: tzdata>=2022.7 in /usr/local/lib/python3.11/dist-packages (from pandas->ta) (2025.2)\n",
            "Requirement already satisfied: six>=1.5 in /usr/local/lib/python3.11/dist-packages (from python-dateutil>=2.8.2->pandas->ta) (1.17.0)\n",
            "Building wheels for collected packages: ta\n",
            "  Building wheel for ta (setup.py) ... \u001b[?25l\u001b[?25hdone\n",
            "  Created wheel for ta: filename=ta-0.11.0-py3-none-any.whl size=29412 sha256=ce12a8447788ee476d7d36080f04d516cbf44af214174166b30608452efa84f1\n",
            "  Stored in directory: /root/.cache/pip/wheels/a1/d7/29/7781cc5eb9a3659d032d7d15bdd0f49d07d2b24fec29f44bc4\n",
            "Successfully built ta\n",
            "Installing collected packages: ta\n",
            "Successfully installed ta-0.11.0\n",
            "📂 Type of loaded object: <class 'pandas.core.frame.DataFrame'>\n",
            "📋 Columns: Index(['date', 'cls', 'mean', 'max', 'avg_sentiment'], dtype='object')\n",
            "🔍 Sample rows:\n",
            "          date                                                cls  \\\n",
            "441 2021-12-27  [-0.23162088, -0.537831, -0.11581464, 0.582418...   \n",
            "440 2022-01-02  [-0.22748329, -0.61845094, -0.04058229, 0.4155...   \n",
            "439 2022-01-03  [-0.15400232, -0.5237716, -0.059607867, 0.4547...   \n",
            "438 2022-01-04  [-0.17182718, -0.5494433, -0.0702886, 0.569090...   \n",
            "437 2022-01-05  [-0.11933209, -0.53722817, -0.1544225, 0.46808...   \n",
            "\n",
            "                                                  mean  \\\n",
            "441  [-0.39374432, -0.44676203, -0.3779505, 0.55620...   \n",
            "440  [-0.45924956, -0.51103616, -0.19575621, 0.3937...   \n",
            "439  [-0.34352374, -0.42859635, -0.23460747, 0.4499...   \n",
            "438  [-0.35483292, -0.42010704, -0.23844147, 0.4636...   \n",
            "437  [-0.3026388, -0.44002488, -0.29311842, 0.45087...   \n",
            "\n",
            "                                                   max  avg_sentiment  \n",
            "441  [0.98006344, 1.0974677, 1.10989, 1.7251962, 1....       0.365854  \n",
            "440  [0.8274415, 0.989637, 1.1023318, 1.5514319, 1....       0.000000  \n",
            "439  [0.9862221, 1.0849984, 1.1635466, 1.724017, 1....       0.000000  \n",
            "438  [0.9758261, 1.0423867, 1.1397113, 1.715952, 1....       0.000000  \n",
            "437  [1.0772831, 1.0340208, 1.1382293, 1.7334776, 1...       0.000000  \n",
            "✅ Fixed Sentiment dates: 2021-12-27 00:00:00 → 2024-04-03 00:00:00\n"
          ]
        }
      ]
    },
    {
      "cell_type": "code",
      "source": [
        "from datasets import load_dataset\n",
        "\n",
        "dataset = load_dataset(\"StephanAkkerman/financial-tweets\", split=\"train\")\n",
        "print(dataset[0])\n"
      ],
      "metadata": {
        "colab": {
          "base_uri": "https://localhost:8080/"
        },
        "id": "mE0JtT6FXGgs",
        "outputId": "82d2e9de-d611-4194-b8fe-f4c42c0b6960"
      },
      "execution_count": 13,
      "outputs": [
        {
          "output_type": "stream",
          "name": "stdout",
          "text": [
            "{'image_url': 'https://pbs.twimg.com/media/F-7h_aha8AAd-bI.jpg', 'proxy_image_url': 'https://images-ext-1.discordapp.net/external/WbqMWzDeA5HMYV5iTE52ceggupWL728HobnJu5tLnNI/https/pbs.twimg.com/media/F-7h_aha8AAd-bI.jpg', 'image_dimensions': '(649, 1200)', 'thumbnail_url': 'https://pbs.twimg.com/profile_images/1542955742084435969/rpdLw6y2_normal.jpg', 'proxy_thumbnail_url': 'https://images-ext-1.discordapp.net/external/SiPBppp4J9AakndUpz3-m-VZ_T-RYzgIieQIzli0hKY/https/pbs.twimg.com/profile_images/1542955742084435969/rpdLw6y2_normal.jpg', 'thumbnail_dimensions': '(48, 48)', 'timestamp': '2023-11-14T23:06:39.390000+00:00', 'description': 'Crazy that $PRIME is going to >$1B market cap at the next cycle top as the “ $AXS of this cycle” and you still don’t own any anon. \\n\\n$75-100 exit or bust bitch.', 'url': 'https://twitter.com/user/status/1724564208602513837', 'embed_title': 'Crypto Mikey tweeted about PRIME, AXS', 'tweet_type': 'tweet', 'financial_info': \"[{'ticker': '$PRIME', 'exchanges': [], 'price': '5.77', 'percentage_change': '+12.49%', '4h_ta_result': 'STRONG_BUY', '4h_ta_details': '17 buy, 8 hold, 1 sell', '1d_ta_result': 'STRONG_BUY', '1d_ta_details': '16 buy, 9 hold, 1 sell'}, {'ticker': '$AXS', 'exchanges': ['kucoin', 'binance'], 'price': '6.07', 'percentage_change': '-1.63%', '4h_ta_result': 'SELL', '4h_ta_details': '6 buy, 10 hold, 10 sell', '1d_ta_result': 'BUY', '1d_ta_details': '10 buy, 10 hold, 6 sell'}]\", 'sentiment': 'Bullish'}\n"
          ]
        }
      ]
    },
    {
      "cell_type": "markdown",
      "source": [
        "## STEP 2: Preprocess 10-Year Market Data"
      ],
      "metadata": {
        "id": "xXZc9v-WTPv9"
      }
    },
    {
      "cell_type": "code",
      "source": [
        "market_df = pd.read_csv(market_path, skiprows=[1, 2])\n",
        "market_df = market_df.rename(columns={\"Price\": \"Date\"})\n",
        "market_df[\"Date\"] = pd.to_datetime(market_df[\"Date\"])\n",
        "\n",
        "tickers = market_df.iloc[0, 1::5].values\n",
        "market_df = market_df[2:]\n",
        "\n",
        "data = []\n",
        "for i, ticker in enumerate(tickers):\n",
        "    try:\n",
        "        df = pd.DataFrame({\n",
        "            \"Date\": market_df[\"Date\"],\n",
        "            \"Ticker\": ticker,\n",
        "            \"Close\": market_df[f\"Close.{i}\"].astype(float),\n",
        "            \"Open\": market_df[f\"Open.{i}\"].astype(float),\n",
        "            \"High\": market_df[f\"High.{i}\"].astype(float),\n",
        "            \"Low\": market_df[f\"Low.{i}\"].astype(float),\n",
        "            \"Volume\": market_df[f\"Volume.{i}\"].astype(float),\n",
        "        })\n",
        "        df[\"Next_Close\"] = df[\"Close\"].shift(-1)\n",
        "        df[\"Return\"] = (df[\"Next_Close\"] - df[\"Close\"]) / df[\"Close\"]\n",
        "        # Add engineered features\n",
        "        df[\"ret_1\"] = df[\"Return\"].shift(1)\n",
        "        df[\"ret_3\"] = df[\"Return\"].rolling(3).mean()\n",
        "        df[\"ret_5\"] = df[\"Return\"].rolling(5).mean()\n",
        "        df[\"ret_vol_5\"] = df[\"Return\"].rolling(5).std()\n",
        "        df[\"ret_ratio_5\"] = df[\"ret_5\"] / (df[\"ret_vol_5\"] + 1e-6)\n",
        "        df = df.dropna()\n",
        "        data.append(df)\n",
        "    except:\n",
        "        continue\n",
        "\n",
        "market_long = pd.concat(data)\n",
        "market_long = market_long.groupby(\"Ticker\").apply(lambda x: add_all_ta_features(\n",
        "    x, open=\"Open\", high=\"High\", low=\"Low\", close=\"Close\", volume=\"Volume\", fillna=True\n",
        ")).reset_index(drop=True)\n",
        "\n",
        "# Filter dates to sentiment range\n",
        "start_date = sentiment_df[\"date\"].min()\n",
        "end_date = sentiment_df[\"date\"].max()\n",
        "market_long = market_long[(market_long[\"Date\"] >= start_date) & (market_long[\"Date\"] <= end_date)]\n",
        "# Merge with sentiment\n",
        "combined = market_long.merge(sentiment_df, left_on=\"Date\", right_on=\"date\").drop(columns=[\"date\"])\n",
        "print(\"Combined data shape:\", combined.shape)\n",
        "print(\"Date range:\", combined[\"Date\"].min(), \"to\", combined[\"Date\"].max())\n"
      ],
      "metadata": {
        "colab": {
          "base_uri": "https://localhost:8080/"
        },
        "id": "3NiJtv1pTQ2n",
        "outputId": "25c07a0b-1864-4af1-a084-5704c5656e39"
      },
      "execution_count": 14,
      "outputs": [
        {
          "output_type": "stream",
          "name": "stdout",
          "text": [
            "✅ Combined data shape: (1212, 106)\n",
            "📅 Date range: 2021-12-27 00:00:00 to 2023-12-22 00:00:00\n"
          ]
        },
        {
          "output_type": "stream",
          "name": "stderr",
          "text": [
            "<ipython-input-14-49454e4b08bf>:34: DeprecationWarning: DataFrameGroupBy.apply operated on the grouping columns. This behavior is deprecated, and in a future version of pandas the grouping columns will be excluded from the operation. Either pass `include_groups=False` to exclude the groupings or explicitly select the grouping columns after groupby to silence this warning.\n",
            "  market_long = market_long.groupby(\"Ticker\").apply(lambda x: add_all_ta_features(\n"
          ]
        }
      ]
    },
    {
      "cell_type": "markdown",
      "source": [
        "## STEP 3: Create Sequences for LSTM"
      ],
      "metadata": {
        "id": "oo1l-Z2nUOEQ"
      }
    },
    {
      "cell_type": "code",
      "source": [
        "def create_sequences(df, sentiment_key, window=10):\n",
        "    X_seq, y = [], []\n",
        "    sentiment = np.stack(df[sentiment_key].values)\n",
        "    market = df.select_dtypes(include=[np.number]).drop(columns=[\"Return\", \"Next_Close\"])\n",
        "    market_scaled = StandardScaler().fit_transform(market)\n",
        "    full = np.concatenate([sentiment, market_scaled], axis=1)\n",
        "\n",
        "    for i in range(len(df) - window - 1):\n",
        "        X_seq.append(full[i:i+window])\n",
        "        y.append(df[\"Return\"].iloc[i + window])\n",
        "    return np.array(X_seq), np.array(y)\n"
      ],
      "metadata": {
        "id": "57DRuB-3UPFA"
      },
      "execution_count": 15,
      "outputs": []
    },
    {
      "cell_type": "markdown",
      "source": [
        "##STEP 4: Train Dense + LSTM Per Embedding & Ticker"
      ],
      "metadata": {
        "id": "uj08zcWYURmZ"
      }
    },
    {
      "cell_type": "code",
      "source": [
        "def train_models(ticker, df, embedding_key, window=10):\n",
        "    X_seq, y = create_sequences(df, embedding_key, window)\n",
        "    if len(X_seq) < 50:\n",
        "        return None\n",
        "\n",
        "    split = int(0.8 * len(X_seq))\n",
        "    X_train, X_test = X_seq[:split], X_seq[split:]\n",
        "    y_train, y_test = y[:split], y[split:]\n",
        "\n",
        "    # Dense\n",
        "    X_train_flat = X_train.reshape(X_train.shape[0], -1)\n",
        "    X_test_flat = X_test.reshape(X_test.shape[0], -1)\n",
        "\n",
        "    dense = tf.keras.Sequential([\n",
        "        tf.keras.layers.Dense(128, activation='relu', input_shape=(X_train_flat.shape[1],)),\n",
        "        tf.keras.layers.Dense(1)\n",
        "    ])\n",
        "    dense.compile(optimizer='adam', loss='mae')\n",
        "    dense.fit(X_train_flat, y_train, epochs=10, batch_size=32, verbose=0)\n",
        "    pred_dense = dense.predict(X_test_flat).flatten()\n",
        "\n",
        "    # LSTM\n",
        "    lstm = tf.keras.Sequential([\n",
        "      tf.keras.layers.Input(shape=(window, X_seq.shape[2])),\n",
        "      tf.keras.layers.Bidirectional(tf.keras.layers.LSTM(64, return_sequences=True)),\n",
        "      tf.keras.layers.LSTM(32, dropout=0.2),\n",
        "      tf.keras.layers.Dense(32, activation='relu'),\n",
        "      tf.keras.layers.Dense(1)\n",
        "    ])\n",
        "    lstm.compile(optimizer='adam', loss='mae')\n",
        "    lstm.fit(X_train, y_train, epochs=10, batch_size=32, verbose=0)\n",
        "    pred_lstm = lstm.predict(X_test).flatten()\n",
        "\n",
        "    return {\n",
        "        \"dense\": {\n",
        "            \"mae\": mean_absolute_error(y_test, pred_dense),\n",
        "            \"acc\": accuracy_score(y_test > 0, pred_dense > 0),\n",
        "            \"y_pred\": pred_dense,\n",
        "            \"y_true\": y_test\n",
        "        },\n",
        "        \"lstm\": {\n",
        "            \"mae\": mean_absolute_error(y_test, pred_lstm),\n",
        "            \"acc\": accuracy_score(y_test > 0, pred_lstm > 0),\n",
        "            \"y_pred\": pred_lstm,\n",
        "            \"y_true\": y_test\n",
        "        }\n",
        "    }"
      ],
      "metadata": {
        "id": "gEXWLfBuUUPN"
      },
      "execution_count": 16,
      "outputs": []
    },
    {
      "cell_type": "markdown",
      "source": [
        "## STEP 5: Run All and Save Results + Plots"
      ],
      "metadata": {
        "id": "tVKutNHMUfGP"
      }
    },
    {
      "cell_type": "code",
      "source": [
        "import json\n",
        "import os\n",
        "\n",
        "checkpoint_dir = os.path.join(results_dir, \"checkpoints\")\n",
        "os.makedirs(checkpoint_dir, exist_ok=True)\n",
        "\n",
        "results = []\n",
        "\n",
        "for embedding_key in ['cls', 'mean', 'max']:\n",
        "    for ticker in tqdm(combined['Ticker'].unique(), desc=f\"Embedding: {embedding_key}\"):\n",
        "        df_t = combined[combined['Ticker'] == ticker].copy()\n",
        "\n",
        "        for model_type in ['dense', 'lstm']:\n",
        "            # ✅ Check if result already exists\n",
        "            checkpoint_file = os.path.join(checkpoint_dir, f\"{ticker}_{embedding_key}_{model_type}.pkl\")\n",
        "            if os.path.exists(checkpoint_file):\n",
        "                print(f\"⏭️ Skipping {ticker}-{embedding_key}-{model_type}, already done.\")\n",
        "                continue\n",
        "\n",
        "            try:\n",
        "                # Train model\n",
        "                metrics = train_models(ticker, df_t, embedding_key)\n",
        "                if not metrics:\n",
        "                    continue\n",
        "\n",
        "                res = metrics[model_type]\n",
        "                result = {\n",
        "                    \"Ticker\": ticker,\n",
        "                    \"Embedding\": embedding_key,\n",
        "                    \"Model\": model_type.upper(),\n",
        "                    \"MAE\": res[\"mae\"],\n",
        "                    \"Accuracy\": res[\"acc\"]\n",
        "                }\n",
        "                results.append(result)\n",
        "\n",
        "                # ✅ Save checkpoint\n",
        "                with open(checkpoint_file, \"wb\") as f:\n",
        "                    pickle.dump(result, f)\n",
        "\n",
        "            except Exception as e:\n",
        "                print(f\"⚠️ {ticker} ({embedding_key}-{model_type}): {e}\")\n"
      ],
      "metadata": {
        "colab": {
          "base_uri": "https://localhost:8080/"
        },
        "id": "kJS125JxUgFy",
        "outputId": "27369139-6d02-41b6-908a-46ca9a0cc914"
      },
      "execution_count": 17,
      "outputs": [
        {
          "output_type": "stream",
          "name": "stderr",
          "text": [
            "Embedding: cls: 100%|██████████| 4/4 [00:00<00:00,  7.16it/s]\n"
          ]
        },
        {
          "output_type": "stream",
          "name": "stdout",
          "text": [
            "⏭️ Skipping 17.18082158752494-cls-dense, already done.\n",
            "⏭️ Skipping 17.18082158752494-cls-lstm, already done.\n",
            "⏭️ Skipping 17.2947338904156-cls-dense, already done.\n",
            "⏭️ Skipping 17.2947338904156-cls-lstm, already done.\n",
            "⏭️ Skipping 17.336750396463433-cls-dense, already done.\n",
            "⏭️ Skipping 17.336750396463433-cls-lstm, already done.\n",
            "⏭️ Skipping 234684800.0-cls-dense, already done.\n",
            "⏭️ Skipping 234684800.0-cls-lstm, already done.\n"
          ]
        },
        {
          "output_type": "stream",
          "name": "stderr",
          "text": [
            "Embedding: mean: 100%|██████████| 4/4 [00:00<00:00, 644.71it/s]\n"
          ]
        },
        {
          "output_type": "stream",
          "name": "stdout",
          "text": [
            "⏭️ Skipping 17.18082158752494-mean-dense, already done.\n",
            "⏭️ Skipping 17.18082158752494-mean-lstm, already done.\n",
            "⏭️ Skipping 17.2947338904156-mean-dense, already done.\n",
            "⏭️ Skipping 17.2947338904156-mean-lstm, already done.\n",
            "⏭️ Skipping 17.336750396463433-mean-dense, already done.\n",
            "⏭️ Skipping 17.336750396463433-mean-lstm, already done.\n",
            "⏭️ Skipping 234684800.0-mean-dense, already done.\n",
            "⏭️ Skipping 234684800.0-mean-lstm, already done.\n"
          ]
        },
        {
          "output_type": "stream",
          "name": "stderr",
          "text": [
            "Embedding: max: 100%|██████████| 4/4 [00:00<00:00, 627.87it/s]"
          ]
        },
        {
          "output_type": "stream",
          "name": "stdout",
          "text": [
            "⏭️ Skipping 17.18082158752494-max-dense, already done.\n",
            "⏭️ Skipping 17.18082158752494-max-lstm, already done.\n",
            "⏭️ Skipping 17.2947338904156-max-dense, already done.\n",
            "⏭️ Skipping 17.2947338904156-max-lstm, already done.\n",
            "⏭️ Skipping 17.336750396463433-max-dense, already done.\n",
            "⏭️ Skipping 17.336750396463433-max-lstm, already done.\n",
            "⏭️ Skipping 234684800.0-max-dense, already done.\n",
            "⏭️ Skipping 234684800.0-max-lstm, already done.\n"
          ]
        },
        {
          "output_type": "stream",
          "name": "stderr",
          "text": [
            "\n"
          ]
        }
      ]
    },
    {
      "cell_type": "markdown",
      "source": [
        "## AFTER TRAINING: Combine Checkpoints into Final CSV"
      ],
      "metadata": {
        "id": "mPFuYJC2VX3p"
      }
    },
    {
      "cell_type": "code",
      "source": [
        "# Combine all checkpoints into one final CSV\n",
        "import glob\n",
        "\n",
        "all_checkpoints = glob.glob(f\"{checkpoint_dir}/*.pkl\")\n",
        "all_results = []\n",
        "\n",
        "for cp in all_checkpoints:\n",
        "    with open(cp, \"rb\") as f:\n",
        "        result = pickle.load(f)\n",
        "        all_results.append(result)\n",
        "\n",
        "final_df = pd.DataFrame(all_results)\n",
        "final_df.to_csv(f\"{results_dir}/embedding_lstm_comparison.csv\", index=False)\n",
        "print(\"✅ All results consolidated and saved.\")"
      ],
      "metadata": {
        "colab": {
          "base_uri": "https://localhost:8080/"
        },
        "id": "SRoX5_ygVZC8",
        "outputId": "1d9f7ab0-c792-4622-e39f-466d6ebc5541"
      },
      "execution_count": 18,
      "outputs": [
        {
          "output_type": "stream",
          "name": "stdout",
          "text": [
            "✅ All results consolidated and saved.\n"
          ]
        }
      ]
    },
    {
      "cell_type": "code",
      "source": [
        "# Get all .pkl files in the checkpoint directory\n",
        "result_files = [f for f in os.listdir(checkpoint_dir) if f.endswith(\".pkl\")]\n",
        "\n",
        "results = {}\n",
        "\n",
        "for file in result_files:\n",
        "    name = file.replace(\"results_\", \"\").replace(\".pkl\", \"\")\n",
        "    with open(os.path.join(checkpoint_dir, file), \"rb\") as f:\n",
        "        results[name] = pickle.load(f)"
      ],
      "metadata": {
        "id": "I9oK6XLNeGr4"
      },
      "execution_count": 19,
      "outputs": []
    },
    {
      "cell_type": "markdown",
      "source": [
        "##Step 1: Load Results"
      ],
      "metadata": {
        "id": "h0TALCpGEOTq"
      }
    },
    {
      "cell_type": "code",
      "source": [
        "results_path = f\"{results_dir}/embedding_lstm_comparison.csv\"\n",
        "df = pd.read_csv(results_path)\n",
        "df.head()"
      ],
      "metadata": {
        "colab": {
          "base_uri": "https://localhost:8080/",
          "height": 206
        },
        "id": "fqtxuyxjDzIf",
        "outputId": "8c25ec8d-72fb-4cdd-ca76-660e6a65c0ba"
      },
      "execution_count": 20,
      "outputs": [
        {
          "output_type": "execute_result",
          "data": {
            "text/plain": [
              "      Ticker Embedding  Model       MAE  Accuracy\n",
              "0  17.180822       cls  DENSE  0.014617  0.491525\n",
              "1  17.180822       cls   LSTM  0.030249  0.474576\n",
              "2  17.294734       cls  DENSE  0.049473  0.593220\n",
              "3  17.294734       cls   LSTM  0.056543  0.644068\n",
              "4  17.336750       cls  DENSE  0.022454  0.457627"
            ],
            "text/html": [
              "\n",
              "  <div id=\"df-ce8fcef5-84ba-4969-8b75-e6b42678b598\" class=\"colab-df-container\">\n",
              "    <div>\n",
              "<style scoped>\n",
              "    .dataframe tbody tr th:only-of-type {\n",
              "        vertical-align: middle;\n",
              "    }\n",
              "\n",
              "    .dataframe tbody tr th {\n",
              "        vertical-align: top;\n",
              "    }\n",
              "\n",
              "    .dataframe thead th {\n",
              "        text-align: right;\n",
              "    }\n",
              "</style>\n",
              "<table border=\"1\" class=\"dataframe\">\n",
              "  <thead>\n",
              "    <tr style=\"text-align: right;\">\n",
              "      <th></th>\n",
              "      <th>Ticker</th>\n",
              "      <th>Embedding</th>\n",
              "      <th>Model</th>\n",
              "      <th>MAE</th>\n",
              "      <th>Accuracy</th>\n",
              "    </tr>\n",
              "  </thead>\n",
              "  <tbody>\n",
              "    <tr>\n",
              "      <th>0</th>\n",
              "      <td>17.180822</td>\n",
              "      <td>cls</td>\n",
              "      <td>DENSE</td>\n",
              "      <td>0.014617</td>\n",
              "      <td>0.491525</td>\n",
              "    </tr>\n",
              "    <tr>\n",
              "      <th>1</th>\n",
              "      <td>17.180822</td>\n",
              "      <td>cls</td>\n",
              "      <td>LSTM</td>\n",
              "      <td>0.030249</td>\n",
              "      <td>0.474576</td>\n",
              "    </tr>\n",
              "    <tr>\n",
              "      <th>2</th>\n",
              "      <td>17.294734</td>\n",
              "      <td>cls</td>\n",
              "      <td>DENSE</td>\n",
              "      <td>0.049473</td>\n",
              "      <td>0.593220</td>\n",
              "    </tr>\n",
              "    <tr>\n",
              "      <th>3</th>\n",
              "      <td>17.294734</td>\n",
              "      <td>cls</td>\n",
              "      <td>LSTM</td>\n",
              "      <td>0.056543</td>\n",
              "      <td>0.644068</td>\n",
              "    </tr>\n",
              "    <tr>\n",
              "      <th>4</th>\n",
              "      <td>17.336750</td>\n",
              "      <td>cls</td>\n",
              "      <td>DENSE</td>\n",
              "      <td>0.022454</td>\n",
              "      <td>0.457627</td>\n",
              "    </tr>\n",
              "  </tbody>\n",
              "</table>\n",
              "</div>\n",
              "    <div class=\"colab-df-buttons\">\n",
              "\n",
              "  <div class=\"colab-df-container\">\n",
              "    <button class=\"colab-df-convert\" onclick=\"convertToInteractive('df-ce8fcef5-84ba-4969-8b75-e6b42678b598')\"\n",
              "            title=\"Convert this dataframe to an interactive table.\"\n",
              "            style=\"display:none;\">\n",
              "\n",
              "  <svg xmlns=\"http://www.w3.org/2000/svg\" height=\"24px\" viewBox=\"0 -960 960 960\">\n",
              "    <path d=\"M120-120v-720h720v720H120Zm60-500h600v-160H180v160Zm220 220h160v-160H400v160Zm0 220h160v-160H400v160ZM180-400h160v-160H180v160Zm440 0h160v-160H620v160ZM180-180h160v-160H180v160Zm440 0h160v-160H620v160Z\"/>\n",
              "  </svg>\n",
              "    </button>\n",
              "\n",
              "  <style>\n",
              "    .colab-df-container {\n",
              "      display:flex;\n",
              "      gap: 12px;\n",
              "    }\n",
              "\n",
              "    .colab-df-convert {\n",
              "      background-color: #E8F0FE;\n",
              "      border: none;\n",
              "      border-radius: 50%;\n",
              "      cursor: pointer;\n",
              "      display: none;\n",
              "      fill: #1967D2;\n",
              "      height: 32px;\n",
              "      padding: 0 0 0 0;\n",
              "      width: 32px;\n",
              "    }\n",
              "\n",
              "    .colab-df-convert:hover {\n",
              "      background-color: #E2EBFA;\n",
              "      box-shadow: 0px 1px 2px rgba(60, 64, 67, 0.3), 0px 1px 3px 1px rgba(60, 64, 67, 0.15);\n",
              "      fill: #174EA6;\n",
              "    }\n",
              "\n",
              "    .colab-df-buttons div {\n",
              "      margin-bottom: 4px;\n",
              "    }\n",
              "\n",
              "    [theme=dark] .colab-df-convert {\n",
              "      background-color: #3B4455;\n",
              "      fill: #D2E3FC;\n",
              "    }\n",
              "\n",
              "    [theme=dark] .colab-df-convert:hover {\n",
              "      background-color: #434B5C;\n",
              "      box-shadow: 0px 1px 3px 1px rgba(0, 0, 0, 0.15);\n",
              "      filter: drop-shadow(0px 1px 2px rgba(0, 0, 0, 0.3));\n",
              "      fill: #FFFFFF;\n",
              "    }\n",
              "  </style>\n",
              "\n",
              "    <script>\n",
              "      const buttonEl =\n",
              "        document.querySelector('#df-ce8fcef5-84ba-4969-8b75-e6b42678b598 button.colab-df-convert');\n",
              "      buttonEl.style.display =\n",
              "        google.colab.kernel.accessAllowed ? 'block' : 'none';\n",
              "\n",
              "      async function convertToInteractive(key) {\n",
              "        const element = document.querySelector('#df-ce8fcef5-84ba-4969-8b75-e6b42678b598');\n",
              "        const dataTable =\n",
              "          await google.colab.kernel.invokeFunction('convertToInteractive',\n",
              "                                                    [key], {});\n",
              "        if (!dataTable) return;\n",
              "\n",
              "        const docLinkHtml = 'Like what you see? Visit the ' +\n",
              "          '<a target=\"_blank\" href=https://colab.research.google.com/notebooks/data_table.ipynb>data table notebook</a>'\n",
              "          + ' to learn more about interactive tables.';\n",
              "        element.innerHTML = '';\n",
              "        dataTable['output_type'] = 'display_data';\n",
              "        await google.colab.output.renderOutput(dataTable, element);\n",
              "        const docLink = document.createElement('div');\n",
              "        docLink.innerHTML = docLinkHtml;\n",
              "        element.appendChild(docLink);\n",
              "      }\n",
              "    </script>\n",
              "  </div>\n",
              "\n",
              "\n",
              "<div id=\"df-e08e8b1f-8f6a-44bb-a30d-01e039ed9137\">\n",
              "  <button class=\"colab-df-quickchart\" onclick=\"quickchart('df-e08e8b1f-8f6a-44bb-a30d-01e039ed9137')\"\n",
              "            title=\"Suggest charts\"\n",
              "            style=\"display:none;\">\n",
              "\n",
              "<svg xmlns=\"http://www.w3.org/2000/svg\" height=\"24px\"viewBox=\"0 0 24 24\"\n",
              "     width=\"24px\">\n",
              "    <g>\n",
              "        <path d=\"M19 3H5c-1.1 0-2 .9-2 2v14c0 1.1.9 2 2 2h14c1.1 0 2-.9 2-2V5c0-1.1-.9-2-2-2zM9 17H7v-7h2v7zm4 0h-2V7h2v10zm4 0h-2v-4h2v4z\"/>\n",
              "    </g>\n",
              "</svg>\n",
              "  </button>\n",
              "\n",
              "<style>\n",
              "  .colab-df-quickchart {\n",
              "      --bg-color: #E8F0FE;\n",
              "      --fill-color: #1967D2;\n",
              "      --hover-bg-color: #E2EBFA;\n",
              "      --hover-fill-color: #174EA6;\n",
              "      --disabled-fill-color: #AAA;\n",
              "      --disabled-bg-color: #DDD;\n",
              "  }\n",
              "\n",
              "  [theme=dark] .colab-df-quickchart {\n",
              "      --bg-color: #3B4455;\n",
              "      --fill-color: #D2E3FC;\n",
              "      --hover-bg-color: #434B5C;\n",
              "      --hover-fill-color: #FFFFFF;\n",
              "      --disabled-bg-color: #3B4455;\n",
              "      --disabled-fill-color: #666;\n",
              "  }\n",
              "\n",
              "  .colab-df-quickchart {\n",
              "    background-color: var(--bg-color);\n",
              "    border: none;\n",
              "    border-radius: 50%;\n",
              "    cursor: pointer;\n",
              "    display: none;\n",
              "    fill: var(--fill-color);\n",
              "    height: 32px;\n",
              "    padding: 0;\n",
              "    width: 32px;\n",
              "  }\n",
              "\n",
              "  .colab-df-quickchart:hover {\n",
              "    background-color: var(--hover-bg-color);\n",
              "    box-shadow: 0 1px 2px rgba(60, 64, 67, 0.3), 0 1px 3px 1px rgba(60, 64, 67, 0.15);\n",
              "    fill: var(--button-hover-fill-color);\n",
              "  }\n",
              "\n",
              "  .colab-df-quickchart-complete:disabled,\n",
              "  .colab-df-quickchart-complete:disabled:hover {\n",
              "    background-color: var(--disabled-bg-color);\n",
              "    fill: var(--disabled-fill-color);\n",
              "    box-shadow: none;\n",
              "  }\n",
              "\n",
              "  .colab-df-spinner {\n",
              "    border: 2px solid var(--fill-color);\n",
              "    border-color: transparent;\n",
              "    border-bottom-color: var(--fill-color);\n",
              "    animation:\n",
              "      spin 1s steps(1) infinite;\n",
              "  }\n",
              "\n",
              "  @keyframes spin {\n",
              "    0% {\n",
              "      border-color: transparent;\n",
              "      border-bottom-color: var(--fill-color);\n",
              "      border-left-color: var(--fill-color);\n",
              "    }\n",
              "    20% {\n",
              "      border-color: transparent;\n",
              "      border-left-color: var(--fill-color);\n",
              "      border-top-color: var(--fill-color);\n",
              "    }\n",
              "    30% {\n",
              "      border-color: transparent;\n",
              "      border-left-color: var(--fill-color);\n",
              "      border-top-color: var(--fill-color);\n",
              "      border-right-color: var(--fill-color);\n",
              "    }\n",
              "    40% {\n",
              "      border-color: transparent;\n",
              "      border-right-color: var(--fill-color);\n",
              "      border-top-color: var(--fill-color);\n",
              "    }\n",
              "    60% {\n",
              "      border-color: transparent;\n",
              "      border-right-color: var(--fill-color);\n",
              "    }\n",
              "    80% {\n",
              "      border-color: transparent;\n",
              "      border-right-color: var(--fill-color);\n",
              "      border-bottom-color: var(--fill-color);\n",
              "    }\n",
              "    90% {\n",
              "      border-color: transparent;\n",
              "      border-bottom-color: var(--fill-color);\n",
              "    }\n",
              "  }\n",
              "</style>\n",
              "\n",
              "  <script>\n",
              "    async function quickchart(key) {\n",
              "      const quickchartButtonEl =\n",
              "        document.querySelector('#' + key + ' button');\n",
              "      quickchartButtonEl.disabled = true;  // To prevent multiple clicks.\n",
              "      quickchartButtonEl.classList.add('colab-df-spinner');\n",
              "      try {\n",
              "        const charts = await google.colab.kernel.invokeFunction(\n",
              "            'suggestCharts', [key], {});\n",
              "      } catch (error) {\n",
              "        console.error('Error during call to suggestCharts:', error);\n",
              "      }\n",
              "      quickchartButtonEl.classList.remove('colab-df-spinner');\n",
              "      quickchartButtonEl.classList.add('colab-df-quickchart-complete');\n",
              "    }\n",
              "    (() => {\n",
              "      let quickchartButtonEl =\n",
              "        document.querySelector('#df-e08e8b1f-8f6a-44bb-a30d-01e039ed9137 button');\n",
              "      quickchartButtonEl.style.display =\n",
              "        google.colab.kernel.accessAllowed ? 'block' : 'none';\n",
              "    })();\n",
              "  </script>\n",
              "</div>\n",
              "\n",
              "    </div>\n",
              "  </div>\n"
            ],
            "application/vnd.google.colaboratory.intrinsic+json": {
              "type": "dataframe",
              "variable_name": "df",
              "summary": "{\n  \"name\": \"df\",\n  \"rows\": 24,\n  \"fields\": [\n    {\n      \"column\": \"Ticker\",\n      \"properties\": {\n        \"dtype\": \"number\",\n        \"std\": 103807150.33615467,\n        \"min\": 17.18082158752494,\n        \"max\": 234684800.0,\n        \"num_unique_values\": 4,\n        \"samples\": [\n          17.2947338904156,\n          234684800.0,\n          17.18082158752494\n        ],\n        \"semantic_type\": \"\",\n        \"description\": \"\"\n      }\n    },\n    {\n      \"column\": \"Embedding\",\n      \"properties\": {\n        \"dtype\": \"category\",\n        \"num_unique_values\": 3,\n        \"samples\": [\n          \"cls\",\n          \"mean\",\n          \"max\"\n        ],\n        \"semantic_type\": \"\",\n        \"description\": \"\"\n      }\n    },\n    {\n      \"column\": \"Model\",\n      \"properties\": {\n        \"dtype\": \"category\",\n        \"num_unique_values\": 2,\n        \"samples\": [\n          \"LSTM\",\n          \"DENSE\"\n        ],\n        \"semantic_type\": \"\",\n        \"description\": \"\"\n      }\n    },\n    {\n      \"column\": \"MAE\",\n      \"properties\": {\n        \"dtype\": \"number\",\n        \"std\": 0.07023194641324142,\n        \"min\": 0.0103734838427283,\n        \"max\": 0.2855654307351196,\n        \"num_unique_values\": 24,\n        \"samples\": [\n          0.0460056718834059,\n          0.2855654307351196\n        ],\n        \"semantic_type\": \"\",\n        \"description\": \"\"\n      }\n    },\n    {\n      \"column\": \"Accuracy\",\n      \"properties\": {\n        \"dtype\": \"number\",\n        \"std\": 0.09105705463744836,\n        \"min\": 0.3389830508474576,\n        \"max\": 0.6779661016949152,\n        \"num_unique_values\": 15,\n        \"samples\": [\n          0.6101694915254238,\n          0.5254237288135594\n        ],\n        \"semantic_type\": \"\",\n        \"description\": \"\"\n      }\n    }\n  ]\n}"
            }
          },
          "metadata": {},
          "execution_count": 20
        }
      ]
    },
    {
      "source": [
        "# @title MAE vs Accuracy\n",
        "\n",
        "from matplotlib import pyplot as plt\n",
        "df.plot(kind='scatter', x='MAE', y='Accuracy', s=32, alpha=.8)\n",
        "plt.gca().spines[['top', 'right',]].set_visible(False)"
      ],
      "cell_type": "code",
      "execution_count": 21,
      "outputs": [
        {
          "output_type": "display_data",
          "data": {
            "text/plain": [
              "<Figure size 640x480 with 1 Axes>"
            ],
            "image/png": "[encoded data removed]"
          },
          "metadata": {}
        }
      ],
      "metadata": {
        "colab": {
          "base_uri": "https://localhost:8080/",
          "height": 449
        },
        "id": "oh4SV0oDFKWs",
        "outputId": "4ad29f0a-9705-41ce-aab8-d59c97df4716"
      }
    },
    {
      "cell_type": "code",
      "source": [],
      "metadata": {
        "id": "B7WhawFcFHUu"
      },
      "execution_count": null,
      "outputs": []
    },
    {
      "source": [
        "# @title Accuracy\n",
        "\n",
        "from matplotlib import pyplot as plt\n",
        "df['Accuracy'].plot(kind='hist', bins=20, title='Accuracy')\n",
        "plt.gca().spines[['top', 'right',]].set_visible(False)"
      ],
      "cell_type": "code",
      "execution_count": 22,
      "outputs": [
        {
          "output_type": "display_data",
          "data": {
            "text/plain": [
              "<Figure size 640x480 with 1 Axes>"
            ],
            "image/png": "[encoded data removed]"
          },
          "metadata": {}
        }
      ],
      "metadata": {
        "colab": {
          "base_uri": "https://localhost:8080/",
          "height": 452
        },
        "id": "sPDe7udlE_5Q",
        "outputId": "adb7c9e2-6ff9-43a1-9b25-f2456a0ccde5"
      }
    },
    {
      "cell_type": "code",
      "source": [],
      "metadata": {
        "id": "e46G3qVZE9ca"
      },
      "execution_count": null,
      "outputs": []
    },
    {
      "cell_type": "markdown",
      "source": [
        "##Step 2: Summary Table"
      ],
      "metadata": {
        "id": "1FE1_Nt_FRY5"
      }
    },
    {
      "cell_type": "code",
      "source": [
        "summary = df.groupby([\"Model\", \"Embedding\"]).agg({\n",
        "    \"MAE\": \"mean\",\n",
        "    \"Accuracy\": \"mean\"\n",
        "}).reset_index()\n",
        "\n",
        "summary.to_csv(f\"{results_dir}/summary_metrics.csv\", index=False)\n",
        "print(summary)\n"
      ],
      "metadata": {
        "colab": {
          "base_uri": "https://localhost:8080/"
        },
        "id": "lz63MnO6FTvw",
        "outputId": "329e0c50-f008-452f-e6b3-fefda2754ee5"
      },
      "execution_count": 23,
      "outputs": [
        {
          "output_type": "stream",
          "name": "stdout",
          "text": [
            "   Model Embedding       MAE  Accuracy\n",
            "0  DENSE       cls  0.028125  0.555085\n",
            "1  DENSE       max  0.175961  0.436441\n",
            "2  DENSE      mean  0.030017  0.491525\n",
            "3   LSTM       cls  0.040513  0.516949\n",
            "4   LSTM       max  0.016150  0.474576\n",
            "5   LSTM      mean  0.051155  0.567797\n"
          ]
        }
      ]
    },
    {
      "cell_type": "markdown",
      "source": [
        "## Step 3: Bar Charts"
      ],
      "metadata": {
        "id": "WesCwVnYFeLa"
      }
    },
    {
      "cell_type": "code",
      "source": [
        "# Bar plot - MAE\n",
        "plt.figure(figsize=(8, 5))\n",
        "sns.barplot(data=summary, x=\"Embedding\", y=\"MAE\", hue=\"Model\")\n",
        "plt.title(\"Mean Absolute Error by Embedding and Model\")\n",
        "plt.tight_layout()\n",
        "plt.savefig(f\"{results_dir}/bar_mae.png\")\n",
        "plt.show()\n",
        "\n",
        "# Bar plot - Accuracy\n",
        "plt.figure(figsize=(8, 5))\n",
        "sns.barplot(data=summary, x=\"Embedding\", y=\"Accuracy\", hue=\"Model\")\n",
        "plt.title(\"Accuracy by Embedding and Model\")\n",
        "plt.tight_layout()\n",
        "plt.savefig(f\"{results_dir}/bar_accuracy.png\")\n",
        "plt.show()\n"
      ],
      "metadata": {
        "colab": {
          "base_uri": "https://localhost:8080/",
          "height": 985
        },
        "id": "_gHeHOoXFfMo",
        "outputId": "2a886221-1a1e-4262-e46b-c49faf331d7d"
      },
      "execution_count": 24,
      "outputs": [
        {
          "output_type": "display_data",
          "data": {
            "text/plain": [
              "<Figure size 800x500 with 1 Axes>"
            ],
            "image/png": "[encoded data removed]"
          },
          "metadata": {}
        },
        {
          "output_type": "display_data",
          "data": {
            "text/plain": [
              "<Figure size 800x500 with 1 Axes>"
            ],
            "image/png": "[encoded data removed]"
          },
          "metadata": {}
        }
      ]
    },
    {
      "cell_type": "markdown",
      "source": [
        "## Step 4: MAE Heatmap by Ticker"
      ],
      "metadata": {
        "id": "AigXmfWmHHDt"
      }
    },
    {
      "cell_type": "code",
      "source": [
        "heatmap_mae = df.pivot_table(index=\"Ticker\", columns=[\"Model\", \"Embedding\"], values=\"MAE\")\n",
        "\n",
        "plt.figure(figsize=(14, 10))\n",
        "sns.heatmap(heatmap_mae, annot=True, fmt=\".3f\", cmap=\"coolwarm\", linewidths=0.5)\n",
        "plt.title(\"MAE per Ticker (Model × Embedding)\")\n",
        "plt.tight_layout()\n",
        "plt.savefig(f\"{results_dir}/heatmap_mae.png\")\n",
        "plt.show()\n"
      ],
      "metadata": {
        "colab": {
          "base_uri": "https://localhost:8080/",
          "height": 622
        },
        "id": "VGwkm8XNHH5t",
        "outputId": "5f1b01e4-a540-4b21-96cc-19f877d25d66"
      },
      "execution_count": 25,
      "outputs": [
        {
          "output_type": "display_data",
          "data": {
            "text/plain": [
              "<Figure size 1400x1000 with 2 Axes>"
            ],
            "image/png": "[encoded data removed]"
          },
          "metadata": {}
        }
      ]
    },
    {
      "cell_type": "code",
      "source": [
        "# Naïve model: always predict yesterday's return\n",
        "\n",
        "# Load market data to get 'Return' column\n",
        "market_path = \"/content/drive/MyDrive/DataSci266_Final_Project/yahoo_finance_historical_data_10year.csv\"\n",
        "market_df = pd.read_csv(market_path, skiprows=[1, 2])\n",
        "# ... (rest of your market data preprocessing as before) ...\n",
        "\n",
        "# Access 'Return' column from the market DataFrame (market_long)\n",
        "y = market_long['Return']\n",
        "y_true = y[1:]\n",
        "y_naive = y.shift(1).fillna(0)[1:]\n",
        "\n",
        "# MAE / Accuracy\n",
        "mae_naive = mean_absolute_error(y_true, y_naive)\n",
        "acc_naive = accuracy_score(y_true > 0, y_naive > 0)\n",
        "\n",
        "print(f\"Naïve Model MAE: {mae_naive}\")\n",
        "print(f\"Naïve Model Accuracy: {acc_naive}\")\n"
      ],
      "metadata": {
        "colab": {
          "base_uri": "https://localhost:8080/"
        },
        "id": "c5KRDUCnH8ij",
        "outputId": "57dad2b3-4ec5-4f8e-d085-2a2bb47a0598"
      },
      "execution_count": 54,
      "outputs": [
        {
          "output_type": "stream",
          "name": "stdout",
          "text": [
            "Naïve Model MAE: 0.026211976129354976\n",
            "Naïve Model Accuracy: 0.49049845786488905\n"
          ]
        }
      ]
    },
    {
      "cell_type": "code",
      "source": [
        "# Load combined dataset with avg_sentiment\n",
        "market_path = \"/content/drive/MyDrive/DataSci266_Final_Project/yahoo_finance_historical_data_10year.csv\"\n",
        "market_df = pd.read_csv(market_path, skiprows=[1, 2])\n",
        "# Load sentiment data\n",
        "with open(sentiment_path, \"rb\") as f:\n",
        "  sentiment_df = pickle.load(f)\n",
        "\n",
        "# Merge market and sentiment data\n",
        "combined = market_long.merge(sentiment_df, left_on=\"Date\", right_on=\"date\").drop(columns=[\"date\"])"
      ],
      "metadata": {
        "id": "2Wg9GoP2OGY3"
      },
      "execution_count": 30,
      "outputs": []
    },
    {
      "cell_type": "code",
      "source": [
        "# Config\n",
        "window = 10\n",
        "binary = False  # Set to True for classification\n",
        "\n",
        "# Feature configurations\n",
        "feature_modes = [\"price-only\", \"sentiment-only\", \"combined\"]\n",
        "embedding_types = [\"cls\", \"mean\", \"max\"]\n",
        "models = [\"dense\", \"lstm\"]\n",
        "\n",
        "# Extract relevant numeric columns (for price features)\n",
        "numeric_features = combined.select_dtypes(include=[np.number]).columns.tolist()\n",
        "exclude = [\"Return\", \"Next_Close\"] + [\"avg_sentiment\"]\n",
        "price_cols = [col for col in numeric_features if col not in exclude]\n",
        "\n",
        "results = []\n",
        "\n",
        "def create_sequences(df, sentiment_key, mode=\"combined\", window=10):\n",
        "    sentiment = np.stack(df[sentiment_key].values)\n",
        "    price = df[price_cols].values\n",
        "    scaler = StandardScaler()\n",
        "    price_scaled = scaler.fit_transform(price)\n",
        "\n",
        "    # Select feature set\n",
        "    if mode == \"price-only\":\n",
        "        X_full = price_scaled\n",
        "    elif mode == \"sentiment-only\":\n",
        "        X_full = sentiment\n",
        "    else:  # combined\n",
        "        sentiment_feat = sentiment\n",
        "        if \"avg_sentiment\" in df:\n",
        "            sentiment_feat = np.concatenate([sentiment, df[[\"avg_sentiment\"]].values], axis=1)\n",
        "        X_full = np.concatenate([sentiment_feat, price_scaled], axis=1)\n",
        "\n",
        "    X_seq, y = [], []\n",
        "    for i in range(len(df) - window - 1):\n",
        "        X_seq.append(X_full[i:i+window])\n",
        "        if binary:\n",
        "            y.append(int(df[\"Return\"].iloc[i + window] > 0))\n",
        "        else:\n",
        "            y.append(df[\"Return\"].iloc[i + window])\n",
        "    return np.array(X_seq), np.array(y)\n",
        "\n",
        "def build_dense(input_shape):\n",
        "    return tf.keras.Sequential([\n",
        "        tf.keras.layers.Dense(128, activation='relu', input_shape=(input_shape,)),\n",
        "        tf.keras.layers.Dense(1 if not binary else 1, activation='sigmoid' if binary else None)\n",
        "    ])\n",
        "\n",
        "def build_lstm(input_shape):\n",
        "    return tf.keras.Sequential([\n",
        "        tf.keras.layers.Bidirectional(tf.keras.layers.LSTM(64, return_sequences=True)),\n",
        "        tf.keras.layers.LSTM(32, dropout=0.2),\n",
        "        tf.keras.layers.Dense(32, activation='relu'),\n",
        "        tf.keras.layers.Dense(1 if not binary else 1, activation='sigmoid' if binary else None)\n",
        "    ])\n",
        "\n",
        "# Run all combinations\n",
        "for feature_mode in feature_modes:\n",
        "    for embedding_key in embedding_types:\n",
        "        for model_type in models:\n",
        "            for ticker in tqdm(combined['Ticker'].unique(), desc=f\"{feature_mode}-{embedding_key}-{model_type}\"):\n",
        "                df_t = combined[combined['Ticker'] == ticker].copy()\n",
        "                try:\n",
        "                    X_seq, y = create_sequences(df_t, embedding_key, mode=feature_mode, window=window)\n",
        "                    if len(X_seq) < 50:\n",
        "                        continue\n",
        "\n",
        "                    split = int(0.8 * len(X_seq))\n",
        "                    X_train, X_test = X_seq[:split], X_seq[split:]\n",
        "                    y_train, y_test = y[:split], y[split:]\n",
        "\n",
        "                    if model_type == \"dense\":\n",
        "                        X_train_flat = X_train.reshape(X_train.shape[0], -1)\n",
        "                        X_test_flat = X_test.reshape(X_test.shape[0], -1)\n",
        "                        model = build_dense(X_train_flat.shape[1])\n",
        "                        X_tr, X_te = X_train_flat, X_test_flat\n",
        "                    else:\n",
        "                        model = build_lstm(X_train.shape[1:])\n",
        "                        X_tr, X_te = X_train, X_test\n",
        "\n",
        "                    loss = 'binary_crossentropy' if binary else 'mae'\n",
        "                    model.compile(optimizer='adam', loss=loss, metrics=['accuracy'] if binary else [])\n",
        "                    model.fit(X_tr, y_train, epochs=10, batch_size=32, verbose=0)\n",
        "                    y_pred = model.predict(X_te).flatten()\n",
        "\n",
        "                    if binary:\n",
        "                        y_bin = (y_pred > 0.5).astype(int)\n",
        "                        acc = accuracy_score(y_test, y_bin)\n",
        "                        auc = roc_auc_score(y_test, y_pred)\n",
        "                        results.append({\"Model\": model_type.upper(), \"Embedding\": embedding_key, \"FeatureSet\": feature_mode, \"Accuracy\": acc, \"AUC\": auc})\n",
        "                    else:\n",
        "                        mae = mean_absolute_error(y_test, y_pred)\n",
        "                        acc = accuracy_score(y_test > 0, y_pred > 0)\n",
        "                        results.append({\"Model\": model_type.upper(), \"Embedding\": embedding_key, \"FeatureSet\": feature_mode, \"MAE\": mae, \"Accuracy\": acc})\n",
        "\n",
        "                except Exception as e:\n",
        "                    print(f\"⚠️ {ticker} failed: {e}\")\n",
        "\n",
        "# Save final results\n",
        "result_df = pd.DataFrame(results)\n",
        "output_path = f\"{results_dir}/final_model_comparison.csv\"\n",
        "result_df.to_csv(output_path, index=False)\n",
        "print(\"✅ All results saved to:\", output_path)"
      ],
      "metadata": {
        "colab": {
          "base_uri": "https://localhost:8080/"
        },
        "id": "SHQ2HkVVPVzH",
        "outputId": "5c47595c-b658-4d4e-e91e-f35f07fe7474"
      },
      "execution_count": 31,
      "outputs": [
        {
          "output_type": "stream",
          "name": "stderr",
          "text": [
            "\rprice-only-cls-dense:   0%|          | 0/4 [00:00<?, ?it/s]"
          ]
        },
        {
          "output_type": "stream",
          "name": "stdout",
          "text": [
            "2/2 [==============================] - 0s 4ms/step\n"
          ]
        },
        {
          "output_type": "stream",
          "name": "stderr",
          "text": [
            "\rprice-only-cls-dense:  25%|██▌       | 1/4 [00:02<00:06,  2.10s/it]"
          ]
        },
        {
          "output_type": "stream",
          "name": "stdout",
          "text": [
            "2/2 [==============================] - 0s 3ms/step\n"
          ]
        },
        {
          "output_type": "stream",
          "name": "stderr",
          "text": [
            "\rprice-only-cls-dense:  50%|█████     | 2/4 [00:03<00:02,  1.45s/it]"
          ]
        },
        {
          "output_type": "stream",
          "name": "stdout",
          "text": [
            "2/2 [==============================] - 0s 4ms/step\n"
          ]
        },
        {
          "output_type": "stream",
          "name": "stderr",
          "text": [
            "\rprice-only-cls-dense:  75%|███████▌  | 3/4 [00:04<00:01,  1.32s/it]"
          ]
        },
        {
          "output_type": "stream",
          "name": "stdout",
          "text": [
            "2/2 [==============================] - 0s 3ms/step\n"
          ]
        },
        {
          "output_type": "stream",
          "name": "stderr",
          "text": [
            "price-only-cls-dense: 100%|██████████| 4/4 [00:05<00:00,  1.31s/it]\n",
            "price-only-cls-lstm:   0%|          | 0/4 [00:00<?, ?it/s]WARNING:tensorflow:5 out of the last 9 calls to <function Model.make_predict_function.<locals>.predict_function at 0x79a4a2c074c0> triggered tf.function retracing. Tracing is expensive and the excessive number of tracings could be due to (1) creating @tf.function repeatedly in a loop, (2) passing tensors with different shapes, (3) passing Python objects instead of tensors. For (1), please define your @tf.function outside of the loop. For (2), @tf.function has reduce_retracing=True option that can avoid unnecessary retracing. For (3), please refer to https://www.tensorflow.org/guide/function#controlling_retracing and https://www.tensorflow.org/api_docs/python/tf/function for  more details.\n"
          ]
        },
        {
          "output_type": "stream",
          "name": "stdout",
          "text": [
            "2/2 [==============================] - 1s 7ms/step\n"
          ]
        },
        {
          "output_type": "stream",
          "name": "stderr",
          "text": [
            "\rprice-only-cls-lstm:  25%|██▌       | 1/4 [00:10<00:31, 10.67s/it]WARNING:tensorflow:6 out of the last 11 calls to <function Model.make_predict_function.<locals>.predict_function at 0x79a4a5018360> triggered tf.function retracing. Tracing is expensive and the excessive number of tracings could be due to (1) creating @tf.function repeatedly in a loop, (2) passing tensors with different shapes, (3) passing Python objects instead of tensors. For (1), please define your @tf.function outside of the loop. For (2), @tf.function has reduce_retracing=True option that can avoid unnecessary retracing. For (3), please refer to https://www.tensorflow.org/guide/function#controlling_retracing and https://www.tensorflow.org/api_docs/python/tf/function for  more details.\n"
          ]
        },
        {
          "output_type": "stream",
          "name": "stdout",
          "text": [
            "2/2 [==============================] - 2s 7ms/step\n"
          ]
        },
        {
          "output_type": "stream",
          "name": "stderr",
          "text": [
            "\rprice-only-cls-lstm:  50%|█████     | 2/4 [00:19<00:19,  9.81s/it]"
          ]
        },
        {
          "output_type": "stream",
          "name": "stdout",
          "text": [
            "2/2 [==============================] - 1s 6ms/step\n"
          ]
        },
        {
          "output_type": "stream",
          "name": "stderr",
          "text": [
            "\rprice-only-cls-lstm:  75%|███████▌  | 3/4 [00:28<00:09,  9.06s/it]"
          ]
        },
        {
          "output_type": "stream",
          "name": "stdout",
          "text": [
            "2/2 [==============================] - 1s 6ms/step\n"
          ]
        },
        {
          "output_type": "stream",
          "name": "stderr",
          "text": [
            "price-only-cls-lstm: 100%|██████████| 4/4 [00:37<00:00,  9.40s/it]\n",
            "price-only-mean-dense:   0%|          | 0/4 [00:00<?, ?it/s]"
          ]
        },
        {
          "output_type": "stream",
          "name": "stdout",
          "text": [
            "2/2 [==============================] - 0s 4ms/step\n"
          ]
        },
        {
          "output_type": "stream",
          "name": "stderr",
          "text": [
            "\rprice-only-mean-dense:  25%|██▌       | 1/4 [00:00<00:02,  1.02it/s]"
          ]
        },
        {
          "output_type": "stream",
          "name": "stdout",
          "text": [
            "2/2 [==============================] - 0s 4ms/step\n"
          ]
        },
        {
          "output_type": "stream",
          "name": "stderr",
          "text": [
            "\rprice-only-mean-dense:  50%|█████     | 2/4 [00:01<00:01,  1.01it/s]"
          ]
        },
        {
          "output_type": "stream",
          "name": "stdout",
          "text": [
            "2/2 [==============================] - 0s 4ms/step\n"
          ]
        },
        {
          "output_type": "stream",
          "name": "stderr",
          "text": [
            "\rprice-only-mean-dense:  75%|███████▌  | 3/4 [00:02<00:01,  1.00s/it]"
          ]
        },
        {
          "output_type": "stream",
          "name": "stdout",
          "text": [
            "2/2 [==============================] - 0s 3ms/step\n"
          ]
        },
        {
          "output_type": "stream",
          "name": "stderr",
          "text": [
            "price-only-mean-dense: 100%|██████████| 4/4 [00:04<00:00,  1.04s/it]\n",
            "price-only-mean-lstm:   0%|          | 0/4 [00:00<?, ?it/s]"
          ]
        },
        {
          "output_type": "stream",
          "name": "stdout",
          "text": [
            "2/2 [==============================] - 1s 6ms/step\n"
          ]
        },
        {
          "output_type": "stream",
          "name": "stderr",
          "text": [
            "\rprice-only-mean-lstm:  25%|██▌       | 1/4 [00:09<00:27,  9.07s/it]"
          ]
        },
        {
          "output_type": "stream",
          "name": "stdout",
          "text": [
            "2/2 [==============================] - 1s 6ms/step\n"
          ]
        },
        {
          "output_type": "stream",
          "name": "stderr",
          "text": [
            "\rprice-only-mean-lstm:  50%|█████     | 2/4 [00:18<00:18,  9.30s/it]"
          ]
        },
        {
          "output_type": "stream",
          "name": "stdout",
          "text": [
            "2/2 [==============================] - 1s 6ms/step\n"
          ]
        },
        {
          "output_type": "stream",
          "name": "stderr",
          "text": [
            "\rprice-only-mean-lstm:  75%|███████▌  | 3/4 [00:27<00:09,  9.21s/it]"
          ]
        },
        {
          "output_type": "stream",
          "name": "stdout",
          "text": [
            "2/2 [==============================] - 1s 7ms/step\n"
          ]
        },
        {
          "output_type": "stream",
          "name": "stderr",
          "text": [
            "price-only-mean-lstm: 100%|██████████| 4/4 [00:36<00:00,  9.14s/it]\n",
            "price-only-max-dense:   0%|          | 0/4 [00:00<?, ?it/s]"
          ]
        },
        {
          "output_type": "stream",
          "name": "stdout",
          "text": [
            "2/2 [==============================] - 0s 4ms/step\n"
          ]
        },
        {
          "output_type": "stream",
          "name": "stderr",
          "text": [
            "\rprice-only-max-dense:  25%|██▌       | 1/4 [00:00<00:02,  1.00it/s]"
          ]
        },
        {
          "output_type": "stream",
          "name": "stdout",
          "text": [
            "2/2 [==============================] - 0s 4ms/step\n"
          ]
        },
        {
          "output_type": "stream",
          "name": "stderr",
          "text": [
            "\rprice-only-max-dense:  50%|█████     | 2/4 [00:02<00:02,  1.10s/it]"
          ]
        },
        {
          "output_type": "stream",
          "name": "stdout",
          "text": [
            "2/2 [==============================] - 0s 4ms/step\n"
          ]
        },
        {
          "output_type": "stream",
          "name": "stderr",
          "text": [
            "\rprice-only-max-dense:  75%|███████▌  | 3/4 [00:03<00:01,  1.14s/it]"
          ]
        },
        {
          "output_type": "stream",
          "name": "stdout",
          "text": [
            "2/2 [==============================] - 0s 3ms/step\n"
          ]
        },
        {
          "output_type": "stream",
          "name": "stderr",
          "text": [
            "price-only-max-dense: 100%|██████████| 4/4 [00:04<00:00,  1.17s/it]\n",
            "price-only-max-lstm:   0%|          | 0/4 [00:00<?, ?it/s]"
          ]
        },
        {
          "output_type": "stream",
          "name": "stdout",
          "text": [
            "2/2 [==============================] - 1s 6ms/step\n"
          ]
        },
        {
          "output_type": "stream",
          "name": "stderr",
          "text": [
            "\rprice-only-max-lstm:  25%|██▌       | 1/4 [00:08<00:26,  8.69s/it]"
          ]
        },
        {
          "output_type": "stream",
          "name": "stdout",
          "text": [
            "2/2 [==============================] - 1s 6ms/step\n"
          ]
        },
        {
          "output_type": "stream",
          "name": "stderr",
          "text": [
            "\rprice-only-max-lstm:  50%|█████     | 2/4 [00:18<00:18,  9.30s/it]"
          ]
        },
        {
          "output_type": "stream",
          "name": "stdout",
          "text": [
            "2/2 [==============================] - 2s 8ms/step\n"
          ]
        },
        {
          "output_type": "stream",
          "name": "stderr",
          "text": [
            "\rprice-only-max-lstm:  75%|███████▌  | 3/4 [00:27<00:09,  9.04s/it]"
          ]
        },
        {
          "output_type": "stream",
          "name": "stdout",
          "text": [
            "2/2 [==============================] - 1s 7ms/step\n"
          ]
        },
        {
          "output_type": "stream",
          "name": "stderr",
          "text": [
            "price-only-max-lstm: 100%|██████████| 4/4 [00:35<00:00,  8.91s/it]\n",
            "sentiment-only-cls-dense:   0%|          | 0/4 [00:00<?, ?it/s]"
          ]
        },
        {
          "output_type": "stream",
          "name": "stdout",
          "text": [
            "2/2 [==============================] - 0s 4ms/step\n"
          ]
        },
        {
          "output_type": "stream",
          "name": "stderr",
          "text": [
            "\rsentiment-only-cls-dense:  25%|██▌       | 1/4 [00:01<00:03,  1.06s/it]"
          ]
        },
        {
          "output_type": "stream",
          "name": "stdout",
          "text": [
            "2/2 [==============================] - 0s 4ms/step\n"
          ]
        },
        {
          "output_type": "stream",
          "name": "stderr",
          "text": [
            "\rsentiment-only-cls-dense:  50%|█████     | 2/4 [00:02<00:02,  1.04s/it]"
          ]
        },
        {
          "output_type": "stream",
          "name": "stdout",
          "text": [
            "2/2 [==============================] - 0s 5ms/step\n"
          ]
        },
        {
          "output_type": "stream",
          "name": "stderr",
          "text": [
            "\rsentiment-only-cls-dense:  75%|███████▌  | 3/4 [00:04<00:01,  1.47s/it]"
          ]
        },
        {
          "output_type": "stream",
          "name": "stdout",
          "text": [
            "2/2 [==============================] - 0s 3ms/step\n"
          ]
        },
        {
          "output_type": "stream",
          "name": "stderr",
          "text": [
            "sentiment-only-cls-dense: 100%|██████████| 4/4 [00:05<00:00,  1.34s/it]\n",
            "sentiment-only-cls-lstm:   0%|          | 0/4 [00:00<?, ?it/s]"
          ]
        },
        {
          "output_type": "stream",
          "name": "stdout",
          "text": [
            "2/2 [==============================] - 1s 7ms/step\n"
          ]
        },
        {
          "output_type": "stream",
          "name": "stderr",
          "text": [
            "\rsentiment-only-cls-lstm:  25%|██▌       | 1/4 [00:08<00:24,  8.20s/it]"
          ]
        },
        {
          "output_type": "stream",
          "name": "stdout",
          "text": [
            "2/2 [==============================] - 1s 13ms/step\n"
          ]
        },
        {
          "output_type": "stream",
          "name": "stderr",
          "text": [
            "\rsentiment-only-cls-lstm:  50%|█████     | 2/4 [00:18<00:18,  9.30s/it]"
          ]
        },
        {
          "output_type": "stream",
          "name": "stdout",
          "text": [
            "2/2 [==============================] - 1s 6ms/step\n"
          ]
        },
        {
          "output_type": "stream",
          "name": "stderr",
          "text": [
            "\rsentiment-only-cls-lstm:  75%|███████▌  | 3/4 [00:27<00:09,  9.32s/it]"
          ]
        },
        {
          "output_type": "stream",
          "name": "stdout",
          "text": [
            "2/2 [==============================] - 1s 9ms/step\n"
          ]
        },
        {
          "output_type": "stream",
          "name": "stderr",
          "text": [
            "sentiment-only-cls-lstm: 100%|██████████| 4/4 [00:35<00:00,  8.98s/it]\n",
            "sentiment-only-mean-dense:   0%|          | 0/4 [00:00<?, ?it/s]"
          ]
        },
        {
          "output_type": "stream",
          "name": "stdout",
          "text": [
            "2/2 [==============================] - 0s 7ms/step\n"
          ]
        },
        {
          "output_type": "stream",
          "name": "stderr",
          "text": [
            "\rsentiment-only-mean-dense:  25%|██▌       | 1/4 [00:02<00:06,  2.07s/it]"
          ]
        },
        {
          "output_type": "stream",
          "name": "stdout",
          "text": [
            "2/2 [==============================] - 0s 4ms/step\n"
          ]
        },
        {
          "output_type": "stream",
          "name": "stderr",
          "text": [
            "\rsentiment-only-mean-dense:  50%|█████     | 2/4 [00:03<00:02,  1.50s/it]"
          ]
        },
        {
          "output_type": "stream",
          "name": "stdout",
          "text": [
            "2/2 [==============================] - 0s 4ms/step\n"
          ]
        },
        {
          "output_type": "stream",
          "name": "stderr",
          "text": [
            "\rsentiment-only-mean-dense:  75%|███████▌  | 3/4 [00:04<00:01,  1.36s/it]"
          ]
        },
        {
          "output_type": "stream",
          "name": "stdout",
          "text": [
            "2/2 [==============================] - 0s 4ms/step\n"
          ]
        },
        {
          "output_type": "stream",
          "name": "stderr",
          "text": [
            "sentiment-only-mean-dense: 100%|██████████| 4/4 [00:05<00:00,  1.34s/it]\n",
            "sentiment-only-mean-lstm:   0%|          | 0/4 [00:00<?, ?it/s]"
          ]
        },
        {
          "output_type": "stream",
          "name": "stdout",
          "text": [
            "2/2 [==============================] - 2s 7ms/step\n"
          ]
        },
        {
          "output_type": "stream",
          "name": "stderr",
          "text": [
            "\rsentiment-only-mean-lstm:  25%|██▌       | 1/4 [00:08<00:25,  8.64s/it]"
          ]
        },
        {
          "output_type": "stream",
          "name": "stdout",
          "text": [
            "2/2 [==============================] - 1s 7ms/step\n"
          ]
        },
        {
          "output_type": "stream",
          "name": "stderr",
          "text": [
            "\rsentiment-only-mean-lstm:  50%|█████     | 2/4 [00:18<00:18,  9.33s/it]"
          ]
        },
        {
          "output_type": "stream",
          "name": "stdout",
          "text": [
            "2/2 [==============================] - 1s 7ms/step\n"
          ]
        },
        {
          "output_type": "stream",
          "name": "stderr",
          "text": [
            "\rsentiment-only-mean-lstm:  75%|███████▌  | 3/4 [00:27<00:09,  9.16s/it]"
          ]
        },
        {
          "output_type": "stream",
          "name": "stdout",
          "text": [
            "2/2 [==============================] - 1s 7ms/step\n"
          ]
        },
        {
          "output_type": "stream",
          "name": "stderr",
          "text": [
            "sentiment-only-mean-lstm: 100%|██████████| 4/4 [00:36<00:00,  9.15s/it]\n",
            "sentiment-only-max-dense:   0%|          | 0/4 [00:00<?, ?it/s]"
          ]
        },
        {
          "output_type": "stream",
          "name": "stdout",
          "text": [
            "2/2 [==============================] - 0s 4ms/step\n"
          ]
        },
        {
          "output_type": "stream",
          "name": "stderr",
          "text": [
            "\rsentiment-only-max-dense:  25%|██▌       | 1/4 [00:01<00:03,  1.19s/it]"
          ]
        },
        {
          "output_type": "stream",
          "name": "stdout",
          "text": [
            "2/2 [==============================] - 0s 4ms/step\n"
          ]
        },
        {
          "output_type": "stream",
          "name": "stderr",
          "text": [
            "\rsentiment-only-max-dense:  50%|█████     | 2/4 [00:02<00:02,  1.08s/it]"
          ]
        },
        {
          "output_type": "stream",
          "name": "stdout",
          "text": [
            "2/2 [==============================] - 0s 4ms/step\n"
          ]
        },
        {
          "output_type": "stream",
          "name": "stderr",
          "text": [
            "\rsentiment-only-max-dense:  75%|███████▌  | 3/4 [00:03<00:01,  1.05s/it]"
          ]
        },
        {
          "output_type": "stream",
          "name": "stdout",
          "text": [
            "2/2 [==============================] - 0s 4ms/step\n"
          ]
        },
        {
          "output_type": "stream",
          "name": "stderr",
          "text": [
            "sentiment-only-max-dense: 100%|██████████| 4/4 [00:04<00:00,  1.05s/it]\n",
            "sentiment-only-max-lstm:   0%|          | 0/4 [00:00<?, ?it/s]"
          ]
        },
        {
          "output_type": "stream",
          "name": "stdout",
          "text": [
            "2/2 [==============================] - 1s 6ms/step\n"
          ]
        },
        {
          "output_type": "stream",
          "name": "stderr",
          "text": [
            "\rsentiment-only-max-lstm:  25%|██▌       | 1/4 [00:09<00:27,  9.10s/it]"
          ]
        },
        {
          "output_type": "stream",
          "name": "stdout",
          "text": [
            "2/2 [==============================] - 1s 7ms/step\n"
          ]
        },
        {
          "output_type": "stream",
          "name": "stderr",
          "text": [
            "\rsentiment-only-max-lstm:  50%|█████     | 2/4 [00:17<00:16,  8.48s/it]"
          ]
        },
        {
          "output_type": "stream",
          "name": "stdout",
          "text": [
            "2/2 [==============================] - 1s 7ms/step\n"
          ]
        },
        {
          "output_type": "stream",
          "name": "stderr",
          "text": [
            "\rsentiment-only-max-lstm:  75%|███████▌  | 3/4 [00:27<00:09,  9.39s/it]"
          ]
        },
        {
          "output_type": "stream",
          "name": "stdout",
          "text": [
            "2/2 [==============================] - 1s 7ms/step\n"
          ]
        },
        {
          "output_type": "stream",
          "name": "stderr",
          "text": [
            "sentiment-only-max-lstm: 100%|██████████| 4/4 [00:36<00:00,  9.24s/it]\n",
            "combined-cls-dense:   0%|          | 0/4 [00:00<?, ?it/s]"
          ]
        },
        {
          "output_type": "stream",
          "name": "stdout",
          "text": [
            "2/2 [==============================] - 0s 4ms/step\n"
          ]
        },
        {
          "output_type": "stream",
          "name": "stderr",
          "text": [
            "\rcombined-cls-dense:  25%|██▌       | 1/4 [00:01<00:03,  1.07s/it]"
          ]
        },
        {
          "output_type": "stream",
          "name": "stdout",
          "text": [
            "2/2 [==============================] - 0s 4ms/step\n"
          ]
        },
        {
          "output_type": "stream",
          "name": "stderr",
          "text": [
            "\rcombined-cls-dense:  50%|█████     | 2/4 [00:02<00:02,  1.05s/it]"
          ]
        },
        {
          "output_type": "stream",
          "name": "stdout",
          "text": [
            "2/2 [==============================] - 0s 3ms/step\n"
          ]
        },
        {
          "output_type": "stream",
          "name": "stderr",
          "text": [
            "\rcombined-cls-dense:  75%|███████▌  | 3/4 [00:03<00:01,  1.12s/it]"
          ]
        },
        {
          "output_type": "stream",
          "name": "stdout",
          "text": [
            "2/2 [==============================] - 0s 4ms/step\n"
          ]
        },
        {
          "output_type": "stream",
          "name": "stderr",
          "text": [
            "combined-cls-dense: 100%|██████████| 4/4 [00:04<00:00,  1.13s/it]\n",
            "combined-cls-lstm:   0%|          | 0/4 [00:00<?, ?it/s]"
          ]
        },
        {
          "output_type": "stream",
          "name": "stdout",
          "text": [
            "2/2 [==============================] - 1s 6ms/step\n"
          ]
        },
        {
          "output_type": "stream",
          "name": "stderr",
          "text": [
            "\rcombined-cls-lstm:  25%|██▌       | 1/4 [00:09<00:27,  9.08s/it]"
          ]
        },
        {
          "output_type": "stream",
          "name": "stdout",
          "text": [
            "2/2 [==============================] - 2s 9ms/step\n"
          ]
        },
        {
          "output_type": "stream",
          "name": "stderr",
          "text": [
            "\rcombined-cls-lstm:  50%|█████     | 2/4 [00:17<00:17,  8.81s/it]"
          ]
        },
        {
          "output_type": "stream",
          "name": "stdout",
          "text": [
            "2/2 [==============================] - 1s 7ms/step\n"
          ]
        },
        {
          "output_type": "stream",
          "name": "stderr",
          "text": [
            "\rcombined-cls-lstm:  75%|███████▌  | 3/4 [00:26<00:08,  8.67s/it]"
          ]
        },
        {
          "output_type": "stream",
          "name": "stdout",
          "text": [
            "2/2 [==============================] - 1s 7ms/step\n"
          ]
        },
        {
          "output_type": "stream",
          "name": "stderr",
          "text": [
            "combined-cls-lstm: 100%|██████████| 4/4 [00:35<00:00,  8.84s/it]\n",
            "combined-mean-dense:   0%|          | 0/4 [00:00<?, ?it/s]"
          ]
        },
        {
          "output_type": "stream",
          "name": "stdout",
          "text": [
            "2/2 [==============================] - 0s 5ms/step\n"
          ]
        },
        {
          "output_type": "stream",
          "name": "stderr",
          "text": [
            "\rcombined-mean-dense:  25%|██▌       | 1/4 [00:01<00:03,  1.23s/it]"
          ]
        },
        {
          "output_type": "stream",
          "name": "stdout",
          "text": [
            "2/2 [==============================] - 0s 4ms/step\n"
          ]
        },
        {
          "output_type": "stream",
          "name": "stderr",
          "text": [
            "\rcombined-mean-dense:  50%|█████     | 2/4 [00:02<00:02,  1.21s/it]"
          ]
        },
        {
          "output_type": "stream",
          "name": "stdout",
          "text": [
            "2/2 [==============================] - 0s 4ms/step\n"
          ]
        },
        {
          "output_type": "stream",
          "name": "stderr",
          "text": [
            "\rcombined-mean-dense:  75%|███████▌  | 3/4 [00:03<00:01,  1.20s/it]"
          ]
        },
        {
          "output_type": "stream",
          "name": "stdout",
          "text": [
            "2/2 [==============================] - 0s 5ms/step\n"
          ]
        },
        {
          "output_type": "stream",
          "name": "stderr",
          "text": [
            "combined-mean-dense: 100%|██████████| 4/4 [00:04<00:00,  1.16s/it]\n",
            "combined-mean-lstm:   0%|          | 0/4 [00:00<?, ?it/s]"
          ]
        },
        {
          "output_type": "stream",
          "name": "stdout",
          "text": [
            "2/2 [==============================] - 1s 7ms/step\n"
          ]
        },
        {
          "output_type": "stream",
          "name": "stderr",
          "text": [
            "\rcombined-mean-lstm:  25%|██▌       | 1/4 [00:10<00:32, 10.81s/it]"
          ]
        },
        {
          "output_type": "stream",
          "name": "stdout",
          "text": [
            "2/2 [==============================] - 1s 7ms/step\n"
          ]
        },
        {
          "output_type": "stream",
          "name": "stderr",
          "text": [
            "\rcombined-mean-lstm:  50%|█████     | 2/4 [00:20<00:19,  9.95s/it]"
          ]
        },
        {
          "output_type": "stream",
          "name": "stdout",
          "text": [
            "2/2 [==============================] - 1s 7ms/step\n"
          ]
        },
        {
          "output_type": "stream",
          "name": "stderr",
          "text": [
            "\rcombined-mean-lstm:  75%|███████▌  | 3/4 [00:28<00:09,  9.17s/it]"
          ]
        },
        {
          "output_type": "stream",
          "name": "stdout",
          "text": [
            "2/2 [==============================] - 1s 7ms/step\n"
          ]
        },
        {
          "output_type": "stream",
          "name": "stderr",
          "text": [
            "combined-mean-lstm: 100%|██████████| 4/4 [00:37<00:00,  9.40s/it]\n",
            "combined-max-dense:   0%|          | 0/4 [00:00<?, ?it/s]"
          ]
        },
        {
          "output_type": "stream",
          "name": "stdout",
          "text": [
            "2/2 [==============================] - 0s 4ms/step\n"
          ]
        },
        {
          "output_type": "stream",
          "name": "stderr",
          "text": [
            "\rcombined-max-dense:  25%|██▌       | 1/4 [00:01<00:03,  1.25s/it]"
          ]
        },
        {
          "output_type": "stream",
          "name": "stdout",
          "text": [
            "2/2 [==============================] - 0s 4ms/step\n"
          ]
        },
        {
          "output_type": "stream",
          "name": "stderr",
          "text": [
            "\rcombined-max-dense:  50%|█████     | 2/4 [00:02<00:02,  1.24s/it]"
          ]
        },
        {
          "output_type": "stream",
          "name": "stdout",
          "text": [
            "2/2 [==============================] - 0s 4ms/step\n"
          ]
        },
        {
          "output_type": "stream",
          "name": "stderr",
          "text": [
            "\rcombined-max-dense:  75%|███████▌  | 3/4 [00:03<00:01,  1.13s/it]"
          ]
        },
        {
          "output_type": "stream",
          "name": "stdout",
          "text": [
            "2/2 [==============================] - 0s 3ms/step\n"
          ]
        },
        {
          "output_type": "stream",
          "name": "stderr",
          "text": [
            "combined-max-dense: 100%|██████████| 4/4 [00:05<00:00,  1.35s/it]\n",
            "combined-max-lstm:   0%|          | 0/4 [00:00<?, ?it/s]"
          ]
        },
        {
          "output_type": "stream",
          "name": "stdout",
          "text": [
            "2/2 [==============================] - 1s 6ms/step\n"
          ]
        },
        {
          "output_type": "stream",
          "name": "stderr",
          "text": [
            "\rcombined-max-lstm:  25%|██▌       | 1/4 [00:08<00:25,  8.48s/it]"
          ]
        },
        {
          "output_type": "stream",
          "name": "stdout",
          "text": [
            "2/2 [==============================] - 1s 7ms/step\n"
          ]
        },
        {
          "output_type": "stream",
          "name": "stderr",
          "text": [
            "\rcombined-max-lstm:  50%|█████     | 2/4 [00:17<00:17,  8.86s/it]"
          ]
        },
        {
          "output_type": "stream",
          "name": "stdout",
          "text": [
            "2/2 [==============================] - 2s 8ms/step\n"
          ]
        },
        {
          "output_type": "stream",
          "name": "stderr",
          "text": [
            "\rcombined-max-lstm:  75%|███████▌  | 3/4 [00:26<00:08,  8.96s/it]"
          ]
        },
        {
          "output_type": "stream",
          "name": "stdout",
          "text": [
            "2/2 [==============================] - 1s 7ms/step\n"
          ]
        },
        {
          "output_type": "stream",
          "name": "stderr",
          "text": [
            "combined-max-lstm: 100%|██████████| 4/4 [00:37<00:00,  9.31s/it]"
          ]
        },
        {
          "output_type": "stream",
          "name": "stdout",
          "text": [
            "✅ All results saved to: /content/drive/MyDrive/DataSci266_Final_Project/combined_lstm_results/final_model_comparison.csv\n"
          ]
        },
        {
          "output_type": "stream",
          "name": "stderr",
          "text": [
            "\n"
          ]
        }
      ]
    },
    {
      "cell_type": "code",
      "source": [
        "print(\"✅ All results saved to:\", output_path)\n",
        "\n",
        "# Plot comparison\n",
        "if not binary:\n",
        "    plt.figure(figsize=(10, 6))\n",
        "    sns.barplot(data=result_df, x=\"Embedding\", y=\"MAE\", hue=\"FeatureSet\")\n",
        "    plt.title(\"MAE by Feature Set and Embedding\")\n",
        "    plt.tight_layout()\n",
        "    plt.savefig(f\"{results_dir}/mae_feature_comparison.png\")\n",
        "    plt.show()\n",
        "\n",
        "    plt.figure(figsize=(10, 6))\n",
        "    sns.barplot(data=result_df, x=\"Embedding\", y=\"Accuracy\", hue=\"FeatureSet\")\n",
        "    plt.title(\"Accuracy by Feature Set and Embedding\")\n",
        "    plt.tight_layout()\n",
        "    plt.savefig(f\"{results_dir}/accuracy_feature_comparison.png\")\n",
        "    plt.show()\n",
        "else:\n",
        "    plt.figure(figsize=(10, 6))\n",
        "    sns.barplot(data=result_df, x=\"Embedding\", y=\"Accuracy\", hue=\"FeatureSet\")\n",
        "    plt.title(\"Binary Classification Accuracy\")\n",
        "    plt.tight_layout()\n",
        "    plt.savefig(f\"{results_dir}/binary_accuracy_comparison.png\")\n",
        "    plt.show()\n",
        "\n",
        "# Export summary table\n",
        "summary_cols = ['Model', 'Embedding', 'FeatureSet']\n",
        "metrics = ['MAE', 'Accuracy'] if not binary else ['Accuracy', 'AUC']\n",
        "summary = result_df.groupby(summary_cols)[metrics].mean().reset_index()\n",
        "summary.to_csv(f\"{results_dir}/summary_metrics_by_feature.csv\", index=False)\n",
        "print(\"✅ Exported summary table to summary_metrics_by_feature.csv\")\n",
        "print(summary.head())"
      ],
      "metadata": {
        "colab": {
          "base_uri": "https://localhost:8080/",
          "height": 1000
        },
        "id": "Rk3-xxs1QqLE",
        "outputId": "d30ec720-9d80-4285-fa38-9367e25a849a"
      },
      "execution_count": 32,
      "outputs": [
        {
          "output_type": "stream",
          "name": "stdout",
          "text": [
            "✅ All results saved to: /content/drive/MyDrive/DataSci266_Final_Project/combined_lstm_results/final_model_comparison.csv\n"
          ]
        },
        {
          "output_type": "display_data",
          "data": {
            "text/plain": [
              "<Figure size 1000x600 with 1 Axes>"
            ],
            "image/png": "[encoded data removed]"
          },
          "metadata": {}
        },
        {
          "output_type": "display_data",
          "data": {
            "text/plain": [
              "<Figure size 1000x600 with 1 Axes>"
            ],
            "image/png": "[encoded data removed]"
          },
          "metadata": {}
        },
        {
          "output_type": "stream",
          "name": "stdout",
          "text": [
            "✅ Exported summary table to summary_metrics_by_feature.csv\n",
            "   Model Embedding      FeatureSet       MAE  Accuracy\n",
            "0  DENSE       cls        combined  0.062309  0.512712\n",
            "1  DENSE       cls      price-only  0.941865  0.495763\n",
            "2  DENSE       cls  sentiment-only  0.119168  0.504237\n",
            "3  DENSE       max        combined  0.026856  0.483051\n",
            "4  DENSE       max      price-only  1.562385  0.521186\n"
          ]
        }
      ]
    }
  ]
}